{
 "cells": [
  {
   "cell_type": "markdown",
   "id": "bebbcdb8",
   "metadata": {},
   "source": [
    "**17. Write a function that takes a list of numbers as input and returns a new list containing only the even numbers from the input list. Use list comprehension to solve this problem.**"
   ]
  },
  {
   "cell_type": "code",
   "execution_count": 1,
   "id": "32cb2aaa",
   "metadata": {},
   "outputs": [],
   "source": [
    "def find_even(lst):\n",
    "    try:\n",
    "        return [x for x in lst if x%2==0]\n",
    "    except Exception as e:\n",
    "        raise e"
   ]
  },
  {
   "cell_type": "code",
   "execution_count": 2,
   "id": "350f518b",
   "metadata": {},
   "outputs": [
    {
     "data": {
      "text/plain": [
       "[2, 4, 6, 8, 10]"
      ]
     },
     "execution_count": 2,
     "metadata": {},
     "output_type": "execute_result"
    }
   ],
   "source": [
    "lst = [1, 2, 3, 4\n",
    "       , 5, 6, 7, 8, 9, 10]\n",
    "find_even(lst)"
   ]
  },
  {
   "cell_type": "markdown",
   "id": "951f40eb",
   "metadata": {},
   "source": [
    "**18. Implement a decorator function called ‘timer’ that measures the execution time of a function. The ‘timer’ decorator should print the time taken by the decorated function to execute. Use the ‘time’ module in Python to calculate the execution time.**"
   ]
  },
  {
   "cell_type": "code",
   "execution_count": 5,
   "id": "b36471f2",
   "metadata": {},
   "outputs": [
    {
     "name": "stdout",
     "output_type": "stream",
     "text": [
      "0\n",
      "1\n",
      "2\n",
      "3\n",
      "4\n",
      "5\n",
      "6\n",
      "7\n",
      "8\n",
      "9\n",
      "10\n",
      "11\n",
      "12\n",
      "13\n",
      "14\n",
      "15\n",
      "16\n",
      "17\n",
      "18\n",
      "19\n",
      "Function 'my_function' executed in 0.0010s\n"
     ]
    }
   ],
   "source": [
    "from time import time\n",
    "\n",
    "def timer(func):\n",
    "    def wrap(*args,**kwargs):\n",
    "        t1 = time()\n",
    "        result = func(*args,**kwargs)\n",
    "        t2 = time()\n",
    "        print(f'Function {func.__name__!r} executed in {(t2-t1):.4f}s')\n",
    "        return result\n",
    "    return wrap\n",
    "\n",
    "@timer\n",
    "def my_function():\n",
    "    for i in range(20):\n",
    "        print(i)\n",
    "\n",
    "my_function()\n",
    "        "
   ]
  },
  {
   "cell_type": "markdown",
   "id": "bfe560a7",
   "metadata": {},
   "source": [
    "**19. Write a function called ‘calculate_mean’ that takes a list of numbers as input and returns the mean (average) of the numbers. The function should calculate the mean using the sum of the numbers divided by the total count.**"
   ]
  },
  {
   "cell_type": "code",
   "execution_count": 6,
   "id": "27e081dd",
   "metadata": {},
   "outputs": [],
   "source": [
    "def calculate_mean(lst):\n",
    "    try:\n",
    "        return sum(lst)/len(lst)\n",
    "    except Exception as e:\n",
    "        raise e"
   ]
  },
  {
   "cell_type": "code",
   "execution_count": 7,
   "id": "0bb52ba5",
   "metadata": {},
   "outputs": [
    {
     "name": "stdout",
     "output_type": "stream",
     "text": [
      "Mean: 20.0\n"
     ]
    }
   ],
   "source": [
    "data = [10, 15, 20, 25, 30]\n",
    "mean_value = calculate_mean(data)\n",
    "print(\"Mean:\", mean_value)"
   ]
  },
  {
   "cell_type": "markdown",
   "id": "1ea9d095",
   "metadata": {},
   "source": [
    "**20. Write a function called ‘perform_hypothesis_test’ that takes two lists of numbers as input, representing two samples. The function should perform a two-sample t-test and return the p-value. Use the ‘scipy.stats’ module in Python to calculate the t-test and p-value.**"
   ]
  },
  {
   "cell_type": "code",
   "execution_count": 8,
   "id": "d1dbdd87",
   "metadata": {},
   "outputs": [],
   "source": [
    "from scipy import stats\n",
    "\n",
    "def perform_hypothesis_test(lst1, lst2):\n",
    "    try:\n",
    "        t_statistic, p_value = stats.ttest_ind(lst1, lst2)\n",
    "        return p_value\n",
    "    except Exception as e:\n",
    "        raise e"
   ]
  },
  {
   "cell_type": "code",
   "execution_count": 9,
   "id": "c6490bfa",
   "metadata": {},
   "outputs": [
    {
     "name": "stdout",
     "output_type": "stream",
     "text": [
      "P-value: 0.09434977284243756\n"
     ]
    }
   ],
   "source": [
    "sample1 = [5, 10, 15, 20, 25]\n",
    "sample2 = [10, 20, 30, 40, 50]\n",
    "p_value = perform_hypothesis_test(sample1, sample2)\n",
    "print(\"P-value:\", p_value)"
   ]
  },
  {
   "cell_type": "code",
   "execution_count": null,
   "id": "542b882a",
   "metadata": {},
   "outputs": [],
   "source": []
  },
  {
   "cell_type": "code",
   "execution_count": null,
   "id": "2066e4f0",
   "metadata": {},
   "outputs": [],
   "source": []
  }
 ],
 "metadata": {
  "kernelspec": {
   "display_name": "Python 3 (ipykernel)",
   "language": "python",
   "name": "python3"
  },
  "language_info": {
   "codemirror_mode": {
    "name": "ipython",
    "version": 3
   },
   "file_extension": ".py",
   "mimetype": "text/x-python",
   "name": "python",
   "nbconvert_exporter": "python",
   "pygments_lexer": "ipython3",
   "version": "3.9.12"
  }
 },
 "nbformat": 4,
 "nbformat_minor": 5
}
