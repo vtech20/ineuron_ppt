{
 "cells": [
  {
   "cell_type": "markdown",
   "id": "7f436245",
   "metadata": {},
   "source": [
    "<aside>\n",
    "💡 **Question 1**\n",
    "\n",
    "Given a singly linked list, delete **middle** of the linked list. For example, if given linked list is 1->2->**3**->4->5 then linked list should be modified to 1->2->4->5.If there are **even** nodes, then there would be **two middle** nodes, we need to delete the second middle element. For example, if given linked list is 1->2->3->4->5->6 then it should be modified to 1->2->3->5->6.If the input linked list is NULL or has 1 node, then it should return NULL\n",
    "\n",
    "</aside>\n",
    "\n",
    "\n",
    "**Example 1:**\n",
    "\n",
    "```\n",
    "Input:\n",
    "LinkedList: 1->2->3->4->5\n",
    "Output:1 2 4 5\n",
    "\n",
    "```\n",
    "\n",
    "**Example 2:**\n",
    "```\n",
    "Input:\n",
    "LinkedList: 2->4->6->7->5->1\n",
    "Output:2 4 6 5 1\n",
    "\n",
    "```"
   ]
  },
  {
   "cell_type": "code",
   "execution_count": 1,
   "id": "8b40a355",
   "metadata": {},
   "outputs": [],
   "source": [
    "class Node:\n",
    "    def __init__(self,data):\n",
    "        self.data = data\n",
    "        self.next = None\n",
    "\n",
    "class Linkedlist:\n",
    "    def __init__(self):\n",
    "        self.head = None\n",
    "    \n",
    "    # Add data to Nodes and new nodes to linked list\n",
    "    def add_nodes(self,data):\n",
    "        newnode = Node(data)\n",
    "        if self.head is None:\n",
    "            self.head = newnode\n",
    "            return\n",
    "        last = self.head\n",
    "        \n",
    "        while last.next:\n",
    "            last = last.next\n",
    "        \n",
    "        last.next = newnode\n",
    "        \n",
    "    #prints the linked list\n",
    "    def __str__(self):\n",
    "        linkedListStr = \"\"\n",
    "        temp = self.head\n",
    "        while temp:\n",
    "            linkedListStr += str(temp.data) + \"->\"\n",
    "            temp = temp.next\n",
    "        return linkedListStr + \"NULL\"\n",
    "    \n",
    "    #Delete middle node\n",
    "    \n",
    "    def deletemidnode(self):\n",
    "        if self.head is None or self.head.next is None:\n",
    "            return\n",
    "        \n",
    "        slow = self.head\n",
    "        fast = self.head\n",
    "        prev = None\n",
    "        \n",
    "        while fast and fast.next:\n",
    "            fast = fast.next.next\n",
    "            prev = slow\n",
    "            slow = slow.next\n",
    "        \n",
    "        prev.next = slow.next"
   ]
  },
  {
   "cell_type": "code",
   "execution_count": 2,
   "id": "88b0b7ca",
   "metadata": {},
   "outputs": [
    {
     "name": "stdout",
     "output_type": "stream",
     "text": [
      "Given Linked List\n",
      "1->2->4->5->NULL\n"
     ]
    }
   ],
   "source": [
    "linkedList = Linkedlist()\n",
    "linkedList.add_nodes(1)\n",
    "linkedList.add_nodes(2)\n",
    "linkedList.add_nodes(4)\n",
    "linkedList.add_nodes(5)\n",
    "print(\"Given Linked List\")\n",
    "print(linkedList)"
   ]
  },
  {
   "cell_type": "code",
   "execution_count": 4,
   "id": "8a0e2757",
   "metadata": {},
   "outputs": [],
   "source": [
    "linkedList.deletemidnode()"
   ]
  },
  {
   "cell_type": "code",
   "execution_count": 5,
   "id": "2a1d4bbb",
   "metadata": {},
   "outputs": [
    {
     "name": "stdout",
     "output_type": "stream",
     "text": [
      "1->2->5->NULL\n"
     ]
    }
   ],
   "source": [
    "print(linkedList)"
   ]
  },
  {
   "cell_type": "code",
   "execution_count": 6,
   "id": "e0cdc350",
   "metadata": {},
   "outputs": [
    {
     "name": "stdout",
     "output_type": "stream",
     "text": [
      "Given Linked List\n",
      "2->4->6->5->1->NULL\n"
     ]
    }
   ],
   "source": [
    "linkedList1 = Linkedlist()\n",
    "linkedList1.add_nodes(2)\n",
    "linkedList1.add_nodes(4)\n",
    "linkedList1.add_nodes(6)\n",
    "linkedList1.add_nodes(5)\n",
    "linkedList1.add_nodes(1)\n",
    "print(\"Given Linked List\")\n",
    "print(linkedList1)"
   ]
  },
  {
   "cell_type": "code",
   "execution_count": 7,
   "id": "93a19a51",
   "metadata": {},
   "outputs": [],
   "source": [
    "linkedList1.deletemidnode()"
   ]
  },
  {
   "cell_type": "code",
   "execution_count": 8,
   "id": "081bf52f",
   "metadata": {},
   "outputs": [
    {
     "name": "stdout",
     "output_type": "stream",
     "text": [
      "2->4->5->1->NULL\n"
     ]
    }
   ],
   "source": [
    "print(linkedList1)"
   ]
  },
  {
   "cell_type": "markdown",
   "id": "3f091da3",
   "metadata": {},
   "source": [
    "<aside>\n",
    "💡 **Question 2**\n",
    "\n",
    "Given a linked list of **N** nodes. The task is to check if the linked list has a loop. Linked list can contain self loop.\n",
    "\n",
    "**Example 1:**\n",
    "\n",
    "```\n",
    "Input:\n",
    "N = 3\n",
    "value[] = {1,3,4}\n",
    "x(position at which tail is connected) = 2\n",
    "Output:True\n",
    "Explanation:In above test case N = 3.\n",
    "The linked list with nodes N = 3 is\n",
    "given. Then value of x=2 is given which\n",
    "means last node is connected with xth\n",
    "node of linked list. Therefore, there\n",
    "exists a loop.\n",
    "```\n",
    "\n",
    "**Example 2:**\n",
    "    \n",
    "```\n",
    "Input:\n",
    "N = 4\n",
    "value[] = {1,8,3,4}\n",
    "x = 0\n",
    "Output:False\n",
    "Explanation:For N = 4 ,x = 0 means\n",
    "then lastNode->next = NULL, then\n",
    "the Linked list does not contains\n",
    "any loop.\n",
    "    \n",
    "```\n",
    "\n",
    "</aside>"
   ]
  },
  {
   "cell_type": "code",
   "execution_count": 9,
   "id": "c74f6347",
   "metadata": {},
   "outputs": [],
   "source": [
    "class Node:\n",
    "    def __init__(self,data):\n",
    "        self.data = data\n",
    "        self.next = None\n",
    "\n",
    "class Linkedlist:\n",
    "    def __init__(self):\n",
    "        self.head = None\n",
    "        \n",
    "    def push(self, data):\n",
    "        new_node = Node(data)\n",
    "        new_node.next = self.head\n",
    "        self.head = new_node\n",
    "    \n",
    "    def __str__(self):\n",
    "        linkedListStr = \"\"\n",
    "        temp = self.head\n",
    "        while temp:\n",
    "            linkedListStr += str(temp.data) + \"->\"\n",
    "            temp = temp.next\n",
    "        return linkedListStr + \"NULL\"\n",
    "    \n",
    "    def detect_loop(self):\n",
    "        slow = self.head\n",
    "        fast = self.head\n",
    "        while slow and fast and fast.next:\n",
    "            slow = slow.next\n",
    "            fast = fast.next.next\n",
    "            if slow == fast:\n",
    "                return 1\n",
    "        return 0"
   ]
  },
  {
   "cell_type": "code",
   "execution_count": 13,
   "id": "8250567e",
   "metadata": {},
   "outputs": [],
   "source": [
    "linkedList = Linkedlist()\n",
    "linkedList.push(1)\n",
    "linkedList.push(3)\n",
    "linkedList.push(4)\n",
    "linkedList.head.next.next = linkedList.head"
   ]
  },
  {
   "cell_type": "code",
   "execution_count": 14,
   "id": "066bed2d",
   "metadata": {},
   "outputs": [
    {
     "name": "stdout",
     "output_type": "stream",
     "text": [
      "Loop Found\n"
     ]
    }
   ],
   "source": [
    "if(linkedList.detect_loop()):\n",
    "    print(\"Loop Found\")\n",
    "else:\n",
    "    print(\"No Loop Found\")"
   ]
  },
  {
   "cell_type": "markdown",
   "id": "ff5b7da4",
   "metadata": {},
   "source": [
    "<aside>\n",
    "💡 **Question 3**\n",
    "\n",
    "Given a linked list consisting of **L** nodes and given a number **N**. The task is to find the **N**th node from the end of the linked list.\n",
    "\n",
    "**Example 1:**\n",
    "\n",
    "```\n",
    "Input:\n",
    "N = 2\n",
    "LinkedList: 1->2->3->4->5->6->7->8->9\n",
    "Output:8\n",
    "Explanation:In the first example, there\n",
    "are 9 nodes in linked list and we need\n",
    "to find 2nd node from end. 2nd node\n",
    "from end is 8.\n",
    "\n",
    "```\n",
    "\n",
    "**Example 2:**\n",
    "\n",
    "```\n",
    "Input:\n",
    "N = 5\n",
    "LinkedList: 10->5->100->5\n",
    "Output:-1\n",
    "Explanation:In the second example, there\n",
    "are 4 nodes in the linked list and we\n",
    "need to find 5th from the end. Since 'n'\n",
    "is more than the number of nodes in the\n",
    "linked list, the output is -1.\n",
    "\n",
    "```\n",
    "    \n",
    "</aside>"
   ]
  },
  {
   "cell_type": "code",
   "execution_count": 27,
   "id": "2f7b173d",
   "metadata": {},
   "outputs": [],
   "source": [
    "class Node:\n",
    "    def __init__(self,data):\n",
    "        self.data = data\n",
    "        self.next = None\n",
    "\n",
    "class Linkedlist:\n",
    "    def __init__(self,N):\n",
    "        self.head = None\n",
    "        self.N = N\n",
    "        \n",
    "    def push(self, data):\n",
    "        new_node = Node(data)\n",
    "        new_node.next = self.head\n",
    "        self.head = new_node\n",
    "    \n",
    "    def __str__(self):\n",
    "        linkedListStr = \"\"\n",
    "        temp = self.head\n",
    "        while temp:\n",
    "            linkedListStr += str(temp.data) + \"->\"\n",
    "            temp = temp.next\n",
    "        return linkedListStr + \"NULL\"\n",
    "    \n",
    "    def find_nth_from_end(self):\n",
    "        if self.N <=1 or self.head is None:\n",
    "            return -1\n",
    "        slow = self.head\n",
    "        fast = self.head\n",
    "        \n",
    "        for i in range(self.N):\n",
    "            fast = fast.next\n",
    "            if not fast:\n",
    "                return -1\n",
    "            \n",
    "        while fast:\n",
    "            fast = fast.next\n",
    "            slow = slow.next\n",
    "\n",
    "        return slow.data"
   ]
  },
  {
   "cell_type": "code",
   "execution_count": 28,
   "id": "15195984",
   "metadata": {},
   "outputs": [
    {
     "name": "stdout",
     "output_type": "stream",
     "text": [
      "Given Linked List\n",
      "1->2->3->4->5->6->7->8->9->NULL\n"
     ]
    }
   ],
   "source": [
    "N = 2\n",
    "linkedList = Linkedlist(N)\n",
    "linkedList.push(9)\n",
    "linkedList.push(8)\n",
    "linkedList.push(7)\n",
    "linkedList.push(6)\n",
    "linkedList.push(5)\n",
    "linkedList.push(4)\n",
    "linkedList.push(3)\n",
    "linkedList.push(2)\n",
    "linkedList.push(1)\n",
    "print(\"Given Linked List\")\n",
    "print(linkedList)"
   ]
  },
  {
   "cell_type": "code",
   "execution_count": 29,
   "id": "ae01ac92",
   "metadata": {},
   "outputs": [
    {
     "data": {
      "text/plain": [
       "8"
      ]
     },
     "execution_count": 29,
     "metadata": {},
     "output_type": "execute_result"
    }
   ],
   "source": [
    "linkedList.find_nth_from_end()"
   ]
  },
  {
   "cell_type": "code",
   "execution_count": 30,
   "id": "3b0028ea",
   "metadata": {},
   "outputs": [
    {
     "name": "stdout",
     "output_type": "stream",
     "text": [
      "Given Linked List\n",
      "10->5->100->5->NULL\n"
     ]
    }
   ],
   "source": [
    "N = 5\n",
    "linkedList = Linkedlist(N)\n",
    "linkedList.push(5)\n",
    "linkedList.push(100)\n",
    "linkedList.push(5)\n",
    "linkedList.push(10)\n",
    "print(\"Given Linked List\")\n",
    "print(linkedList)"
   ]
  },
  {
   "cell_type": "code",
   "execution_count": 31,
   "id": "311d0830",
   "metadata": {},
   "outputs": [
    {
     "data": {
      "text/plain": [
       "-1"
      ]
     },
     "execution_count": 31,
     "metadata": {},
     "output_type": "execute_result"
    }
   ],
   "source": [
    "linkedList.find_nth_from_end()"
   ]
  },
  {
   "cell_type": "markdown",
   "id": "643c1fc8",
   "metadata": {},
   "source": [
    "<aside>\n",
    "💡 **Question 4**\n",
    "\n",
    "Given a singly linked list of characters, write a function that returns true if the given list is a palindrome, else false.\n",
    "\n",
    "!https://media.geeksforgeeks.org/wp-content/uploads/20220816144425/LLdrawio.png\n",
    "\n",
    "**Examples:**\n",
    "\n",
    "> Input: R->A->D->A->R->NULL\n",
    "> \n",
    "> \n",
    "> **Output:** Yes\n",
    "> \n",
    "> **Input:** C->O->D->E->NULL\n",
    "> \n",
    "> **Output:** No\n",
    "> \n",
    "</aside>"
   ]
  },
  {
   "cell_type": "code",
   "execution_count": 41,
   "id": "54920ff9",
   "metadata": {},
   "outputs": [],
   "source": [
    "class Node:\n",
    "    def __init__(self,data):\n",
    "        self.data = data\n",
    "        self.next = None\n",
    "\n",
    "class Linkedlist:\n",
    "    def __init__(self):\n",
    "        self.head = None\n",
    "        \n",
    "    def push(self, data):\n",
    "        new_node = Node(data)\n",
    "        new_node.next = self.head\n",
    "        self.head = new_node\n",
    "    \n",
    "    def __str__(self):\n",
    "        linkedListStr = \"\"\n",
    "        temp = self.head\n",
    "        while temp:\n",
    "            linkedListStr += str(temp.data) + \"->\"\n",
    "            temp = temp.next\n",
    "        return linkedListStr + \"NULL\"\n",
    "    \n",
    "    def isPalindrome(self):\n",
    "        slow,fast,prev = self.head,self.head,None\n",
    "        while fast and fast.next:\n",
    "            slow, fast = slow.next, fast.next.next\n",
    "        prev, slow, prev.next = slow, slow.next, None\n",
    "        while slow:\n",
    "            slow.next, prev, slow = prev, slow, slow.next\n",
    "        fast, slow = self.head, prev\n",
    "        while slow:\n",
    "            if fast.data != slow.data: \n",
    "                return False\n",
    "            fast, slow = fast.next, slow.next\n",
    "        return True"
   ]
  },
  {
   "cell_type": "code",
   "execution_count": 42,
   "id": "745a2ab0",
   "metadata": {},
   "outputs": [
    {
     "name": "stdout",
     "output_type": "stream",
     "text": [
      "Given Linked List\n",
      "R->A->D->A->R->NULL\n"
     ]
    }
   ],
   "source": [
    "linkedList = Linkedlist()\n",
    "linkedList.push('R')\n",
    "linkedList.push('A')\n",
    "linkedList.push('D')\n",
    "linkedList.push('A')\n",
    "linkedList.push('R')\n",
    "print(\"Given Linked List\")\n",
    "print(linkedList)"
   ]
  },
  {
   "cell_type": "code",
   "execution_count": 43,
   "id": "6ebbbbca",
   "metadata": {},
   "outputs": [
    {
     "data": {
      "text/plain": [
       "True"
      ]
     },
     "execution_count": 43,
     "metadata": {},
     "output_type": "execute_result"
    }
   ],
   "source": [
    "linkedList.isPalindrome()"
   ]
  },
  {
   "cell_type": "code",
   "execution_count": 44,
   "id": "1b4949df",
   "metadata": {},
   "outputs": [
    {
     "name": "stdout",
     "output_type": "stream",
     "text": [
      "Given Linked List\n",
      "C->D->O->E->NULL\n"
     ]
    }
   ],
   "source": [
    "linkedList = Linkedlist()\n",
    "linkedList.push('E')\n",
    "linkedList.push('O')\n",
    "linkedList.push('D')\n",
    "linkedList.push('C')\n",
    "print(\"Given Linked List\")\n",
    "print(linkedList)"
   ]
  },
  {
   "cell_type": "code",
   "execution_count": 45,
   "id": "975c0410",
   "metadata": {},
   "outputs": [
    {
     "data": {
      "text/plain": [
       "False"
      ]
     },
     "execution_count": 45,
     "metadata": {},
     "output_type": "execute_result"
    }
   ],
   "source": [
    "linkedList.isPalindrome()"
   ]
  },
  {
   "cell_type": "markdown",
   "id": "19439db7",
   "metadata": {},
   "source": [
    "<aside>\n",
    "💡 **Question 5**\n",
    "\n",
    "Given a linked list of **N** nodes such that it may contain a loop.\n",
    "\n",
    "A loop here means that the last node of the link list is connected to the node at position X(1-based index). If the link list does not have any loop, X=0.\n",
    "\n",
    "Remove the loop from the linked list, if it is present, i.e. unlink the last node which is forming the loop.\n",
    "\n",
    "**Example 1:**\n",
    "\n",
    "```\n",
    "Input:\n",
    "N = 3\n",
    "value[] = {1,3,4}\n",
    "X = 2\n",
    "Output:1\n",
    "Explanation:The link list looks like\n",
    "1 -> 3 -> 4\n",
    "     ^    |\n",
    "     |____|\n",
    "A loop is present. If you remove it\n",
    "successfully, the answer will be 1.\n",
    "\n",
    "```\n",
    "\n",
    "**Example 2:**\n",
    "\n",
    "```\n",
    "Input:\n",
    "N = 4\n",
    "value[] = {1,8,3,4}\n",
    "X = 0\n",
    "Output:1\n",
    "Explanation:The Linked list does not\n",
    "contains any loop.\n",
    "```\n",
    "\n",
    "**Example 3:**\n",
    "\n",
    "</aside>"
   ]
  },
  {
   "cell_type": "code",
   "execution_count": 46,
   "id": "4fdfba0d",
   "metadata": {},
   "outputs": [],
   "source": [
    "class Node:\n",
    "    def __init__(self,data):\n",
    "        self.data = data\n",
    "        self.next = None\n",
    "\n",
    "class Linkedlist:\n",
    "    def __init__(self):\n",
    "        self.head = None\n",
    "        \n",
    "    def push(self, data):\n",
    "        new_node = Node(data)\n",
    "        new_node.next = self.head\n",
    "        self.head = new_node\n",
    "    \n",
    "    def __str__(self):\n",
    "        linkedListStr = \"\"\n",
    "        temp = self.head\n",
    "        while temp:\n",
    "            linkedListStr += str(temp.data) + \"->\"\n",
    "            temp = temp.next\n",
    "        return linkedListStr + \"NULL\"\n",
    "    \n",
    "    def detect_loop(self):\n",
    "        slow = self.head\n",
    "        fast = self.head\n",
    "        while slow and fast and fast.next:\n",
    "            slow = slow.next\n",
    "            fast = fast.next.next\n",
    "            if slow == fast:\n",
    "                return 1\n",
    "        return 0"
   ]
  },
  {
   "cell_type": "code",
   "execution_count": 47,
   "id": "e29e1238",
   "metadata": {},
   "outputs": [],
   "source": [
    "linkedList = Linkedlist()\n",
    "linkedList.push(1)\n",
    "linkedList.push(3)\n",
    "linkedList.push(4)\n",
    "linkedList.head.next.next = linkedList.head"
   ]
  },
  {
   "cell_type": "code",
   "execution_count": 48,
   "id": "cc83aef4",
   "metadata": {},
   "outputs": [
    {
     "name": "stdout",
     "output_type": "stream",
     "text": [
      "Loop Found\n"
     ]
    }
   ],
   "source": [
    "if(linkedList.detect_loop()):\n",
    "    print(\"Loop Found\")\n",
    "else:\n",
    "    print(\"No Loop Found\")"
   ]
  },
  {
   "cell_type": "code",
   "execution_count": 49,
   "id": "255deeb8",
   "metadata": {},
   "outputs": [],
   "source": [
    "linkedList = Linkedlist()\n",
    "linkedList.push(11)\n",
    "linkedList.push(22)\n",
    "linkedList.push(44)"
   ]
  },
  {
   "cell_type": "code",
   "execution_count": 50,
   "id": "22c062cb",
   "metadata": {},
   "outputs": [
    {
     "name": "stdout",
     "output_type": "stream",
     "text": [
      "No Loop Found\n"
     ]
    }
   ],
   "source": [
    "if(linkedList.detect_loop()):\n",
    "    print(\"Loop Found\")\n",
    "else:\n",
    "    print(\"No Loop Found\")"
   ]
  },
  {
   "cell_type": "markdown",
   "id": "0db6cbb9",
   "metadata": {},
   "source": [
    "<aside>\n",
    "💡 **Question 6**\n",
    "\n",
    "Given a linked list and two integers M and N. Traverse the linked list such that you retain M nodes then delete next N nodes, continue the same till end of the linked list.\n",
    "\n",
    "Difficulty Level: Rookie\n",
    "\n",
    "**Examples**:\n",
    "```\n",
    "Input:\n",
    "M = 2, N = 2\n",
    "Linked List: 1->2->3->4->5->6->7->8\n",
    "Output:\n",
    "Linked List: 1->2->5->6\n",
    "\n",
    "Input:\n",
    "M = 3, N = 2\n",
    "Linked List: 1->2->3->4->5->6->7->8->9->10\n",
    "Output:\n",
    "Linked List: 1->2->3->6->7->8\n",
    "\n",
    "Input:\n",
    "M = 1, N = 1\n",
    "Linked List: 1->2->3->4->5->6->7->8->9->10\n",
    "Output:\n",
    "Linked List: 1->3->5->7->9\n",
    "    \n",
    "```\n",
    "</aside>"
   ]
  },
  {
   "cell_type": "code",
   "execution_count": 60,
   "id": "4e96bce6",
   "metadata": {},
   "outputs": [],
   "source": [
    "class Node:\n",
    "    def __init__(self,data):\n",
    "        self.data = data\n",
    "        self.next = None\n",
    "\n",
    "class Linkedlist:\n",
    "    def __init__(self):\n",
    "        self.head = None\n",
    "        \n",
    "    def push(self, data):\n",
    "        new_node = Node(data)\n",
    "        new_node.next = self.head\n",
    "        self.head = new_node\n",
    "    \n",
    "    def __str__(self):\n",
    "        linkedListStr = \"\"\n",
    "        temp = self.head\n",
    "        while temp:\n",
    "            linkedListStr += str(temp.data) + \"->\"\n",
    "            temp = temp.next\n",
    "        return linkedListStr + \"NULL\"\n",
    "    \n",
    "    def skipMdeleteN(self, M, N):\n",
    "        curr = self.head\n",
    "        \n",
    "        while(curr):\n",
    "            for count in range(1, M):\n",
    "                if curr is None:\n",
    "                    return\n",
    "                curr = curr.next\n",
    "                    \n",
    "            if curr is None :\n",
    "                return\n",
    "            t = curr.next\n",
    "            for count in range(1, N+1):\n",
    "                if t is None:\n",
    "                    break\n",
    "                t = t.next\n",
    "    \n",
    "            curr.next = t\n",
    "            curr = t"
   ]
  },
  {
   "cell_type": "code",
   "execution_count": 61,
   "id": "c8fb4448",
   "metadata": {},
   "outputs": [
    {
     "name": "stdout",
     "output_type": "stream",
     "text": [
      "Given Linked List\n",
      "1->2->3->4->5->6->7->8->NULL\n"
     ]
    }
   ],
   "source": [
    "M,N = 2,2\n",
    "linkedList = Linkedlist()\n",
    "linkedList.push(8)\n",
    "linkedList.push(7)\n",
    "linkedList.push(6)\n",
    "linkedList.push(5)\n",
    "linkedList.push(4)\n",
    "linkedList.push(3)\n",
    "linkedList.push(2)\n",
    "linkedList.push(1)\n",
    "print(\"Given Linked List\")\n",
    "print(linkedList)"
   ]
  },
  {
   "cell_type": "code",
   "execution_count": 62,
   "id": "467c6fcb",
   "metadata": {},
   "outputs": [],
   "source": [
    "linkedList.skipMdeleteN(M,N)"
   ]
  },
  {
   "cell_type": "code",
   "execution_count": 64,
   "id": "49410c7b",
   "metadata": {},
   "outputs": [
    {
     "name": "stdout",
     "output_type": "stream",
     "text": [
      "1->2->5->6->NULL\n"
     ]
    }
   ],
   "source": [
    "print(linkedList)"
   ]
  },
  {
   "cell_type": "code",
   "execution_count": 65,
   "id": "c43838e6",
   "metadata": {},
   "outputs": [
    {
     "name": "stdout",
     "output_type": "stream",
     "text": [
      "Given Linked List\n",
      "1->2->3->4->5->6->7->8->9->10->NULL\n"
     ]
    }
   ],
   "source": [
    "M = 3\n",
    "N = 2\n",
    "linkedList = Linkedlist()\n",
    "linkedList.push(10)\n",
    "linkedList.push(9)\n",
    "linkedList.push(8)\n",
    "linkedList.push(7)\n",
    "linkedList.push(6)\n",
    "linkedList.push(5)\n",
    "linkedList.push(4)\n",
    "linkedList.push(3)\n",
    "linkedList.push(2)\n",
    "linkedList.push(1)\n",
    "print(\"Given Linked List\")\n",
    "print(linkedList)"
   ]
  },
  {
   "cell_type": "code",
   "execution_count": 66,
   "id": "d082254a",
   "metadata": {},
   "outputs": [],
   "source": [
    "linkedList.skipMdeleteN(M,N)"
   ]
  },
  {
   "cell_type": "code",
   "execution_count": 67,
   "id": "aba6f616",
   "metadata": {},
   "outputs": [
    {
     "name": "stdout",
     "output_type": "stream",
     "text": [
      "1->2->3->6->7->8->NULL\n"
     ]
    }
   ],
   "source": [
    "print(linkedList)"
   ]
  },
  {
   "cell_type": "markdown",
   "id": "72f9576d",
   "metadata": {},
   "source": [
    "<aside>\n",
    "💡 **Question 7**\n",
    "\n",
    "Given two linked lists, insert nodes of second list into first list at alternate positions of first list.\n",
    "For example, if first list is 5->7->17->13->11 and second is 12->10->2->4->6, the first list should become 5->12->7->10->17->2->13->4->11->6 and second list should become empty. The nodes of second list should only be inserted when there are positions available. For example, if the first list is 1->2->3 and second list is 4->5->6->7->8, then first list should become 1->4->2->5->3->6 and second list to 7->8.\n",
    "\n",
    "Use of extra space is not allowed (Not allowed to create additional nodes), i.e., insertion must be done in-place. Expected time complexity is O(n) where n is number of nodes in first list.\n",
    "\n",
    "</aside>"
   ]
  },
  {
   "cell_type": "code",
   "execution_count": 83,
   "id": "4d6a5e83",
   "metadata": {},
   "outputs": [],
   "source": [
    "class Node:\n",
    "    def __init__(self,data):\n",
    "        self.data = data\n",
    "        self.next = None\n",
    "\n",
    "class Linkedlist:\n",
    "    def __init__(self):\n",
    "        self.head = None\n",
    "        \n",
    "    def push(self, data):\n",
    "        new_node = Node(data)\n",
    "        new_node.next = self.head\n",
    "        self.head = new_node\n",
    "    \n",
    "    def __str__(self):\n",
    "        linkedListStr = \"\"\n",
    "        temp = self.head\n",
    "        while temp:\n",
    "            linkedListStr += str(temp.data) + \"->\"\n",
    "            temp = temp.next\n",
    "        return linkedListStr + \"NULL\"\n",
    "    \n",
    "def merge_lists(first, second):\n",
    "    if not first:\n",
    "        return second\n",
    "    if not second:\n",
    "        return first\n",
    "        \n",
    "    current_first = first\n",
    "    current_second = second\n",
    "        \n",
    "    while current_first and current_second:\n",
    "        next_first = current_first.next\n",
    "        next_second = current_second.next\n",
    "            \n",
    "        current_first.next = current_second\n",
    "        current_second.next = next_first\n",
    "            \n",
    "        current_first = next_first\n",
    "        current_second = next_second\n",
    "    return first\n",
    "\n",
    "def print_list(head):\n",
    "    current = head\n",
    "    while current:\n",
    "        print(current.data, end=\" \")\n",
    "        current = current.next"
   ]
  },
  {
   "cell_type": "code",
   "execution_count": 85,
   "id": "26b68c1e",
   "metadata": {},
   "outputs": [
    {
     "name": "stdout",
     "output_type": "stream",
     "text": [
      "5 12 7 10 17 2 13 4 11 6 "
     ]
    }
   ],
   "source": [
    "# Create the first linked list\n",
    "first_head = Node(5)\n",
    "first_head.next = Node(7)\n",
    "first_head.next.next = Node(17)\n",
    "first_head.next.next.next = Node(13)\n",
    "first_head.next.next.next.next = Node(11)\n",
    "\n",
    "# Create the second linked list\n",
    "second_head = Node(12)\n",
    "second_head.next = Node(10)\n",
    "second_head.next.next = Node(2)\n",
    "second_head.next.next.next = Node(4)\n",
    "second_head.next.next.next.next = Node(6)\n",
    "\n",
    "# Merge the two linked lists\n",
    "first_head = merge_lists(first_head, second_head)\n",
    "\n",
    "# Print the modified first linked list\n",
    "print_list(first_head)"
   ]
  },
  {
   "cell_type": "markdown",
   "id": "c3955d11",
   "metadata": {},
   "source": [
    "<aside>\n",
    "💡 **Question 8**\n",
    "\n",
    "Given a singly linked list, find if the linked list is [circular](https://www.geeksforgeeks.org/circular-linked-list/amp/) or not.\n",
    "\n",
    "> A linked list is called circular if it is not NULL-terminated and all nodes are connected in the form of a cycle. Below is an example of a circular linked list.\n",
    "> \n",
    "</aside>"
   ]
  },
  {
   "cell_type": "code",
   "execution_count": 86,
   "id": "0a1e2371",
   "metadata": {},
   "outputs": [],
   "source": [
    "class Node:\n",
    "    def __init__(self,data):\n",
    "        self.data = data\n",
    "        self.next = None\n",
    "        \n",
    "class Linkedlist:\n",
    "    def __init__(self):\n",
    "        self.head = None\n",
    "        \n",
    "\n",
    "def is_circular(head):\n",
    "    if head == None:\n",
    "        return True\n",
    "    \n",
    "    node = head.next\n",
    "    i  = 0\n",
    "    while((node is not None) and (node is not head)):\n",
    "        i+=1\n",
    "        node = node.next\n",
    "        \n",
    "    return(node == head)"
   ]
  },
  {
   "cell_type": "code",
   "execution_count": 88,
   "id": "d006bbc9",
   "metadata": {},
   "outputs": [
    {
     "name": "stdout",
     "output_type": "stream",
     "text": [
      "No\n"
     ]
    }
   ],
   "source": [
    "llist = Linkedlist()\n",
    "llist.head = Node(10)\n",
    "llist.head.next = Node(12)\n",
    "llist.head.next.next = Node(14)\n",
    "llist.head.next.next.next = Node(16)\n",
    "\n",
    "if (is_circular(llist.head)):\n",
    "    print('Yes')\n",
    "else:\n",
    "    print('No')"
   ]
  },
  {
   "cell_type": "code",
   "execution_count": 89,
   "id": "aad181d7",
   "metadata": {},
   "outputs": [
    {
     "name": "stdout",
     "output_type": "stream",
     "text": [
      "Yes\n"
     ]
    }
   ],
   "source": [
    "llist1 = Linkedlist()\n",
    "llist1.head = Node(10)\n",
    "llist1.head.next = Node(12)\n",
    "llist1.head.next.next = Node(14)\n",
    "llist1.head.next.next.next = Node(16)\n",
    "llist1.head.next.next.next.next = llist1.head\n",
    "if (is_circular(llist1.head)):\n",
    "    print('Yes')\n",
    "else:\n",
    "    print('No')"
   ]
  },
  {
   "cell_type": "code",
   "execution_count": null,
   "id": "77880234",
   "metadata": {},
   "outputs": [],
   "source": []
  }
 ],
 "metadata": {
  "kernelspec": {
   "display_name": "Python 3 (ipykernel)",
   "language": "python",
   "name": "python3"
  },
  "language_info": {
   "codemirror_mode": {
    "name": "ipython",
    "version": 3
   },
   "file_extension": ".py",
   "mimetype": "text/x-python",
   "name": "python",
   "nbconvert_exporter": "python",
   "pygments_lexer": "ipython3",
   "version": "3.9.12"
  }
 },
 "nbformat": 4,
 "nbformat_minor": 5
}
