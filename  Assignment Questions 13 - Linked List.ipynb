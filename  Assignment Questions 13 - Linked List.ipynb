{
 "cells": [
  {
   "cell_type": "markdown",
   "id": "67f2f60c",
   "metadata": {},
   "source": [
    "<aside>\n",
    "💡 **Question 1**\n",
    "\n",
    "Given two linked list of the same size, the task is to create a new linked list using those linked lists. The condition is that the greater node among both linked list will be added to the new linked list.\n",
    "\n",
    "**Examples:**\n",
    "    \n",
    "```\n",
    "Input: list1 = 5->2->3->8\n",
    "list2 = 1->7->4->5\n",
    "Output: New list = 5->7->4->8\n",
    "\n",
    "Input:list1 = 2->8->9->3\n",
    "list2 = 5->3->6->4\n",
    "Output: New list = 5->8->9->4\n",
    "```\n",
    "\n",
    "</aside>"
   ]
  },
  {
   "cell_type": "code",
   "execution_count": 1,
   "id": "67d40564",
   "metadata": {},
   "outputs": [],
   "source": [
    "class Node:\n",
    "    def __init__(self,data):\n",
    "        self.data = data\n",
    "        self.next = None\n",
    "\n",
    "class Linkedlist:\n",
    "    def __init__(self):\n",
    "        self.head = None\n",
    "        \n",
    "def newList(root1, root2):\n",
    "    \n",
    "    ptr1 = root1\n",
    "    ptr2 = root2\n",
    "    \n",
    "    root = None\n",
    "    while (ptr1 != None) :\n",
    "        temp = Node(0)\n",
    "        temp.next = None\n",
    "    \n",
    "        if (ptr1.data < ptr2.data):\n",
    "            temp.data = ptr2.data\n",
    "        else:\n",
    "            temp.data = ptr1.data\n",
    "    \n",
    "        if (root == None):\n",
    "            root = temp\n",
    "        else :\n",
    "            ptr = root\n",
    "            while (ptr.next != None):\n",
    "                ptr = ptr.next\n",
    "        \n",
    "            ptr.next = temp\n",
    "        ptr1 = ptr1.next\n",
    "        ptr2 = ptr2.next\n",
    "    \n",
    "    return root\n",
    "\n",
    "\n",
    "def display(root):\n",
    " \n",
    "    while (root != None) :\n",
    "        print(root.data, \"->\", end = \" \")\n",
    "        root = root.next\n",
    "     \n",
    "    print(\" \");"
   ]
  },
  {
   "cell_type": "code",
   "execution_count": 2,
   "id": "d749fbdc",
   "metadata": {},
   "outputs": [],
   "source": [
    "# Create the first linked list\n",
    "first_head = Node(5)\n",
    "first_head.next = Node(2)\n",
    "first_head.next.next = Node(3)\n",
    "first_head.next.next.next = Node(8)\n",
    "\n",
    "# Create the second linked list\n",
    "second_head = Node(1)\n",
    "second_head.next = Node(7)\n",
    "second_head.next.next = Node(4)\n",
    "second_head.next.next.next = Node(5)\n"
   ]
  },
  {
   "cell_type": "code",
   "execution_count": 3,
   "id": "b74a6cc3",
   "metadata": {},
   "outputs": [
    {
     "name": "stdout",
     "output_type": "stream",
     "text": [
      "5 -> 2 -> 3 -> 8 ->  \n",
      "1 -> 7 -> 4 -> 5 ->  \n"
     ]
    }
   ],
   "source": [
    "display(first_head)\n",
    "display(second_head)"
   ]
  },
  {
   "cell_type": "code",
   "execution_count": 6,
   "id": "32a97a23",
   "metadata": {},
   "outputs": [],
   "source": [
    "root = newList(first_head,second_head)"
   ]
  },
  {
   "cell_type": "code",
   "execution_count": 7,
   "id": "fd5ac193",
   "metadata": {},
   "outputs": [
    {
     "name": "stdout",
     "output_type": "stream",
     "text": [
      "5 -> 7 -> 4 -> 8 ->  \n"
     ]
    }
   ],
   "source": [
    "display(root)"
   ]
  },
  {
   "cell_type": "markdown",
   "id": "cf289e82",
   "metadata": {},
   "source": [
    "<aside>\n",
    "💡 **Question 2**\n",
    "\n",
    "Write a function that takes a list sorted in non-decreasing order and deletes any duplicate nodes from the list. The list should only be traversed once.\n",
    "\n",
    "For example if the linked list is 11->11->11->21->43->43->60 then removeDuplicates() should convert the list to 11->21->43->60.\n",
    "\n",
    "**Example 1:**\n",
    "\n",
    "```\n",
    "Input:\n",
    "LinkedList: \n",
    "11->11->11->21->43->43->60\n",
    "Output:\n",
    "11->21->43->60\n",
    "```\n",
    "\n",
    "**Example 2:**\n",
    "\n",
    "</aside>"
   ]
  },
  {
   "cell_type": "code",
   "execution_count": 8,
   "id": "b52f7968",
   "metadata": {},
   "outputs": [],
   "source": [
    "class Node:\n",
    "    def __init__(self,data):\n",
    "        self.data = data\n",
    "        self.next = None\n",
    "\n",
    "class Linkedlist:\n",
    "    def __init__(self):\n",
    "        self.head = None\n",
    "        \n",
    "    def push(self, data):\n",
    "        new_node = Node(data)\n",
    "        new_node.next = self.head\n",
    "        self.head = new_node\n",
    "    \n",
    "    def __str__(self):\n",
    "        linkedListStr = \"\"\n",
    "        temp = self.head\n",
    "        while temp:\n",
    "            linkedListStr += str(temp.data) + \"->\"\n",
    "            temp = temp.next\n",
    "        return linkedListStr + \"NULL\"\n",
    "    \n",
    "    def remove_duplicate(self):\n",
    "        temp = self.head\n",
    "        if temp is None:\n",
    "            return\n",
    "        while temp.next is not None:\n",
    "            if temp.data == temp.next.data:\n",
    "                new = temp.next.next\n",
    "                temp.next = None\n",
    "                temp.next = new\n",
    "            else:\n",
    "                temp = temp.next\n",
    "        \n",
    "        return self.head"
   ]
  },
  {
   "cell_type": "code",
   "execution_count": 9,
   "id": "82c4698e",
   "metadata": {},
   "outputs": [
    {
     "name": "stdout",
     "output_type": "stream",
     "text": [
      "Given Linked List\n",
      "11->11->11->21->43->43->60->NULL\n"
     ]
    }
   ],
   "source": [
    "linkedList = Linkedlist()\n",
    "linkedList.push(60)\n",
    "linkedList.push(43)\n",
    "linkedList.push(43)\n",
    "linkedList.push(21)\n",
    "linkedList.push(11)\n",
    "linkedList.push(11)\n",
    "linkedList.push(11)\n",
    "print(\"Given Linked List\")\n",
    "print(linkedList)\n"
   ]
  },
  {
   "cell_type": "code",
   "execution_count": 10,
   "id": "82d39988",
   "metadata": {},
   "outputs": [
    {
     "data": {
      "text/plain": [
       "<__main__.Node at 0x249ca553310>"
      ]
     },
     "execution_count": 10,
     "metadata": {},
     "output_type": "execute_result"
    }
   ],
   "source": [
    "linkedList.remove_duplicate()"
   ]
  },
  {
   "cell_type": "code",
   "execution_count": 11,
   "id": "f598141a",
   "metadata": {},
   "outputs": [
    {
     "name": "stdout",
     "output_type": "stream",
     "text": [
      "11->21->43->60->NULL\n"
     ]
    }
   ],
   "source": [
    "print(linkedList)"
   ]
  },
  {
   "cell_type": "markdown",
   "id": "80b90a7c",
   "metadata": {},
   "source": [
    "<aside>\n",
    "💡 **Question 3**\n",
    "\n",
    "Given a linked list of size **N**. The task is to reverse every **k** nodes (where k is an input to the function) in the linked list. If the number of nodes is not a multiple of *k* then left-out nodes, in the end, should be considered as a group and must be reversed (See Example 2 for clarification).\n",
    "\n",
    "**Example 1:**\n",
    "\n",
    "```\n",
    "Input:\n",
    "LinkedList: 1->2->2->4->5->6->7->8\n",
    "K = 4\n",
    "Output:4 2 2 1 8 7 6 5\n",
    "Explanation:\n",
    "The first 4 elements 1,2,2,4 are reversed first\n",
    "and then the next 4 elements 5,6,7,8. Hence, the\n",
    "resultant linked list is 4->2->2->1->8->7->6->5.\n",
    "\n",
    "```\n",
    "\n",
    "**Example 2:**\n",
    "\n",
    "```\n",
    "    Input:\n",
    "LinkedList: 1->2->3->4->5\n",
    "K = 3\n",
    "Output:3 2 1 5 4\n",
    "Explanation:\n",
    "The first 3 elements are 1,2,3 are reversed\n",
    "first and then elements 4,5 are reversed.Hence,\n",
    "the resultant linked list is 3->2->1->5->4.\n",
    "```\n",
    "</aside>"
   ]
  },
  {
   "cell_type": "code",
   "execution_count": 28,
   "id": "c7bfd801",
   "metadata": {},
   "outputs": [],
   "source": [
    "class Node:\n",
    "    def __init__(self,data):\n",
    "        self.data = data\n",
    "        self.next = None\n",
    "\n",
    "class Linkedlist:\n",
    "    def __init__(self):\n",
    "        self.head = None\n",
    "        \n",
    "    def push(self, data):\n",
    "        new_node = Node(data)\n",
    "        new_node.next = self.head\n",
    "        self.head = new_node\n",
    "    \n",
    "    def __str__(self):\n",
    "        linkedListStr = \"\"\n",
    "        temp = self.head\n",
    "        while temp:\n",
    "            linkedListStr += str(temp.data) + \"->\"\n",
    "            temp = temp.next\n",
    "        return linkedListStr + \"NULL\"\n",
    "    \n",
    "    def reverse_k_list(self,head,k):\n",
    "        if head == None:\n",
    "            return None\n",
    "        current = head\n",
    "        nextn = None\n",
    "        prevn = None\n",
    "        count = 0\n",
    "        \n",
    "        while current is not None and count < k:\n",
    "            nextn = current.next\n",
    "            current.next = prevn\n",
    "            prevn = current\n",
    "            current = nextn\n",
    "            count+=1\n",
    "        \n",
    "        if nextn is not None:\n",
    "            head.next = self.reverse_k_list(nextn,k)\n",
    "        \n",
    "        return prevn\n"
   ]
  },
  {
   "cell_type": "code",
   "execution_count": 29,
   "id": "53aa84dd",
   "metadata": {},
   "outputs": [
    {
     "name": "stdout",
     "output_type": "stream",
     "text": [
      "Given Linked List\n",
      "1->2->2->4->5->6->7->8->NULL\n"
     ]
    }
   ],
   "source": [
    "linkedList = Linkedlist()\n",
    "linkedList.push(8)\n",
    "linkedList.push(7)\n",
    "linkedList.push(6)\n",
    "linkedList.push(5)\n",
    "linkedList.push(4)\n",
    "linkedList.push(2)\n",
    "linkedList.push(2)\n",
    "linkedList.push(1)\n",
    "print(\"Given Linked List\")\n",
    "print(linkedList)"
   ]
  },
  {
   "cell_type": "code",
   "execution_count": 30,
   "id": "35709aab",
   "metadata": {},
   "outputs": [],
   "source": [
    "k = 4\n",
    "linkedList.head = linkedList.reverse_k_list(linkedList.head,k)"
   ]
  },
  {
   "cell_type": "code",
   "execution_count": 31,
   "id": "5ff1db37",
   "metadata": {},
   "outputs": [
    {
     "name": "stdout",
     "output_type": "stream",
     "text": [
      "4->2->2->1->8->7->6->5->NULL\n"
     ]
    }
   ],
   "source": [
    "print(linkedList)"
   ]
  },
  {
   "cell_type": "markdown",
   "id": "3bb51f4c",
   "metadata": {},
   "source": [
    "<aside>\n",
    "💡 **Question 4**\n",
    "\n",
    "Given a linked list, write a function to reverse every alternate k nodes (where k is an input to the function) in an efficient way. Give the complexity of your algorithm.\n",
    "\n",
    "**Example:**\n",
    "```\n",
    "Inputs:   1->2->3->4->5->6->7->8->9->NULL and k = 3\n",
    "Output:   3->2->1->4->5->6->9->8->7->NULL.\n",
    "\n",
    "```\n",
    "\n",
    "</aside>"
   ]
  },
  {
   "cell_type": "code",
   "execution_count": 32,
   "id": "d363e55a",
   "metadata": {},
   "outputs": [],
   "source": [
    "class Node:\n",
    "    def __init__(self,data):\n",
    "        self.data = data\n",
    "        self.next = None\n",
    "\n",
    "class Linkedlist:\n",
    "    def __init__(self):\n",
    "        self.head = None\n",
    "        \n",
    "    def push(self, data):\n",
    "        new_node = Node(data)\n",
    "        new_node.next = self.head\n",
    "        self.head = new_node\n",
    "    \n",
    "    def __str__(self):\n",
    "        linkedListStr = \"\"\n",
    "        temp = self.head\n",
    "        while temp:\n",
    "            linkedListStr += str(temp.data) + \"->\"\n",
    "            temp = temp.next\n",
    "        return linkedListStr + \"NULL\"\n",
    "    \n",
    "    def reverse_k_list(self,head,k):\n",
    "        if head == None:\n",
    "            return None\n",
    "        current = head\n",
    "        nextn = None\n",
    "        prevn = None\n",
    "        count = 0\n",
    "        \n",
    "        while current is not None and count < k:\n",
    "            nextn = current.next\n",
    "            current.next = prevn\n",
    "            prevn = current\n",
    "            current = nextn\n",
    "            count+=1\n",
    "        \n",
    "        if nextn is not None:\n",
    "            head.next = self.reverse_k_list(nextn,k)\n",
    "        \n",
    "        return prevn"
   ]
  },
  {
   "cell_type": "code",
   "execution_count": 33,
   "id": "b56a2ac5",
   "metadata": {},
   "outputs": [
    {
     "name": "stdout",
     "output_type": "stream",
     "text": [
      "Given Linked List\n",
      "1->2->3->4->5->6->7->8->9->NULL\n"
     ]
    }
   ],
   "source": [
    "linkedList = Linkedlist()\n",
    "linkedList.push(9)\n",
    "linkedList.push(8)\n",
    "linkedList.push(7)\n",
    "linkedList.push(6)\n",
    "linkedList.push(5)\n",
    "linkedList.push(4)\n",
    "linkedList.push(3)\n",
    "linkedList.push(2)\n",
    "linkedList.push(1)\n",
    "print(\"Given Linked List\")\n",
    "print(linkedList)"
   ]
  },
  {
   "cell_type": "code",
   "execution_count": 34,
   "id": "426e38f6",
   "metadata": {},
   "outputs": [],
   "source": [
    "k = 3\n",
    "linkedList.head = linkedList.reverse_k_list(linkedList.head,k)"
   ]
  },
  {
   "cell_type": "code",
   "execution_count": 35,
   "id": "c09e1bce",
   "metadata": {},
   "outputs": [
    {
     "name": "stdout",
     "output_type": "stream",
     "text": [
      "3->2->1->6->5->4->9->8->7->NULL\n"
     ]
    }
   ],
   "source": [
    "print(linkedList)"
   ]
  },
  {
   "cell_type": "markdown",
   "id": "7b94140c",
   "metadata": {},
   "source": [
    "<aside>\n",
    "💡 **Question 5**\n",
    "\n",
    "Given a linked list and a key to be deleted. Delete last occurrence of key from linked. The list may have duplicates.\n",
    "\n",
    "**Examples**:\n",
    "\n",
    "```\n",
    "Input:   1->2->3->5->2->10, key = 2\n",
    "Output:  1->2->3->5->10\n",
    "\n",
    "```\n",
    "\n",
    "</aside>"
   ]
  },
  {
   "cell_type": "code",
   "execution_count": 39,
   "id": "8aa47a13",
   "metadata": {},
   "outputs": [],
   "source": [
    "class Node:\n",
    "    def __init__(self,data):\n",
    "        self.data = data\n",
    "        self.next = None\n",
    "\n",
    "class Linkedlist:\n",
    "    def __init__(self):\n",
    "        self.head = None\n",
    "        \n",
    "    def push(self, data):\n",
    "        new_node = Node(data)\n",
    "        new_node.next = self.head\n",
    "        self.head = new_node\n",
    "    \n",
    "    def __str__(self):\n",
    "        linkedListStr = \"\"\n",
    "        temp = self.head\n",
    "        while temp:\n",
    "            linkedListStr += str(temp.data) + \"->\"\n",
    "            temp = temp.next\n",
    "        return linkedListStr + \"NULL\"\n",
    "    \n",
    "def delete_last_occurance(head,target):\n",
    "    temp = head.head\n",
    "    ptr = None\n",
    "    \n",
    "    while temp!= None:\n",
    "        if temp.data == target:\n",
    "            ptr = temp\n",
    "        temp = temp.next\n",
    "        \n",
    "    if (ptr != None and ptr.next == None):\n",
    "        temp = head\n",
    "        while (temp.next != ptr):\n",
    "            temp = temp.next\n",
    "        \n",
    "        temp.next = None\n",
    "    \n",
    "    if (ptr != None and ptr.next != None): \n",
    "        ptr.data = ptr.next.data\n",
    "        temp = ptr.next\n",
    "        ptr.next = ptr.next.next\n",
    "        \n",
    "    return head"
   ]
  },
  {
   "cell_type": "code",
   "execution_count": 40,
   "id": "4cb31bec",
   "metadata": {},
   "outputs": [
    {
     "name": "stdout",
     "output_type": "stream",
     "text": [
      "Given Linked List\n",
      "1->2->3->5->2->10->NULL\n"
     ]
    }
   ],
   "source": [
    "linkedList = Linkedlist()\n",
    "linkedList.push(10)\n",
    "linkedList.push(2)\n",
    "linkedList.push(5)\n",
    "linkedList.push(3)\n",
    "linkedList.push(2)\n",
    "linkedList.push(1)\n",
    "print(\"Given Linked List\")\n",
    "print(linkedList)"
   ]
  },
  {
   "cell_type": "code",
   "execution_count": 41,
   "id": "af524206",
   "metadata": {},
   "outputs": [
    {
     "data": {
      "text/plain": [
       "<__main__.Linkedlist at 0x249cad32eb0>"
      ]
     },
     "execution_count": 41,
     "metadata": {},
     "output_type": "execute_result"
    }
   ],
   "source": [
    "target = 2\n",
    "delete_last_occurance(linkedList,target)"
   ]
  },
  {
   "cell_type": "code",
   "execution_count": 42,
   "id": "583397af",
   "metadata": {},
   "outputs": [
    {
     "name": "stdout",
     "output_type": "stream",
     "text": [
      "1->2->3->5->10->NULL\n"
     ]
    }
   ],
   "source": [
    "print(linkedList)"
   ]
  },
  {
   "cell_type": "markdown",
   "id": "55b9b463",
   "metadata": {},
   "source": [
    "<aside>\n",
    "💡 **Question 6**\n",
    "\n",
    "Given two sorted linked lists consisting of **N** and **M** nodes respectively. The task is to merge both of the lists (in place) and return the head of the merged list.\n",
    "\n",
    "**Examples:**\n",
    "\n",
    "Input: a: 5->10->15, b: 2->3->20\n",
    "\n",
    "Output: 2->3->5->10->15->20\n",
    "\n",
    "Input: a: 1->1, b: 2->4\n",
    "\n",
    "Output: 1->1->2->4\n",
    "\n",
    "</aside>"
   ]
  },
  {
   "cell_type": "code",
   "execution_count": 49,
   "id": "9b17a57c",
   "metadata": {},
   "outputs": [],
   "source": [
    "class Node:\n",
    "    def __init__(self,data):\n",
    "        self.data = data\n",
    "        self.next = None\n",
    "\n",
    "class Linkedlist:\n",
    "    def __init__(self):\n",
    "        self.head = None\n",
    "        \n",
    "    def push(self, data):\n",
    "        new_node = Node(data)\n",
    "        new_node.next = self.head\n",
    "        self.head = new_node\n",
    "    \n",
    "    def __str__(self):\n",
    "        linkedListStr = \"\"\n",
    "        temp = self.head\n",
    "        while temp:\n",
    "            linkedListStr += str(temp.data) + \"->\"\n",
    "            temp = temp.next\n",
    "        return linkedListStr + \"NULL\"\n",
    "    \n",
    "def merge_lists(first, second):\n",
    "    if not first:\n",
    "        return second\n",
    "    if not second:\n",
    "        return first\n",
    "        \n",
    "    if first.data < second.data:\n",
    "        first.next = merge_lists(first.next,second)\n",
    "        return first\n",
    "    \n",
    "    else:\n",
    "        second.next = merge_lists(first,second.next)\n",
    "        return second\n",
    "\n",
    "def print_list(head):\n",
    "    current = head\n",
    "    while current:\n",
    "        print(current.data, end=\"->\")\n",
    "        current = current.next"
   ]
  },
  {
   "cell_type": "code",
   "execution_count": 50,
   "id": "76590162",
   "metadata": {},
   "outputs": [
    {
     "name": "stdout",
     "output_type": "stream",
     "text": [
      "2->3->5->10->15->20->"
     ]
    }
   ],
   "source": [
    "# Create the first linked list\n",
    "first_head = Node(5)\n",
    "first_head.next = Node(10)\n",
    "first_head.next.next = Node(15)\n",
    "\n",
    "\n",
    "# Create the second linked list\n",
    "second_head = Node(2)\n",
    "second_head.next = Node(3)\n",
    "second_head.next.next = Node(20)\n",
    "\n",
    "\n",
    "# Merge the two linked lists\n",
    "first_head = merge_lists(first_head, second_head)\n",
    "\n",
    "# Print the modified first linked list\n",
    "print_list(first_head)"
   ]
  },
  {
   "cell_type": "markdown",
   "id": "f287b1c3",
   "metadata": {},
   "source": [
    "<aside>\n",
    "💡 **Question 7**\n",
    "\n",
    "Given a **Doubly Linked List**, the task is to reverse the given Doubly Linked List.\n",
    "\n",
    "**Example:**\n",
    "    \n",
    "```\n",
    "Original Linked list 10 8 4 2\n",
    "Reversed Linked list 2 4 8 10\n",
    "    \n",
    "```\n",
    "\n",
    "</aside>"
   ]
  },
  {
   "cell_type": "code",
   "execution_count": 51,
   "id": "13001ac0",
   "metadata": {},
   "outputs": [],
   "source": [
    "class Node:\n",
    "\n",
    "    def __init__(self, data):\n",
    "        self.data = data\n",
    "        self.next = None\n",
    "        self.prev = None\n",
    " \n",
    " \n",
    "class DoublyLinkedList:\n",
    "    def __init__(self):\n",
    "        self.head = None\n",
    " \n",
    "    def reverse(self):\n",
    "        temp = None\n",
    "        current = self.head\n",
    "\n",
    "        while current is not None:\n",
    "            temp = current.prev\n",
    "            current.prev = current.next\n",
    "            current.next = temp\n",
    "            current = current.prev\n",
    " \n",
    "\n",
    "        if temp is not None:\n",
    "            self.head = temp.prev\n",
    " \n",
    "\n",
    "    def push(self, new_data):\n",
    " \n",
    "        new_node = Node(new_data)\n",
    " \n",
    "        new_node.next = self.head\n",
    "\n",
    "        if self.head is not None:\n",
    "            self.head.prev = new_node\n",
    " \n",
    "        self.head = new_node\n",
    " \n",
    "    def printList(self, node):\n",
    "        while(node is not None):\n",
    "            print(node.data, end=' ')\n",
    "            node = node.next"
   ]
  },
  {
   "cell_type": "code",
   "execution_count": 52,
   "id": "4178cb89",
   "metadata": {},
   "outputs": [
    {
     "name": "stdout",
     "output_type": "stream",
     "text": [
      "\n",
      "Original Linked List\n",
      "10 8 4 2 \n",
      "Reversed Linked List\n",
      "2 4 8 10 "
     ]
    }
   ],
   "source": [
    "dll = DoublyLinkedList()\n",
    "dll.push(2)\n",
    "dll.push(4)\n",
    "dll.push(8)\n",
    "dll.push(10)\n",
    " \n",
    "print(\"\\nOriginal Linked List\")\n",
    "dll.printList(dll.head)\n",
    "dll.reverse()\n",
    "print(\"\\nReversed Linked List\")\n",
    "dll.printList(dll.head)"
   ]
  },
  {
   "cell_type": "markdown",
   "id": "4971cafa",
   "metadata": {},
   "source": [
    "<aside>\n",
    "💡 **Question 8**\n",
    "\n",
    "Given a doubly linked list and a position. The task is to delete a node from given position in a doubly linked list.\n",
    "\n",
    "**Example 1:**\n",
    "\n",
    "```\n",
    "Input:\n",
    "LinkedList = 1 <--> 3 <--> 4\n",
    "x = 3\n",
    "Output:1 3\n",
    "Explanation:After deleting the node at\n",
    "position 3 (position starts from 1),\n",
    "the linked list will be now as 1->3.\n",
    "\n",
    "```\n",
    "\n",
    "**Example 2:**\n",
    "\n",
    "</aside>"
   ]
  },
  {
   "cell_type": "code",
   "execution_count": 54,
   "id": "410e3d72",
   "metadata": {},
   "outputs": [
    {
     "name": "stdout",
     "output_type": "stream",
     "text": [
      "\n",
      " Original Linked List 10 8 4 2 \n",
      " Modified Linked List 8 4 2 "
     ]
    }
   ],
   "source": [
    "class Node:\n",
    "      \n",
    "    def __init__(self, data):\n",
    "        self.data = data \n",
    "        self.next = None\n",
    "        self.prev = None\n",
    "  \n",
    "class DoublyLinkedList:\n",
    "    def __init__(self):\n",
    "        self.head = None\n",
    "\n",
    "  \n",
    "    def deleteNode(self, dele):\n",
    "          \n",
    "        if self.head is None or dele is None:\n",
    "            return \n",
    "\n",
    "        if self.head == dele:\n",
    "            self.head = dele.next\n",
    "\n",
    "        if dele.next is not None:\n",
    "            dele.next.prev = dele.prev\n",
    "      \n",
    "        if dele.prev is not None:\n",
    "            dele.prev.next = dele.next\n",
    "  \n",
    "  \n",
    "    def push(self, new_data):\n",
    "   \n",
    "        new_node = Node(new_data)\n",
    "   \n",
    "        new_node.next = self.head\n",
    "   \n",
    "        if self.head is not None:\n",
    "            self.head.prev = new_node\n",
    "   \n",
    "        self.head = new_node\n",
    "  \n",
    "  \n",
    "    def printList(self, node):\n",
    "        while(node is not None):\n",
    "            print(node.data,end=' ')\n",
    "            node = node.next\n",
    "\n",
    "            \n",
    "dll = DoublyLinkedList()\n",
    "  \n",
    "dll.push(2);\n",
    "dll.push(4);\n",
    "dll.push(8);\n",
    "dll.push(10);\n",
    "  \n",
    "print (\"\\n Original Linked List\",end=' ')\n",
    "dll.printList(dll.head)\n",
    "  \n",
    "# delete nodes from doubly linked list\n",
    "dll.deleteNode(dll.head)\n",
    "# Modified linked list will be NULL<-8->NULL\n",
    "print(\"\\n Modified Linked List\",end=' ')\n",
    "dll.printList(dll.head)"
   ]
  },
  {
   "cell_type": "code",
   "execution_count": null,
   "id": "63045918",
   "metadata": {},
   "outputs": [],
   "source": []
  }
 ],
 "metadata": {
  "kernelspec": {
   "display_name": "Python 3 (ipykernel)",
   "language": "python",
   "name": "python3"
  },
  "language_info": {
   "codemirror_mode": {
    "name": "ipython",
    "version": 3
   },
   "file_extension": ".py",
   "mimetype": "text/x-python",
   "name": "python",
   "nbconvert_exporter": "python",
   "pygments_lexer": "ipython3",
   "version": "3.9.12"
  }
 },
 "nbformat": 4,
 "nbformat_minor": 5
}
