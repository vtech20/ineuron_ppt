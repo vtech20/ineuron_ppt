{
 "cells": [
  {
   "cell_type": "markdown",
   "id": "7f20ea2f",
   "metadata": {},
   "source": [
    "<aside>\n",
    "💡 **Question 1**\n",
    "\n",
    "Given an integer `n`, return *`true` if it is a power of two. Otherwise, return `false`*.\n",
    "\n",
    "An integer `n` is a power of two, if there exists an integer `x` such that `n == 2x`.\n",
    "\n",
    "**Example 1:**\n",
    "Input: n = 1 \n",
    "\n",
    "Output: true\n",
    "\n",
    "**Example 2:**\n",
    "Input: n = 16 \n",
    "\n",
    "Output: true\n",
    "\n",
    "**Example 3:**\n",
    "Input: n = 3 \n",
    "\n",
    "Output: false\n",
    "\n",
    "</aside>"
   ]
  },
  {
   "cell_type": "code",
   "execution_count": 2,
   "id": "778f18e7",
   "metadata": {},
   "outputs": [],
   "source": [
    "def log2(n):\n",
    "    if n == 0:\n",
    "        return False\n",
    "    while n != 1:\n",
    "        if n % 2 !=0:\n",
    "            return False\n",
    "        n = n//2\n",
    "    return True"
   ]
  },
  {
   "cell_type": "code",
   "execution_count": 3,
   "id": "37c4c117",
   "metadata": {},
   "outputs": [
    {
     "data": {
      "text/plain": [
       "True"
      ]
     },
     "execution_count": 3,
     "metadata": {},
     "output_type": "execute_result"
    }
   ],
   "source": [
    "n = 1\n",
    "log2(n)"
   ]
  },
  {
   "cell_type": "code",
   "execution_count": 4,
   "id": "e0dcd8ef",
   "metadata": {},
   "outputs": [
    {
     "data": {
      "text/plain": [
       "False"
      ]
     },
     "execution_count": 4,
     "metadata": {},
     "output_type": "execute_result"
    }
   ],
   "source": [
    "n = 3\n",
    "log2(n)"
   ]
  },
  {
   "cell_type": "code",
   "execution_count": 5,
   "id": "6be04a79",
   "metadata": {},
   "outputs": [
    {
     "data": {
      "text/plain": [
       "True"
      ]
     },
     "execution_count": 5,
     "metadata": {},
     "output_type": "execute_result"
    }
   ],
   "source": [
    "n = 16\n",
    "log2(n)"
   ]
  },
  {
   "cell_type": "markdown",
   "id": "acb8bd60",
   "metadata": {},
   "source": [
    "<aside>\n",
    "💡 **Question 2**\n",
    "\n",
    "Given a number n, find the sum of the first natural numbers.\n",
    "\n",
    "**Example 1:**\n",
    "\n",
    "Input: n = 3 \n",
    "\n",
    "Output: 6\n",
    "\n",
    "**Example 2:**\n",
    "\n",
    "Input  : 5 \n",
    "\n",
    "Output : 15\n",
    "\n",
    "</aside>"
   ]
  },
  {
   "cell_type": "code",
   "execution_count": 9,
   "id": "07481486",
   "metadata": {},
   "outputs": [],
   "source": [
    "def sum_natural_numbers(n):\n",
    "    if n == 0:\n",
    "        return 0\n",
    "    elif n == 1:\n",
    "        return 1\n",
    "    else:\n",
    "        return (n*(n+1))//2"
   ]
  },
  {
   "cell_type": "code",
   "execution_count": 10,
   "id": "1638d7a5",
   "metadata": {},
   "outputs": [
    {
     "data": {
      "text/plain": [
       "6"
      ]
     },
     "execution_count": 10,
     "metadata": {},
     "output_type": "execute_result"
    }
   ],
   "source": [
    "n = 3\n",
    "sum_natural_numbers(n)"
   ]
  },
  {
   "cell_type": "code",
   "execution_count": 11,
   "id": "d18f6a9b",
   "metadata": {},
   "outputs": [
    {
     "data": {
      "text/plain": [
       "15"
      ]
     },
     "execution_count": 11,
     "metadata": {},
     "output_type": "execute_result"
    }
   ],
   "source": [
    "n =5\n",
    "sum_natural_numbers(n)"
   ]
  },
  {
   "cell_type": "code",
   "execution_count": 12,
   "id": "4ddd5803",
   "metadata": {},
   "outputs": [
    {
     "data": {
      "text/plain": [
       "0"
      ]
     },
     "execution_count": 12,
     "metadata": {},
     "output_type": "execute_result"
    }
   ],
   "source": [
    "n = 0\n",
    "sum_natural_numbers(n)"
   ]
  },
  {
   "cell_type": "markdown",
   "id": "cea26dc5",
   "metadata": {},
   "source": [
    "<aside>\n",
    "💡 **Question 3**\n",
    "\n",
    "****Given a positive integer, N. Find the factorial of N. \n",
    "\n",
    "**Example 1:**\n",
    "\n",
    "Input: N = 5 \n",
    "\n",
    "Output: 120\n",
    "\n",
    "**Example 2:**\n",
    "\n",
    "Input: N = 4\n",
    "\n",
    "Output: 24\n",
    "\n",
    "</aside>"
   ]
  },
  {
   "cell_type": "code",
   "execution_count": 1,
   "id": "a909cd7c",
   "metadata": {},
   "outputs": [],
   "source": [
    "def factorial(N):\n",
    "    if N == 0:\n",
    "        return 1\n",
    "    elif N == 1:\n",
    "        return N\n",
    "    else:\n",
    "        return N*factorial(N-1)"
   ]
  },
  {
   "cell_type": "code",
   "execution_count": 2,
   "id": "c27aa141",
   "metadata": {},
   "outputs": [
    {
     "data": {
      "text/plain": [
       "120"
      ]
     },
     "execution_count": 2,
     "metadata": {},
     "output_type": "execute_result"
    }
   ],
   "source": [
    "N = 5\n",
    "factorial(N)"
   ]
  },
  {
   "cell_type": "code",
   "execution_count": 3,
   "id": "e5debc51",
   "metadata": {},
   "outputs": [
    {
     "data": {
      "text/plain": [
       "24"
      ]
     },
     "execution_count": 3,
     "metadata": {},
     "output_type": "execute_result"
    }
   ],
   "source": [
    "N = 4\n",
    "factorial(N)"
   ]
  },
  {
   "cell_type": "markdown",
   "id": "f69000d8",
   "metadata": {},
   "source": [
    "<aside>\n",
    "💡 **Question 4**\n",
    "\n",
    "Given a number N and a power P, the task is to find the exponent of this number raised to the given power, i.e. N^P.\n",
    "\n",
    "**Example 1 :** \n",
    "\n",
    "Input: N = 5, P = 2\n",
    "\n",
    "Output: 25\n",
    "\n",
    "**Example 2 :**\n",
    "Input: N = 2, P = 5\n",
    "\n",
    "Output: 32\n",
    "\n",
    "</aside>"
   ]
  },
  {
   "cell_type": "code",
   "execution_count": 4,
   "id": "95ab7e27",
   "metadata": {},
   "outputs": [],
   "source": [
    "def power(N,P):\n",
    "    if P!=0:\n",
    "        return N*power(N,P-1)\n",
    "    else:\n",
    "        return 1"
   ]
  },
  {
   "cell_type": "code",
   "execution_count": 5,
   "id": "95648264",
   "metadata": {},
   "outputs": [
    {
     "data": {
      "text/plain": [
       "25"
      ]
     },
     "execution_count": 5,
     "metadata": {},
     "output_type": "execute_result"
    }
   ],
   "source": [
    "N = 5\n",
    "P = 2\n",
    "power(N,P)"
   ]
  },
  {
   "cell_type": "code",
   "execution_count": 6,
   "id": "fe04360d",
   "metadata": {},
   "outputs": [
    {
     "data": {
      "text/plain": [
       "32"
      ]
     },
     "execution_count": 6,
     "metadata": {},
     "output_type": "execute_result"
    }
   ],
   "source": [
    "N = 2\n",
    "P = 5\n",
    "power(N,P)"
   ]
  },
  {
   "cell_type": "markdown",
   "id": "8da08d06",
   "metadata": {},
   "source": [
    "<aside>\n",
    "💡 **Question 5**\n",
    "\n",
    "Given an array of integers **arr**, the task is to find maximum element of that array using recursion.\n",
    "\n",
    "**Example 1:**\n",
    "\n",
    "Input: arr = {1, 4, 3, -5, -4, 8, 6};\n",
    "Output: 8\n",
    "\n",
    "**Example 2:**\n",
    "\n",
    "Input: arr = {1, 4, 45, 6, 10, -8};\n",
    "Output: 45\n",
    "\n",
    "</aside>"
   ]
  },
  {
   "cell_type": "code",
   "execution_count": 7,
   "id": "e02d5602",
   "metadata": {},
   "outputs": [],
   "source": [
    "def findMaxRec(arr, n):\n",
    "    if (n == 1):\n",
    "        return arr[0]\n",
    "    return max(arr[n - 1], findMaxRec(arr, n - 1))"
   ]
  },
  {
   "cell_type": "code",
   "execution_count": 8,
   "id": "ff89dde9",
   "metadata": {},
   "outputs": [
    {
     "data": {
      "text/plain": [
       "8"
      ]
     },
     "execution_count": 8,
     "metadata": {},
     "output_type": "execute_result"
    }
   ],
   "source": [
    "arr = [1, 4, 3, -5, -4, 8, 6]\n",
    "n = len(arr)\n",
    "findMaxRec(arr,n)"
   ]
  },
  {
   "cell_type": "code",
   "execution_count": 9,
   "id": "f3b76197",
   "metadata": {},
   "outputs": [
    {
     "data": {
      "text/plain": [
       "45"
      ]
     },
     "execution_count": 9,
     "metadata": {},
     "output_type": "execute_result"
    }
   ],
   "source": [
    "arr = [1, 4, 45, 6, 10, -8]\n",
    "n = len(arr)\n",
    "findMaxRec(arr,n)"
   ]
  },
  {
   "cell_type": "markdown",
   "id": "e78323f9",
   "metadata": {},
   "source": [
    "<aside>\n",
    "💡 **Question 6**\n",
    "\n",
    "Given first term (a), common difference (d) and a integer N of the Arithmetic Progression series, the task is to find Nth term of the series.\n",
    "\n",
    "**Example 1:**\n",
    "\n",
    "Input : a = 2 d = 1 N = 5\n",
    "Output : 6\n",
    "The 5th term of the series is : 6\n",
    "\n",
    "**Example 2:**\n",
    "\n",
    "Input : a = 5 d = 2 N = 10\n",
    "Output : 23\n",
    "The 10th term of the series is : 23\n",
    "\n",
    "</aside>"
   ]
  },
  {
   "cell_type": "code",
   "execution_count": 10,
   "id": "d15f00a9",
   "metadata": {},
   "outputs": [],
   "source": [
    "def arithmetic_progression(a,d,N):\n",
    "    return a + (N-1)*d"
   ]
  },
  {
   "cell_type": "code",
   "execution_count": 11,
   "id": "2a7e92ba",
   "metadata": {},
   "outputs": [
    {
     "data": {
      "text/plain": [
       "6"
      ]
     },
     "execution_count": 11,
     "metadata": {},
     "output_type": "execute_result"
    }
   ],
   "source": [
    "a,d,N = 2 ,1, 5\n",
    "    \n",
    "arithmetic_progression(a,d,N)"
   ]
  },
  {
   "cell_type": "code",
   "execution_count": 12,
   "id": "d19b3bc4",
   "metadata": {},
   "outputs": [
    {
     "data": {
      "text/plain": [
       "23"
      ]
     },
     "execution_count": 12,
     "metadata": {},
     "output_type": "execute_result"
    }
   ],
   "source": [
    "a,d,N = 5 ,2, 10\n",
    "arithmetic_progression(a,d,N)"
   ]
  },
  {
   "cell_type": "markdown",
   "id": "861771e3",
   "metadata": {},
   "source": [
    "<aside>\n",
    "💡 **Question 7**\n",
    "\n",
    "Given a string S, the task is to write a program to print all permutations of a given string.\n",
    "\n",
    "**Example 1:**\n",
    "\n",
    "***Input:***\n",
    "\n",
    "*S = “ABC”*\n",
    "\n",
    "***Output:***\n",
    "\n",
    "*“ABC”, “ACB”, “BAC”, “BCA”, “CBA”, “CAB”*\n",
    "\n",
    "**Example 2:**\n",
    "\n",
    "***Input:***\n",
    "\n",
    "*S = “XY”*\n",
    "\n",
    "***Output:***\n",
    "\n",
    "*“XY”, “YX”*\n",
    "\n",
    "</aside>"
   ]
  },
  {
   "cell_type": "code",
   "execution_count": 21,
   "id": "dd8188b4",
   "metadata": {},
   "outputs": [],
   "source": [
    "def get_permutation(string, i=0):\n",
    "\n",
    "    if i == len(string):   \t \n",
    "        print(\"\".join(string))\n",
    "\n",
    "    for j in range(i, len(string)):\n",
    "\n",
    "        words = [c for c in string]\n",
    "   \n",
    "        # swap\n",
    "        words[i], words[j] = words[j], words[i]\n",
    "   \t \n",
    "        get_permutation(words, i + 1)"
   ]
  },
  {
   "cell_type": "code",
   "execution_count": 22,
   "id": "8cff8c4c",
   "metadata": {},
   "outputs": [
    {
     "name": "stdout",
     "output_type": "stream",
     "text": [
      "ABC\n",
      "ACB\n",
      "BAC\n",
      "BCA\n",
      "CBA\n",
      "CAB\n"
     ]
    }
   ],
   "source": [
    "S = \"ABC\"\n",
    "get_permutation(list(S))"
   ]
  },
  {
   "cell_type": "markdown",
   "id": "c33ced7f",
   "metadata": {},
   "source": [
    "<aside>\n",
    "💡 **Question 8**\n",
    "\n",
    "Given an array, find a product of all array elements.\n",
    "\n",
    "**Example 1:**\n",
    "\n",
    "Input  : arr[] = {1, 2, 3, 4, 5}\n",
    "Output : 120\n",
    "**Example 2:**\n",
    "\n",
    "Input  : arr[] = {1, 6, 3}\n",
    "Output : 18\n",
    "\n",
    "</aside>"
   ]
  },
  {
   "cell_type": "code",
   "execution_count": 24,
   "id": "f806ccd3",
   "metadata": {},
   "outputs": [],
   "source": [
    "def prod_arr(seq):\n",
    "    if not seq:\n",
    "        return 1\n",
    "    return seq[0] * prod_arr(seq[1:])"
   ]
  },
  {
   "cell_type": "code",
   "execution_count": 25,
   "id": "83abbf60",
   "metadata": {},
   "outputs": [
    {
     "data": {
      "text/plain": [
       "120"
      ]
     },
     "execution_count": 25,
     "metadata": {},
     "output_type": "execute_result"
    }
   ],
   "source": [
    "arr = [1, 2, 3, 4, 5]\n",
    "prod_arr(arr)"
   ]
  },
  {
   "cell_type": "code",
   "execution_count": 26,
   "id": "ac71a668",
   "metadata": {},
   "outputs": [
    {
     "data": {
      "text/plain": [
       "18"
      ]
     },
     "execution_count": 26,
     "metadata": {},
     "output_type": "execute_result"
    }
   ],
   "source": [
    "arr = [1, 6,3]\n",
    "prod_arr(arr)"
   ]
  },
  {
   "cell_type": "code",
   "execution_count": null,
   "id": "bac71d64",
   "metadata": {},
   "outputs": [],
   "source": []
  }
 ],
 "metadata": {
  "kernelspec": {
   "display_name": "Python 3 (ipykernel)",
   "language": "python",
   "name": "python3"
  },
  "language_info": {
   "codemirror_mode": {
    "name": "ipython",
    "version": 3
   },
   "file_extension": ".py",
   "mimetype": "text/x-python",
   "name": "python",
   "nbconvert_exporter": "python",
   "pygments_lexer": "ipython3",
   "version": "3.9.12"
  }
 },
 "nbformat": 4,
 "nbformat_minor": 5
}
