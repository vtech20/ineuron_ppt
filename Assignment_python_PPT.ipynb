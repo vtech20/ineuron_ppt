{
 "cells": [
  {
   "cell_type": "markdown",
   "id": "e83a0501",
   "metadata": {},
   "source": [
    "**1. Write a Python program to reverse a string without using any built-in string reversal functions.**"
   ]
  },
  {
   "cell_type": "code",
   "execution_count": 3,
   "id": "1bc8538f",
   "metadata": {},
   "outputs": [],
   "source": [
    "def reverse_string(str1):\n",
    "    try:\n",
    "        print(\"The given String is \", str1)\n",
    "        return f\"Reversed String is {str1[::-1]}\"\n",
    "    except Exception as e:\n",
    "        raise e"
   ]
  },
  {
   "cell_type": "code",
   "execution_count": 4,
   "id": "b0b45fc7",
   "metadata": {},
   "outputs": [
    {
     "name": "stdout",
     "output_type": "stream",
     "text": [
      "The given String is  Happy\n"
     ]
    },
    {
     "data": {
      "text/plain": [
       "'Reversed String is yppaH'"
      ]
     },
     "execution_count": 4,
     "metadata": {},
     "output_type": "execute_result"
    }
   ],
   "source": [
    "str1 = \"Happy\"\n",
    "reverse_string(str1)"
   ]
  },
  {
   "cell_type": "markdown",
   "id": "b6909cd1",
   "metadata": {},
   "source": [
    "**2. Implement a function to check if a given string is a palindrome.**"
   ]
  },
  {
   "cell_type": "code",
   "execution_count": 5,
   "id": "a46c2cf8",
   "metadata": {},
   "outputs": [],
   "source": [
    "def check_palindrome(str1):\n",
    "    try:\n",
    "        if str1 == str1[::-1]:\n",
    "            return \"Palindrome\"\n",
    "        else:\n",
    "            return \"Not a Palindrome\"\n",
    "    except Exception as e:\n",
    "        raise e"
   ]
  },
  {
   "cell_type": "code",
   "execution_count": 6,
   "id": "767969a6",
   "metadata": {},
   "outputs": [
    {
     "data": {
      "text/plain": [
       "'Palindrome'"
      ]
     },
     "execution_count": 6,
     "metadata": {},
     "output_type": "execute_result"
    }
   ],
   "source": [
    "str1 = \"DAD\"\n",
    "check_palindrome(str1)"
   ]
  },
  {
   "cell_type": "code",
   "execution_count": 7,
   "id": "af2a8814",
   "metadata": {},
   "outputs": [
    {
     "data": {
      "text/plain": [
       "'Not a Palindrome'"
      ]
     },
     "execution_count": 7,
     "metadata": {},
     "output_type": "execute_result"
    }
   ],
   "source": [
    "str2 = \"NILE\"\n",
    "check_palindrome(str2)"
   ]
  },
  {
   "cell_type": "markdown",
   "id": "fe0051fa",
   "metadata": {},
   "source": [
    "**3. Write a program to find the largest element in a given list.**"
   ]
  },
  {
   "cell_type": "code",
   "execution_count": 8,
   "id": "9188bde4",
   "metadata": {},
   "outputs": [],
   "source": [
    "def find_largest_element(lst):\n",
    "    try:\n",
    "        return f\"maximum number in the list is {max(lst)}\"\n",
    "    except Exception as e:\n",
    "        raise e"
   ]
  },
  {
   "cell_type": "code",
   "execution_count": 9,
   "id": "70b0666d",
   "metadata": {},
   "outputs": [
    {
     "data": {
      "text/plain": [
       "'maximum number in the list is 40'"
      ]
     },
     "execution_count": 9,
     "metadata": {},
     "output_type": "execute_result"
    }
   ],
   "source": [
    "lst = [1,6,2,40,20]\n",
    "find_largest_element(lst)"
   ]
  },
  {
   "cell_type": "code",
   "execution_count": 10,
   "id": "0ab97454",
   "metadata": {},
   "outputs": [],
   "source": [
    "def find_max_without_inbuilt(lst):\n",
    "    try:\n",
    "        max_val = 0\n",
    "        for i in lst:\n",
    "            if i > max_val:\n",
    "                max_val = i\n",
    "        return f\"maximum number in the list is {max_val}\"\n",
    "    except Exception as e:\n",
    "        raise e\n",
    "    "
   ]
  },
  {
   "cell_type": "code",
   "execution_count": 11,
   "id": "1536c264",
   "metadata": {},
   "outputs": [
    {
     "data": {
      "text/plain": [
       "'maximum number in the list is 40'"
      ]
     },
     "execution_count": 11,
     "metadata": {},
     "output_type": "execute_result"
    }
   ],
   "source": [
    "find_max_without_inbuilt(lst)"
   ]
  },
  {
   "cell_type": "markdown",
   "id": "bbee7740",
   "metadata": {},
   "source": [
    "**4. Implement a function to count the occurrence of each element in a list.**"
   ]
  },
  {
   "cell_type": "code",
   "execution_count": 13,
   "id": "e6ea8b54",
   "metadata": {},
   "outputs": [],
   "source": [
    "def count_occurance(lst):\n",
    "    try:\n",
    "        occur_dict = {}\n",
    "        for i in range(len(lst)):\n",
    "            if lst[i] in occur_dict:\n",
    "                occur_dict[lst[i]]+=1\n",
    "            else:\n",
    "                occur_dict[lst[i]] = 1\n",
    "        return occur_dict\n",
    "    except Exception as e:\n",
    "        raise e"
   ]
  },
  {
   "cell_type": "code",
   "execution_count": 15,
   "id": "0f2c7f36",
   "metadata": {},
   "outputs": [
    {
     "data": {
      "text/plain": [
       "{1: 3, 6: 2, 2: 2, 40: 1, 20: 1, 7: 1}"
      ]
     },
     "execution_count": 15,
     "metadata": {},
     "output_type": "execute_result"
    }
   ],
   "source": [
    "lst = [1,6,2,40,20,2,6,7,1,1]\n",
    "count_occurance(lst)"
   ]
  },
  {
   "cell_type": "markdown",
   "id": "d97bdbcd",
   "metadata": {},
   "source": [
    "**5. Write a Python program to find the second largest number in a list.**"
   ]
  },
  {
   "cell_type": "code",
   "execution_count": 16,
   "id": "87776182",
   "metadata": {},
   "outputs": [],
   "source": [
    "def find_second_largest(lst):\n",
    "    try:\n",
    "        lst.sort()\n",
    "        return f\"Second Largest number is {lst[-2]}\"\n",
    "    except Exception as e:\n",
    "        raise e"
   ]
  },
  {
   "cell_type": "code",
   "execution_count": 17,
   "id": "5368eaad",
   "metadata": {},
   "outputs": [
    {
     "data": {
      "text/plain": [
       "'Second Largest number is 20'"
      ]
     },
     "execution_count": 17,
     "metadata": {},
     "output_type": "execute_result"
    }
   ],
   "source": [
    "lst = [1,6,2,40,20]\n",
    "find_second_largest(lst)"
   ]
  },
  {
   "cell_type": "markdown",
   "id": "67a97164",
   "metadata": {},
   "source": [
    "**6. Implement a function to remove duplicate elements from a list.**"
   ]
  },
  {
   "cell_type": "code",
   "execution_count": 18,
   "id": "f3308d54",
   "metadata": {},
   "outputs": [],
   "source": [
    "def remove_duplicates(lst):\n",
    "    try:\n",
    "        s = list(set(lst))\n",
    "        return s\n",
    "    except Exception as e:\n",
    "        raise e"
   ]
  },
  {
   "cell_type": "code",
   "execution_count": 19,
   "id": "7c74abdb",
   "metadata": {},
   "outputs": [
    {
     "data": {
      "text/plain": [
       "[1, 2, 6, 7, 40, 20]"
      ]
     },
     "execution_count": 19,
     "metadata": {},
     "output_type": "execute_result"
    }
   ],
   "source": [
    "lst = [1,6,2,40,20,2,6,7,1,1]\n",
    "remove_duplicates(lst)"
   ]
  },
  {
   "cell_type": "markdown",
   "id": "2c94ac2a",
   "metadata": {},
   "source": [
    "**7. Write a program to calculate the factorial of a given number.**"
   ]
  },
  {
   "cell_type": "code",
   "execution_count": 3,
   "id": "7f87360c",
   "metadata": {},
   "outputs": [],
   "source": [
    "def factorial(n):\n",
    "    try:\n",
    "        if n==1:\n",
    "            return n\n",
    "        if n==0:\n",
    "            return 1\n",
    "        return n*factorial(n-1)\n",
    "    except Exception as e:\n",
    "        raise e"
   ]
  },
  {
   "cell_type": "code",
   "execution_count": 4,
   "id": "f60572ea",
   "metadata": {},
   "outputs": [
    {
     "data": {
      "text/plain": [
       "120"
      ]
     },
     "execution_count": 4,
     "metadata": {},
     "output_type": "execute_result"
    }
   ],
   "source": [
    "factorial(5)"
   ]
  },
  {
   "cell_type": "markdown",
   "id": "3ff8c86c",
   "metadata": {},
   "source": [
    "**8. Implement a function to check if a given number is prime.**"
   ]
  },
  {
   "cell_type": "code",
   "execution_count": 5,
   "id": "43335665",
   "metadata": {},
   "outputs": [],
   "source": [
    "def check_prime(num):\n",
    "    try:\n",
    "        flag = False\n",
    "        if num==1:\n",
    "            print(num,\"is not a prime number\")\n",
    "        elif num > 1:\n",
    "            for i in range(2,num):\n",
    "                if num%i == 0:\n",
    "                    flag = True\n",
    "                    break\n",
    "        \n",
    "        if flag:\n",
    "            print(num, \" is not a prime number\")\n",
    "        else:\n",
    "            print(num, \" is a prime number\")\n",
    "    \n",
    "    except Exception as e:\n",
    "        raise e"
   ]
  },
  {
   "cell_type": "code",
   "execution_count": 6,
   "id": "9497d924",
   "metadata": {},
   "outputs": [
    {
     "name": "stdout",
     "output_type": "stream",
     "text": [
      "7  is a prime number\n"
     ]
    }
   ],
   "source": [
    "check_prime(7)"
   ]
  },
  {
   "cell_type": "code",
   "execution_count": 7,
   "id": "faec8fbc",
   "metadata": {},
   "outputs": [
    {
     "name": "stdout",
     "output_type": "stream",
     "text": [
      "9  is not a prime number\n"
     ]
    }
   ],
   "source": [
    "check_prime(9)"
   ]
  },
  {
   "cell_type": "markdown",
   "id": "a572c040",
   "metadata": {},
   "source": [
    "**9. Write a Python program to sort a list of integers in ascending order.**"
   ]
  },
  {
   "cell_type": "code",
   "execution_count": 10,
   "id": "4687218a",
   "metadata": {},
   "outputs": [],
   "source": [
    "def sort_list_builtin(lst):\n",
    "    try:\n",
    "        lst.sort()\n",
    "        return f\"sorted list is {lst}\"\n",
    "    except Exception as e:\n",
    "        raise e"
   ]
  },
  {
   "cell_type": "code",
   "execution_count": 11,
   "id": "715b7f59",
   "metadata": {},
   "outputs": [
    {
     "data": {
      "text/plain": [
       "'sorted list is [1, 3, 4, 5, 7]'"
      ]
     },
     "execution_count": 11,
     "metadata": {},
     "output_type": "execute_result"
    }
   ],
   "source": [
    "lst = [7,3,4,5,1]\n",
    "sort_list_builtin(lst)"
   ]
  },
  {
   "cell_type": "code",
   "execution_count": 12,
   "id": "9b195915",
   "metadata": {},
   "outputs": [],
   "source": [
    "def sort_list(lst):\n",
    "    try:\n",
    "        length = len(lst)\n",
    "        for i in range(length):\n",
    "            for j in range(i+1,length):\n",
    "                if lst[i] > lst[j]:\n",
    "                    temp = lst[i]\n",
    "                    lst[i] = lst[j]\n",
    "                    lst[j] = temp\n",
    "        \n",
    "        return f\"sorted list is {lst}\"\n",
    "    \n",
    "    except Exception as e:\n",
    "        raise e"
   ]
  },
  {
   "cell_type": "code",
   "execution_count": 13,
   "id": "55a0d430",
   "metadata": {},
   "outputs": [
    {
     "data": {
      "text/plain": [
       "'sorted list is [1, 3, 4, 5, 7]'"
      ]
     },
     "execution_count": 13,
     "metadata": {},
     "output_type": "execute_result"
    }
   ],
   "source": [
    "lst = [7,3,4,5,1]\n",
    "sort_list(lst)"
   ]
  },
  {
   "cell_type": "markdown",
   "id": "a2a82f30",
   "metadata": {},
   "source": [
    "**10. Implement a function to find the sum of all numbers in a list.**"
   ]
  },
  {
   "cell_type": "code",
   "execution_count": 14,
   "id": "8e5c01b4",
   "metadata": {},
   "outputs": [],
   "source": [
    "def sum_numbers(lst):\n",
    "    try:\n",
    "        return f\"sum of the list is {sum(lst)}\"\n",
    "    except Exception as e:\n",
    "        raise e"
   ]
  },
  {
   "cell_type": "code",
   "execution_count": 15,
   "id": "6878e940",
   "metadata": {},
   "outputs": [
    {
     "data": {
      "text/plain": [
       "'sum of the list is 20'"
      ]
     },
     "execution_count": 15,
     "metadata": {},
     "output_type": "execute_result"
    }
   ],
   "source": [
    "lst = [7,3,4,5,1]\n",
    "sum_numbers(lst)"
   ]
  },
  {
   "cell_type": "markdown",
   "id": "4d2fc838",
   "metadata": {},
   "source": [
    "**11. Write a program to find the common elements between two lists.**"
   ]
  },
  {
   "cell_type": "code",
   "execution_count": 16,
   "id": "46d5ab52",
   "metadata": {},
   "outputs": [],
   "source": [
    "def find_common(lst1,lst2):\n",
    "    try:\n",
    "        res = []\n",
    "        for i in lst1:\n",
    "            if i in lst2:\n",
    "                res.append(i)\n",
    "        return res\n",
    "    \n",
    "    except Exception as e:\n",
    "        raise e"
   ]
  },
  {
   "cell_type": "code",
   "execution_count": 17,
   "id": "0cd60b06",
   "metadata": {},
   "outputs": [
    {
     "data": {
      "text/plain": [
       "[3, 1]"
      ]
     },
     "execution_count": 17,
     "metadata": {},
     "output_type": "execute_result"
    }
   ],
   "source": [
    "lst1 = [7,3,4,5,1]\n",
    "lst2 = [8,3,2,6,1]\n",
    "find_common(lst1,lst2)"
   ]
  },
  {
   "cell_type": "markdown",
   "id": "13993038",
   "metadata": {},
   "source": [
    "**12. Implement a function to check if a given string is an anagram of another string.**"
   ]
  },
  {
   "cell_type": "code",
   "execution_count": 19,
   "id": "9b3aabca",
   "metadata": {},
   "outputs": [],
   "source": [
    "def check_anagram(str1,str2):\n",
    "    try:\n",
    "        if len(str1)!=len(str2):\n",
    "            return \"The Strings are not Anagram\"\n",
    "        \n",
    "        count=[0 for i in range(256)]\n",
    "        i=0\n",
    "        for i in range(len(str1)):\n",
    "            count[ord(str1[i]) - ord('a')] += 1;\n",
    "            count[ord(str2[i]) - ord('a')] -= 1;\n",
    "        \n",
    "        for i in range(256):\n",
    "            if (count[i] != 0):\n",
    "                return \"The Strings are not Anagram\"\n",
    "        \n",
    "        return \"The Strings are Anagram\"\n",
    "    \n",
    "    except Exception as e:\n",
    "        raise e"
   ]
  },
  {
   "cell_type": "code",
   "execution_count": 20,
   "id": "3cac8e18",
   "metadata": {},
   "outputs": [
    {
     "data": {
      "text/plain": [
       "'The Strings are not Anagram'"
      ]
     },
     "execution_count": 20,
     "metadata": {},
     "output_type": "execute_result"
    }
   ],
   "source": [
    "str1 = \"gram\"\n",
    "str2 = \"anagram\"\n",
    "check_anagram(str1,str2)"
   ]
  },
  {
   "cell_type": "code",
   "execution_count": 21,
   "id": "178b35e3",
   "metadata": {},
   "outputs": [
    {
     "data": {
      "text/plain": [
       "'The Strings are Anagram'"
      ]
     },
     "execution_count": 21,
     "metadata": {},
     "output_type": "execute_result"
    }
   ],
   "source": [
    "str1 = \"ram\"\n",
    "str2 = \"mar\"\n",
    "check_anagram(str1,str2)"
   ]
  },
  {
   "cell_type": "markdown",
   "id": "76e7653e",
   "metadata": {},
   "source": [
    "**13. Write a Python program to generate all permutations of a given string.**"
   ]
  },
  {
   "cell_type": "code",
   "execution_count": 23,
   "id": "5da9268a",
   "metadata": {},
   "outputs": [],
   "source": [
    "def get_permutation(string, i=0):\n",
    "    try:\n",
    "        if i == len(string):\n",
    "            print(\"\".join(string))\n",
    "        \n",
    "        for j in range(i, len(string)):\n",
    "            words = [c for c in string]\n",
    "            words[i], words[j] = words[j], words[i]\n",
    "            get_permutation(words, i + 1)\n",
    "    \n",
    "    except Exception as e:\n",
    "        raise e"
   ]
  },
  {
   "cell_type": "code",
   "execution_count": 24,
   "id": "78bf6f31",
   "metadata": {},
   "outputs": [
    {
     "name": "stdout",
     "output_type": "stream",
     "text": [
      "ABC\n",
      "ACB\n",
      "BAC\n",
      "BCA\n",
      "CBA\n",
      "CAB\n"
     ]
    }
   ],
   "source": [
    "S = \"ABC\"\n",
    "get_permutation(list(S))"
   ]
  },
  {
   "cell_type": "markdown",
   "id": "8ace84e9",
   "metadata": {},
   "source": [
    "**14. Implement a function to calculate the Fibonacci sequence up to a given number of terms.**"
   ]
  },
  {
   "cell_type": "code",
   "execution_count": 29,
   "id": "846bc896",
   "metadata": {},
   "outputs": [],
   "source": [
    "def fibonacci(n):\n",
    "    try:\n",
    "        series=[]\n",
    "        series.append(1)\n",
    "        series.append(1)\n",
    "        [series.append(series[k-1]+series[k-2]) for k in range(2,n)]\n",
    "        return series\n",
    "    except Exception as e:\n",
    "        raise e"
   ]
  },
  {
   "cell_type": "code",
   "execution_count": 30,
   "id": "8fdf6ffc",
   "metadata": {},
   "outputs": [
    {
     "data": {
      "text/plain": [
       "[1, 1, 2, 3, 5]"
      ]
     },
     "execution_count": 30,
     "metadata": {},
     "output_type": "execute_result"
    }
   ],
   "source": [
    "fibonacci(5)"
   ]
  },
  {
   "cell_type": "markdown",
   "id": "2b2d13cc",
   "metadata": {},
   "source": [
    "**15. Write a program to find the median of a list of numbers.**"
   ]
  },
  {
   "cell_type": "code",
   "execution_count": 38,
   "id": "3fc90d4e",
   "metadata": {},
   "outputs": [],
   "source": [
    "def find_median(lst):\n",
    "    try:\n",
    "        lst.sort()\n",
    "        n = len(lst)\n",
    "        if n%2 != 0:\n",
    "            return lst[n//2]\n",
    "        else:\n",
    "            return (lst[(n//2)-1] + lst[(n//2)])/2\n",
    "    except Exception as e:\n",
    "        raise e"
   ]
  },
  {
   "cell_type": "code",
   "execution_count": 39,
   "id": "0b41911d",
   "metadata": {},
   "outputs": [
    {
     "data": {
      "text/plain": [
       "2.5"
      ]
     },
     "execution_count": 39,
     "metadata": {},
     "output_type": "execute_result"
    }
   ],
   "source": [
    "lst1 = [2,3,1,4]\n",
    "find_median(lst1)"
   ]
  },
  {
   "cell_type": "code",
   "execution_count": 41,
   "id": "48f2840d",
   "metadata": {},
   "outputs": [
    {
     "data": {
      "text/plain": [
       "3"
      ]
     },
     "execution_count": 41,
     "metadata": {},
     "output_type": "execute_result"
    }
   ],
   "source": [
    "lst2 = [2,3,1,4,5]\n",
    "find_median(lst2)"
   ]
  },
  {
   "cell_type": "markdown",
   "id": "b84a133f",
   "metadata": {},
   "source": [
    "**16. Implement a function to check if a given list is sorted in non-decreasing order.**"
   ]
  },
  {
   "cell_type": "code",
   "execution_count": 44,
   "id": "20e9d341",
   "metadata": {},
   "outputs": [],
   "source": [
    "def check_sorted(lst):\n",
    "    try:\n",
    "        flag = False\n",
    "        for i in range(len(lst)):\n",
    "            if i == 0:\n",
    "                continue\n",
    "            elif lst[i-1] < lst[i]:\n",
    "                flag = True\n",
    "            else:\n",
    "                flag = False\n",
    "                break\n",
    "        if flag:\n",
    "            print(\"It is sorted ascending\")\n",
    "        else:\n",
    "            print(\"It is not sorted Ascending\")\n",
    "    except Exception as e:\n",
    "        raise e"
   ]
  },
  {
   "cell_type": "code",
   "execution_count": 45,
   "id": "f9f70194",
   "metadata": {},
   "outputs": [
    {
     "name": "stdout",
     "output_type": "stream",
     "text": [
      "It is not sorted Ascending\n"
     ]
    }
   ],
   "source": [
    "lst = [4,2,3,5]\n",
    "check_sorted(lst)"
   ]
  },
  {
   "cell_type": "code",
   "execution_count": 46,
   "id": "e9c16e73",
   "metadata": {},
   "outputs": [
    {
     "name": "stdout",
     "output_type": "stream",
     "text": [
      "It is sorted ascending\n"
     ]
    }
   ],
   "source": [
    "lst = [1,2,3,4]\n",
    "check_sorted(lst)"
   ]
  },
  {
   "cell_type": "markdown",
   "id": "e28493bf",
   "metadata": {},
   "source": [
    "**17. Write a Python program to find the intersection of two lists.**"
   ]
  },
  {
   "cell_type": "code",
   "execution_count": 47,
   "id": "23cd65f2",
   "metadata": {},
   "outputs": [],
   "source": [
    "def intersection_lists(lst1,lst2):\n",
    "    try:\n",
    "        res = []\n",
    "        for i in lst1:\n",
    "            if i in lst2:\n",
    "                res.append(i)\n",
    "        return res\n",
    "    \n",
    "    except Exception as e:\n",
    "        raise e"
   ]
  },
  {
   "cell_type": "code",
   "execution_count": 48,
   "id": "cd2e1481",
   "metadata": {},
   "outputs": [
    {
     "data": {
      "text/plain": [
       "[3, 1]"
      ]
     },
     "execution_count": 48,
     "metadata": {},
     "output_type": "execute_result"
    }
   ],
   "source": [
    "lst1 = [7,3,4,5,1]\n",
    "lst2 = [8,3,2,6,1]\n",
    "\n",
    "intersection_lists(lst1,lst2)"
   ]
  },
  {
   "cell_type": "markdown",
   "id": "2655e599",
   "metadata": {},
   "source": [
    "**18. Implement a function to find the maximum subarray sum in a given list.**"
   ]
  },
  {
   "cell_type": "code",
   "execution_count": 53,
   "id": "0924b070",
   "metadata": {},
   "outputs": [],
   "source": [
    "def maximumSubarraySum(lst):\n",
    "    try:\n",
    "        n = len(lst)\n",
    "        maxSum = -1e8\n",
    "        currSum = 0\n",
    "\n",
    "        for i in range(0, n):\n",
    "            currSum = currSum + lst[i]\n",
    "            if(currSum > maxSum):\n",
    "                maxSum = currSum\n",
    "            if(currSum < 0):\n",
    "                currSum = 0\n",
    "      \n",
    "        return maxSum\n",
    "    \n",
    "    except Exception as e:\n",
    "        raise e"
   ]
  },
  {
   "cell_type": "code",
   "execution_count": 54,
   "id": "547c5fdc",
   "metadata": {},
   "outputs": [
    {
     "data": {
      "text/plain": [
       "16"
      ]
     },
     "execution_count": 54,
     "metadata": {},
     "output_type": "execute_result"
    }
   ],
   "source": [
    "lst = [1, 3, 8, -2, 6, -8, 5]\n",
    "maximumSubarraySum(lst)"
   ]
  },
  {
   "cell_type": "code",
   "execution_count": 55,
   "id": "12e6fa70",
   "metadata": {},
   "outputs": [
    {
     "data": {
      "text/plain": [
       "42"
      ]
     },
     "execution_count": 55,
     "metadata": {},
     "output_type": "execute_result"
    }
   ],
   "source": [
    "lst = [1, -3, 18, -2, 26, -8, 5]\n",
    "maximumSubarraySum(lst)"
   ]
  },
  {
   "cell_type": "markdown",
   "id": "9b9bb8fa",
   "metadata": {},
   "source": [
    "**19. Write a program to remove all vowels from a given string.**"
   ]
  },
  {
   "cell_type": "code",
   "execution_count": 56,
   "id": "066f4ef2",
   "metadata": {},
   "outputs": [],
   "source": [
    "def remove_vowels(str1):\n",
    "    try:\n",
    "        s = ''\n",
    "        for i in str1.lower():\n",
    "            if i in ['a','e','i','o','u']:\n",
    "                continue\n",
    "            else:\n",
    "                s+=i\n",
    "        return s\n",
    "    except Exception as e:\n",
    "        raise e"
   ]
  },
  {
   "cell_type": "code",
   "execution_count": 58,
   "id": "18bd9c1c",
   "metadata": {},
   "outputs": [
    {
     "data": {
      "text/plain": [
       "'nsh'"
      ]
     },
     "execution_count": 58,
     "metadata": {},
     "output_type": "execute_result"
    }
   ],
   "source": [
    "str1 = \"nisha\"\n",
    "remove_vowels(str1)"
   ]
  },
  {
   "cell_type": "markdown",
   "id": "84417ea1",
   "metadata": {},
   "source": [
    "**20. Implement a function to reverse the order of words in a given sentence.**"
   ]
  },
  {
   "cell_type": "code",
   "execution_count": 64,
   "id": "bce603fe",
   "metadata": {},
   "outputs": [],
   "source": [
    "def reverse_order_words(str1):\n",
    "    try:\n",
    "        s = str1.split(\" \")\n",
    "        s1 = reversed(s)\n",
    "        return \" \".join(s1)\n",
    "    \n",
    "    except Exception as e:\n",
    "        raise e"
   ]
  },
  {
   "cell_type": "code",
   "execution_count": 65,
   "id": "fe8d226b",
   "metadata": {},
   "outputs": [
    {
     "data": {
      "text/plain": [
       "'you are how Hello'"
      ]
     },
     "execution_count": 65,
     "metadata": {},
     "output_type": "execute_result"
    }
   ],
   "source": [
    "str1 = \"Hello how are you\"\n",
    "reverse_order_words(str1)"
   ]
  },
  {
   "cell_type": "markdown",
   "id": "d9fd1833",
   "metadata": {},
   "source": [
    "**21. Write a Python program to check if two strings are anagrams of each other.**"
   ]
  },
  {
   "cell_type": "code",
   "execution_count": 66,
   "id": "7596f9bb",
   "metadata": {},
   "outputs": [],
   "source": [
    "def check_anagram(str1,str2):\n",
    "    try:\n",
    "        if len(str1)!=len(str2):\n",
    "            return \"The Strings are not Anagram\"\n",
    "        \n",
    "        count=[0 for i in range(256)]\n",
    "        i=0\n",
    "        for i in range(len(str1)):\n",
    "            count[ord(str1[i]) - ord('a')] += 1;\n",
    "            count[ord(str2[i]) - ord('a')] -= 1;\n",
    "        \n",
    "        for i in range(256):\n",
    "            if (count[i] != 0):\n",
    "                return \"The Strings are not Anagram\"\n",
    "        \n",
    "        return \"The Strings are Anagram\"\n",
    "    \n",
    "    except Exception as e:\n",
    "        raise e"
   ]
  },
  {
   "cell_type": "code",
   "execution_count": 67,
   "id": "bddc8c7b",
   "metadata": {},
   "outputs": [
    {
     "data": {
      "text/plain": [
       "'The Strings are Anagram'"
      ]
     },
     "execution_count": 67,
     "metadata": {},
     "output_type": "execute_result"
    }
   ],
   "source": [
    "str1 = \"radio\"\n",
    "str2 = \"dario\"\n",
    "check_anagram(str1,str2)"
   ]
  },
  {
   "cell_type": "markdown",
   "id": "2a2127b3",
   "metadata": {},
   "source": [
    "**22. Implement a function to find the first non-repeating character in a string.**"
   ]
  },
  {
   "cell_type": "code",
   "execution_count": 70,
   "id": "72092195",
   "metadata": {},
   "outputs": [],
   "source": [
    "def first_non_repeating(str1):\n",
    "    try:\n",
    "        hmap = {}\n",
    "        for i in str1:\n",
    "            if i in hmap:\n",
    "                hmap[i]+=1\n",
    "                return f\"first non repeating character is {i}\"\n",
    "            else:\n",
    "                hmap[i] = 1\n",
    "        return \"No repeating character found\"\n",
    "    except Exception as e:\n",
    "        raise e"
   ]
  },
  {
   "cell_type": "code",
   "execution_count": 71,
   "id": "f37171c7",
   "metadata": {},
   "outputs": [
    {
     "data": {
      "text/plain": [
       "'first non repeating character is i'"
      ]
     },
     "execution_count": 71,
     "metadata": {},
     "output_type": "execute_result"
    }
   ],
   "source": [
    "str1 = \"india\"\n",
    "first_non_repeating(str1)"
   ]
  },
  {
   "cell_type": "code",
   "execution_count": 72,
   "id": "5c506bfa",
   "metadata": {},
   "outputs": [
    {
     "data": {
      "text/plain": [
       "'No repeating character found'"
      ]
     },
     "execution_count": 72,
     "metadata": {},
     "output_type": "execute_result"
    }
   ],
   "source": [
    "str1 = \"value\"\n",
    "first_non_repeating(str1)"
   ]
  },
  {
   "cell_type": "markdown",
   "id": "e2b2c209",
   "metadata": {},
   "source": [
    "**23. Write a program to find the prime factors of a given number.**"
   ]
  },
  {
   "cell_type": "code",
   "execution_count": 1,
   "id": "1149e480",
   "metadata": {},
   "outputs": [],
   "source": [
    "import math\n",
    "\n",
    "def prime_factors(n):\n",
    "    try:\n",
    "        while n % 2 == 0:\n",
    "            print(2)\n",
    "            n = n/2\n",
    "        \n",
    "        for i in range(3,int(math.sqrt(n))+1,2):\n",
    "            while n % i== 0:\n",
    "                print(i)\n",
    "                n = n / i\n",
    "        \n",
    "        if n > 2:\n",
    "            print(n)\n",
    "    \n",
    "    except Exception as e:\n",
    "        raise e"
   ]
  },
  {
   "cell_type": "code",
   "execution_count": 2,
   "id": "b09b8e4b",
   "metadata": {},
   "outputs": [
    {
     "name": "stdout",
     "output_type": "stream",
     "text": [
      "3\n",
      "3\n",
      "5\n",
      "7\n"
     ]
    }
   ],
   "source": [
    "n = 315\n",
    "prime_factors(n)"
   ]
  },
  {
   "cell_type": "markdown",
   "id": "714ee14b",
   "metadata": {},
   "source": [
    "**24. Implement a function to check if a given number is a power of two.**"
   ]
  },
  {
   "cell_type": "code",
   "execution_count": 6,
   "id": "66418451",
   "metadata": {},
   "outputs": [],
   "source": [
    "def power_two(num):\n",
    "    try:\n",
    "        if num == 0:\n",
    "            return false\n",
    "    \n",
    "        return (math.log10(num) /math.log10(2))\n",
    "    \n",
    "    except Exception as e:\n",
    "        raise e\n",
    "\n",
    "def isPowerOfTwo(num):\n",
    "    try:\n",
    "        return (math.ceil(power_two(num)) ==\n",
    "            math.floor(power_two(num)))\n",
    "    \n",
    "    except Exception as e:\n",
    "        raise e"
   ]
  },
  {
   "cell_type": "code",
   "execution_count": 7,
   "id": "b9f7402f",
   "metadata": {},
   "outputs": [
    {
     "data": {
      "text/plain": [
       "False"
      ]
     },
     "execution_count": 7,
     "metadata": {},
     "output_type": "execute_result"
    }
   ],
   "source": [
    "isPowerOfTwo(31)"
   ]
  },
  {
   "cell_type": "code",
   "execution_count": 8,
   "id": "55d15118",
   "metadata": {},
   "outputs": [
    {
     "data": {
      "text/plain": [
       "True"
      ]
     },
     "execution_count": 8,
     "metadata": {},
     "output_type": "execute_result"
    }
   ],
   "source": [
    "isPowerOfTwo(16)"
   ]
  },
  {
   "cell_type": "markdown",
   "id": "125ad1ea",
   "metadata": {},
   "source": [
    "**25. Write a Python program to merge two sorted lists into a single sorted list.**"
   ]
  },
  {
   "cell_type": "code",
   "execution_count": 26,
   "id": "9f96b014",
   "metadata": {},
   "outputs": [],
   "source": [
    "def sort_list(l1,l2):\n",
    "    try:\n",
    "        l1.extend(l2)\n",
    "        l1.sort()\n",
    "        return l1\n",
    "    \n",
    "    except Exception as e:\n",
    "        raise e"
   ]
  },
  {
   "cell_type": "code",
   "execution_count": 27,
   "id": "662f629c",
   "metadata": {},
   "outputs": [
    {
     "data": {
      "text/plain": [
       "[1, 2, 3, 4, 5, 6]"
      ]
     },
     "execution_count": 27,
     "metadata": {},
     "output_type": "execute_result"
    }
   ],
   "source": [
    "l1 = [1,3,5]\n",
    "l2 = [2,4,6]\n",
    "sort_list(l1,l2)"
   ]
  },
  {
   "cell_type": "markdown",
   "id": "b14e5df0",
   "metadata": {},
   "source": [
    "**26. Implement a function to find the mode of a list of numbers.**"
   ]
  },
  {
   "cell_type": "code",
   "execution_count": 28,
   "id": "543b9969",
   "metadata": {},
   "outputs": [],
   "source": [
    "def mode(lst):\n",
    "    try:\n",
    "        return max(set(lst), key=lst.count)\n",
    "    \n",
    "    except Exception as e:\n",
    "        raise e"
   ]
  },
  {
   "cell_type": "code",
   "execution_count": 29,
   "id": "4ff2daac",
   "metadata": {},
   "outputs": [
    {
     "data": {
      "text/plain": [
       "1"
      ]
     },
     "execution_count": 29,
     "metadata": {},
     "output_type": "execute_result"
    }
   ],
   "source": [
    "lst = [1,3,3,4,5,2,3,1,5,3,1,1,2,1]\n",
    "mode(lst)"
   ]
  },
  {
   "cell_type": "markdown",
   "id": "6344b7f5",
   "metadata": {},
   "source": [
    "**27. Write a program to find the greatest common divisor (GCD) of two numbers.**"
   ]
  },
  {
   "cell_type": "code",
   "execution_count": 30,
   "id": "816c5adc",
   "metadata": {},
   "outputs": [],
   "source": [
    "def gcd(a,b):\n",
    "    try:\n",
    "        if b == 0:\n",
    "            return a\n",
    "        else:\n",
    "            return gcd(b,a%b)\n",
    "    except Exception as e:\n",
    "        raise e"
   ]
  },
  {
   "cell_type": "code",
   "execution_count": 31,
   "id": "58d6e994",
   "metadata": {},
   "outputs": [
    {
     "data": {
      "text/plain": [
       "12"
      ]
     },
     "execution_count": 31,
     "metadata": {},
     "output_type": "execute_result"
    }
   ],
   "source": [
    "a = 60\n",
    "b = 48\n",
    "gcd(a,b)"
   ]
  },
  {
   "cell_type": "markdown",
   "id": "9aabca6a",
   "metadata": {},
   "source": [
    "**28. Implement a function to calculate the square root of a given number.**"
   ]
  },
  {
   "cell_type": "code",
   "execution_count": 32,
   "id": "aa08c4b1",
   "metadata": {},
   "outputs": [],
   "source": [
    "import math\n",
    "\n",
    "def square(num):\n",
    "    try:\n",
    "        return math.sqrt(num)\n",
    "    except Exception as e:\n",
    "        raise e"
   ]
  },
  {
   "cell_type": "code",
   "execution_count": 33,
   "id": "03a2fd11",
   "metadata": {},
   "outputs": [
    {
     "data": {
      "text/plain": [
       "2.8284271247461903"
      ]
     },
     "execution_count": 33,
     "metadata": {},
     "output_type": "execute_result"
    }
   ],
   "source": [
    "square(8)"
   ]
  },
  {
   "cell_type": "code",
   "execution_count": 34,
   "id": "f9e398eb",
   "metadata": {},
   "outputs": [
    {
     "data": {
      "text/plain": [
       "0.0"
      ]
     },
     "execution_count": 34,
     "metadata": {},
     "output_type": "execute_result"
    }
   ],
   "source": [
    "square(0)"
   ]
  },
  {
   "cell_type": "markdown",
   "id": "30acf9a8",
   "metadata": {},
   "source": [
    "**29. Write a Python program to check if a given string is a valid palindrome ignoring non-alphanumeric characters.**"
   ]
  },
  {
   "cell_type": "code",
   "execution_count": 38,
   "id": "711e9ce2",
   "metadata": {},
   "outputs": [],
   "source": [
    "def isPalindrome(s):\n",
    "    try:\n",
    "        i, j = 0, len(s) - 1\n",
    "\n",
    "        while i < j:\n",
    "            while i < j and not s[i].isalnum():\n",
    "                i += 1\n",
    "            while i < j and not s[j].isalnum():\n",
    "                j -= 1\n",
    "\n",
    "            if i < j and s[i].lower() != s[j].lower():\n",
    "                return False\n",
    "\n",
    "            i += 1\n",
    "            j -= 1\n",
    "\n",
    "        return True\n",
    "\n",
    "    except Exception as e:\n",
    "        raise e"
   ]
  },
  {
   "cell_type": "code",
   "execution_count": 39,
   "id": "069a40b1",
   "metadata": {},
   "outputs": [],
   "source": [
    "s = \"ab3 Gh h:g, 3ba\""
   ]
  },
  {
   "cell_type": "code",
   "execution_count": 40,
   "id": "6debcc70",
   "metadata": {},
   "outputs": [
    {
     "data": {
      "text/plain": [
       "True"
      ]
     },
     "execution_count": 40,
     "metadata": {},
     "output_type": "execute_result"
    }
   ],
   "source": [
    "isPalindrome(s)"
   ]
  },
  {
   "cell_type": "code",
   "execution_count": 41,
   "id": "ea79e0e7",
   "metadata": {},
   "outputs": [
    {
     "data": {
      "text/plain": [
       "False"
      ]
     },
     "execution_count": 41,
     "metadata": {},
     "output_type": "execute_result"
    }
   ],
   "source": [
    "s1 = \"Tomato\"\n",
    "isPalindrome(s1)"
   ]
  },
  {
   "cell_type": "markdown",
   "id": "23ba8ea0",
   "metadata": {},
   "source": [
    "**30. Implement a function to find the minimum element in a rotated sorted list.**"
   ]
  },
  {
   "cell_type": "code",
   "execution_count": 43,
   "id": "4048b4c4",
   "metadata": {},
   "outputs": [],
   "source": [
    "def find_min_rotated(lst,low,high):\n",
    "    try:\n",
    "        if lst[low] <= lst[high]:\n",
    "            return lst[low]\n",
    "        \n",
    "        while low <= high:\n",
    "            mid = (low + high) // 2\n",
    "            \n",
    "            if lst[mid] < lst[mid-1]:\n",
    "                return lst[mid]\n",
    "            \n",
    "            if lst[mid] > lst[high]:\n",
    "                low = mid + 1\n",
    "                \n",
    "            else:\n",
    "                high = mid - 1\n",
    "            \n",
    "        return None\n",
    "    \n",
    "    except Exception as e:\n",
    "        raise e"
   ]
  },
  {
   "cell_type": "code",
   "execution_count": 44,
   "id": "bffa2533",
   "metadata": {},
   "outputs": [
    {
     "data": {
      "text/plain": [
       "1"
      ]
     },
     "execution_count": 44,
     "metadata": {},
     "output_type": "execute_result"
    }
   ],
   "source": [
    "arr = [5, 6, 1, 2, 3, 4]\n",
    "N = len(arr)\n",
    "find_min_rotated(arr,0,N-1)"
   ]
  },
  {
   "cell_type": "markdown",
   "id": "a0cfdc08",
   "metadata": {},
   "source": [
    "**31. Write a program to find the sum of all even numbers in a list.**"
   ]
  },
  {
   "cell_type": "code",
   "execution_count": 45,
   "id": "6293ede9",
   "metadata": {},
   "outputs": [],
   "source": [
    "def sum_even(lst):\n",
    "    try:\n",
    "        return sum([x for x in lst if x%2 == 0])\n",
    "    except Exception as e:\n",
    "        raise e"
   ]
  },
  {
   "cell_type": "code",
   "execution_count": 46,
   "id": "c6cb125d",
   "metadata": {},
   "outputs": [
    {
     "data": {
      "text/plain": [
       "12"
      ]
     },
     "execution_count": 46,
     "metadata": {},
     "output_type": "execute_result"
    }
   ],
   "source": [
    "arr = [5, 6, 1, 2, 3, 4]\n",
    "sum_even(arr)"
   ]
  },
  {
   "cell_type": "markdown",
   "id": "8cf5490c",
   "metadata": {},
   "source": [
    "**32. Implement a function to calculate the power of a number using recursion.**"
   ]
  },
  {
   "cell_type": "code",
   "execution_count": 49,
   "id": "c82bad02",
   "metadata": {},
   "outputs": [],
   "source": [
    "def power_num(num,power):\n",
    "    try:\n",
    "        if power == 0:\n",
    "            return 1\n",
    "        \n",
    "        return num*power_num(num,power-1)\n",
    "    \n",
    "    except Exception as e:\n",
    "        raise e\n",
    "        "
   ]
  },
  {
   "cell_type": "code",
   "execution_count": 50,
   "id": "6cf6b183",
   "metadata": {},
   "outputs": [
    {
     "data": {
      "text/plain": [
       "8"
      ]
     },
     "execution_count": 50,
     "metadata": {},
     "output_type": "execute_result"
    }
   ],
   "source": [
    "power_num(2,3)"
   ]
  },
  {
   "cell_type": "markdown",
   "id": "b47026f6",
   "metadata": {},
   "source": [
    "**33. Write a Python program to remove duplicates from a list while preserving the order.**"
   ]
  },
  {
   "cell_type": "code",
   "execution_count": 51,
   "id": "f46b235a",
   "metadata": {},
   "outputs": [],
   "source": [
    "def remove_duplicates(lst):\n",
    "    try:\n",
    "        hash = {}\n",
    "        result = []\n",
    "        for i in lst:\n",
    "            if i in hash:\n",
    "                continue\n",
    "            else:\n",
    "                hash[i] = 1\n",
    "                result.append(i)\n",
    "        return result\n",
    "    \n",
    "    except Exception as e:\n",
    "        raise e"
   ]
  },
  {
   "cell_type": "code",
   "execution_count": 52,
   "id": "d07500d6",
   "metadata": {},
   "outputs": [
    {
     "data": {
      "text/plain": [
       "[1, 4, 3, 6, 2, 5]"
      ]
     },
     "execution_count": 52,
     "metadata": {},
     "output_type": "execute_result"
    }
   ],
   "source": [
    "lst = [1,4,3,3,6,2,6,5]\n",
    "remove_duplicates(lst)"
   ]
  },
  {
   "cell_type": "markdown",
   "id": "0897e4ab",
   "metadata": {},
   "source": [
    "**34. Implement a function to find the longest common prefix among a list of strings.**"
   ]
  },
  {
   "cell_type": "code",
   "execution_count": 59,
   "id": "801a7f31",
   "metadata": {},
   "outputs": [],
   "source": [
    "def longestCommonPrefix(S):\n",
    "    try:\n",
    "        if \"\" in S or S == []:\n",
    "            return \"\"\n",
    "        prefix = S[0]\n",
    "        for i in range(1,len(S)):\n",
    "            while(prefix != \"\"):\n",
    "                try:\n",
    "                    if str.index(str(S[i]),prefix) == 0:\n",
    "                        break\n",
    "                    else:\n",
    "                        prefix = prefix[:-1]\n",
    "                except:\n",
    "                    \n",
    "                    prefix = prefix[:-1]\n",
    "        return prefix\n",
    "    \n",
    "    except Exception as e:\n",
    "        raise e"
   ]
  },
  {
   "cell_type": "code",
   "execution_count": 60,
   "id": "d38397dc",
   "metadata": {},
   "outputs": [
    {
     "name": "stdout",
     "output_type": "stream",
     "text": [
      "fl\n"
     ]
    }
   ],
   "source": [
    "s = ['flower', 'flow', 'flight']\n",
    "print(longestCommonPrefix(s))"
   ]
  },
  {
   "cell_type": "code",
   "execution_count": 61,
   "id": "1c23f576",
   "metadata": {},
   "outputs": [
    {
     "name": "stdout",
     "output_type": "stream",
     "text": [
      "flo\n"
     ]
    }
   ],
   "source": [
    "s = ['flower', 'flow', 'floppy']\n",
    "print(longestCommonPrefix(s))"
   ]
  },
  {
   "cell_type": "markdown",
   "id": "dc4b7025",
   "metadata": {},
   "source": [
    "**35. Write a program to check if a given number is a perfect square.**"
   ]
  },
  {
   "cell_type": "code",
   "execution_count": 72,
   "id": "491f8298",
   "metadata": {},
   "outputs": [],
   "source": [
    "import math\n",
    "\n",
    "def perfect_square(num):\n",
    "    try:\n",
    "        if num > 0:\n",
    "            res = int(math.sqrt(num))\n",
    "            if res*res == num:\n",
    "                 return \"Perfect Square\"\n",
    "            else:\n",
    "                return \"Not a Perfect Square\"\n",
    "    \n",
    "    except Exception as e:\n",
    "        raise e\n",
    "            "
   ]
  },
  {
   "cell_type": "code",
   "execution_count": 73,
   "id": "a2d0396e",
   "metadata": {},
   "outputs": [
    {
     "data": {
      "text/plain": [
       "'Perfect Square'"
      ]
     },
     "execution_count": 73,
     "metadata": {},
     "output_type": "execute_result"
    }
   ],
   "source": [
    "perfect_square(4)"
   ]
  },
  {
   "cell_type": "code",
   "execution_count": 75,
   "id": "ac78d656",
   "metadata": {},
   "outputs": [
    {
     "data": {
      "text/plain": [
       "'Not a Perfect Square'"
      ]
     },
     "execution_count": 75,
     "metadata": {},
     "output_type": "execute_result"
    }
   ],
   "source": [
    "perfect_square(8)"
   ]
  },
  {
   "cell_type": "markdown",
   "id": "121ee3d8",
   "metadata": {},
   "source": [
    "**36. Implement a function to calculate the product of all elements in a list.**"
   ]
  },
  {
   "cell_type": "code",
   "execution_count": 76,
   "id": "55b4e269",
   "metadata": {},
   "outputs": [],
   "source": [
    "def prod_of_elements(lst):\n",
    "    try:\n",
    "        res = 1\n",
    "        for i in lst:\n",
    "            res*=i\n",
    "        return res\n",
    "    \n",
    "    except Exception as e:\n",
    "        raise e"
   ]
  },
  {
   "cell_type": "code",
   "execution_count": 77,
   "id": "a737789a",
   "metadata": {},
   "outputs": [
    {
     "data": {
      "text/plain": [
       "720"
      ]
     },
     "execution_count": 77,
     "metadata": {},
     "output_type": "execute_result"
    }
   ],
   "source": [
    "arr = [5, 6, 1, 2, 3, 4]\n",
    "prod_of_elements(arr)"
   ]
  },
  {
   "cell_type": "markdown",
   "id": "e1f439b2",
   "metadata": {},
   "source": [
    "**37. Write a Python program to reverse the order of words in a sentence while preserving the word order.**"
   ]
  },
  {
   "cell_type": "code",
   "execution_count": 78,
   "id": "1f043b9a",
   "metadata": {},
   "outputs": [],
   "source": [
    "def reverse_sentence(Sentence):\n",
    "    try:\n",
    "        return ' '.join(word[::-1] for word in Sentence.split(\" \"))\n",
    "    except Exception as e:\n",
    "        raise e"
   ]
  },
  {
   "cell_type": "code",
   "execution_count": 79,
   "id": "e2cbbee6",
   "metadata": {},
   "outputs": [
    {
     "data": {
      "text/plain": [
       "'sihT si dooG'"
      ]
     },
     "execution_count": 79,
     "metadata": {},
     "output_type": "execute_result"
    }
   ],
   "source": [
    "Sentence = \"This is Good\"\n",
    "reverse_sentence(Sentence)"
   ]
  },
  {
   "cell_type": "markdown",
   "id": "3cc95f43",
   "metadata": {},
   "source": [
    "**38. Implement a function to find the missing number in a given list of consecutive numbers.**"
   ]
  },
  {
   "cell_type": "code",
   "execution_count": 80,
   "id": "c59034ad",
   "metadata": {},
   "outputs": [],
   "source": [
    "def find_missing(lst):\n",
    "    try:\n",
    "        n = len(lst)\n",
    "        l,r = 0, n-1\n",
    "        mid = 0\n",
    "        \n",
    "        while r > l:\n",
    "            mid = l + (r - l)//2\n",
    "            \n",
    "            if (lst[mid] - mid) == lst[0]:\n",
    "                if (lst[mid + 1] - lst[mid]) > 1:\n",
    "                    return lst[mid] + 1\n",
    "                else:\n",
    "                    l = mid + 1\n",
    "            else:\n",
    "                if (lst[mid] - lst[mid - 1] > 1):\n",
    "                    return lst[mid] - 1\n",
    "                \n",
    "                else:\n",
    "                    r = mid - 1\n",
    "        return -1\n",
    "    \n",
    "    except Exception as e:\n",
    "        raise e"
   ]
  },
  {
   "cell_type": "code",
   "execution_count": 81,
   "id": "01f4f5bf",
   "metadata": {},
   "outputs": [
    {
     "data": {
      "text/plain": [
       "-6"
      ]
     },
     "execution_count": 81,
     "metadata": {},
     "output_type": "execute_result"
    }
   ],
   "source": [
    "arr = [-9, -8, -7, -5, -4, -3, -2, -1, 0 ]\n",
    "find_missing(arr)"
   ]
  },
  {
   "cell_type": "markdown",
   "id": "64af89c2",
   "metadata": {},
   "source": [
    "**39. Write a program to find the sum of digits of a given number.**"
   ]
  },
  {
   "cell_type": "code",
   "execution_count": 82,
   "id": "3b159808",
   "metadata": {},
   "outputs": [],
   "source": [
    "def sum_of_digits(num):\n",
    "    try:\n",
    "        flag = True\n",
    "        res = 0\n",
    "        while flag:\n",
    "            if num > 9:\n",
    "                res+=(num%10)\n",
    "                num = num//10\n",
    "            else:\n",
    "                res+= num\n",
    "                flag = False\n",
    "        \n",
    "        return res\n",
    "    \n",
    "    except Exception as e:\n",
    "        raise e\n",
    "            "
   ]
  },
  {
   "cell_type": "code",
   "execution_count": 83,
   "id": "a5a3b484",
   "metadata": {},
   "outputs": [
    {
     "data": {
      "text/plain": [
       "6"
      ]
     },
     "execution_count": 83,
     "metadata": {},
     "output_type": "execute_result"
    }
   ],
   "source": [
    "sum_of_digits(123)"
   ]
  },
  {
   "cell_type": "code",
   "execution_count": 84,
   "id": "4173ce17",
   "metadata": {},
   "outputs": [
    {
     "data": {
      "text/plain": [
       "7"
      ]
     },
     "execution_count": 84,
     "metadata": {},
     "output_type": "execute_result"
    }
   ],
   "source": [
    "sum_of_digits(1231)"
   ]
  },
  {
   "cell_type": "markdown",
   "id": "8e08da7e",
   "metadata": {},
   "source": [
    "**40. Implement a function to check if a given string is a valid palindrome considering case sensitivity.**"
   ]
  },
  {
   "cell_type": "code",
   "execution_count": 91,
   "id": "5ce544fd",
   "metadata": {},
   "outputs": [],
   "source": [
    "def check_palindrome(str1):\n",
    "    try:\n",
    "        if str1.lower() == str1[::-1].lower():\n",
    "            return \"Palindrome\"\n",
    "        else:\n",
    "            return \"Not a Palindrome\"\n",
    "    \n",
    "    except Exception as e:\n",
    "        raise e"
   ]
  },
  {
   "cell_type": "code",
   "execution_count": 92,
   "id": "dc0a482c",
   "metadata": {},
   "outputs": [
    {
     "data": {
      "text/plain": [
       "'Palindrome'"
      ]
     },
     "execution_count": 92,
     "metadata": {},
     "output_type": "execute_result"
    }
   ],
   "source": [
    "check_palindrome(\"malayalam\")"
   ]
  },
  {
   "cell_type": "code",
   "execution_count": 93,
   "id": "68e00497",
   "metadata": {},
   "outputs": [
    {
     "data": {
      "text/plain": [
       "'Palindrome'"
      ]
     },
     "execution_count": 93,
     "metadata": {},
     "output_type": "execute_result"
    }
   ],
   "source": [
    "check_palindrome(\"Malayalam\")"
   ]
  },
  {
   "cell_type": "markdown",
   "id": "427c2b71",
   "metadata": {},
   "source": [
    "**41. Write a Python program to find the smallest missing positive integer in a list.**"
   ]
  },
  {
   "cell_type": "code",
   "execution_count": 94,
   "id": "8609a2e6",
   "metadata": {},
   "outputs": [],
   "source": [
    "def firstMissingPositive(arr, n):\n",
    " \n",
    "    ptr = 0\n",
    "    for i in range(n):\n",
    "        if arr[i] == 1:\n",
    "            ptr = 1\n",
    "            break\n",
    "\n",
    "    if ptr == 0:\n",
    "        return(1)\n",
    " \n",
    "    for i in range(n):\n",
    "        if arr[i] <= 0 or arr[i] > n:\n",
    "            arr[i] = 1\n",
    " \n",
    "    for i in range(n):\n",
    "        arr[(arr[i] - 1) % n] += n\n",
    " \n",
    "    for i in range(n):\n",
    "        if arr[i] <= n:\n",
    "            return(i + 1)\n",
    " \n",
    "    return(n + 1)"
   ]
  },
  {
   "cell_type": "code",
   "execution_count": 95,
   "id": "42d62ede",
   "metadata": {},
   "outputs": [],
   "source": [
    "A = [0, 10, 2, -10, -20]"
   ]
  },
  {
   "cell_type": "code",
   "execution_count": 96,
   "id": "1239d588",
   "metadata": {},
   "outputs": [
    {
     "data": {
      "text/plain": [
       "1"
      ]
     },
     "execution_count": 96,
     "metadata": {},
     "output_type": "execute_result"
    }
   ],
   "source": [
    "firstMissingPositive(A,len(A))"
   ]
  },
  {
   "cell_type": "markdown",
   "id": "742a84ac",
   "metadata": {},
   "source": [
    "**42. Implement a function to find the longest palindrome substring in a given string.**"
   ]
  },
  {
   "cell_type": "code",
   "execution_count": 97,
   "id": "b278c9b8",
   "metadata": {},
   "outputs": [],
   "source": [
    "def longestPalSubstr(str):\n",
    "     \n",
    "    n = len(str)\n",
    "     \n",
    "    maxLength = 1\n",
    "    start = 0\n",
    "     \n",
    "    for i in range(n):\n",
    "        for j in range(i, n):\n",
    "            flag = 1\n",
    "             \n",
    "            for k in range(0, ((j - i) // 2) + 1):\n",
    "                if (str[i + k] != str[j - k]):\n",
    "                    flag = 0\n",
    " \n",
    "\n",
    "            if (flag != 0 and (j - i + 1) > maxLength):\n",
    "                start = i\n",
    "                maxLength = j - i + 1\n",
    "                 \n",
    "    return maxLength"
   ]
  },
  {
   "cell_type": "code",
   "execution_count": 98,
   "id": "51e43ba4",
   "metadata": {},
   "outputs": [
    {
     "name": "stdout",
     "output_type": "stream",
     "text": [
      "2\n"
     ]
    }
   ],
   "source": [
    "s = \"Hello\"\n",
    "print(longestPalSubstr(s))"
   ]
  },
  {
   "cell_type": "markdown",
   "id": "131c5963",
   "metadata": {},
   "source": [
    "**43. Write a program to find the number of occurrences of a given element in a list.**"
   ]
  },
  {
   "cell_type": "code",
   "execution_count": 99,
   "id": "cf77bb64",
   "metadata": {},
   "outputs": [],
   "source": [
    "def find_occurance(lst,element):\n",
    "    try:\n",
    "        return lst.count(element)\n",
    "    except Exception as e:\n",
    "        raise e"
   ]
  },
  {
   "cell_type": "code",
   "execution_count": 100,
   "id": "29a3aa47",
   "metadata": {},
   "outputs": [
    {
     "data": {
      "text/plain": [
       "3"
      ]
     },
     "execution_count": 100,
     "metadata": {},
     "output_type": "execute_result"
    }
   ],
   "source": [
    "lst = [12,34,65,11,12,45,77,12]\n",
    "find_occurance(lst,12)"
   ]
  },
  {
   "cell_type": "markdown",
   "id": "2556da9a",
   "metadata": {},
   "source": [
    "**44. Implement a function to check if a given number is a perfect number.**"
   ]
  },
  {
   "cell_type": "code",
   "execution_count": 101,
   "id": "f38a609f",
   "metadata": {},
   "outputs": [],
   "source": [
    "def perfect_num(num):\n",
    "    try:\n",
    "        sumn = 0\n",
    "        for i in range(1,num):\n",
    "            if num%i == 0:\n",
    "                sumn+=i\n",
    "        if sumn == num:\n",
    "            return \"Perfect Number\"\n",
    "        else:\n",
    "            return \"Not a Perfect Number\"\n",
    "    \n",
    "    except Exception as e:\n",
    "        raise e"
   ]
  },
  {
   "cell_type": "code",
   "execution_count": 102,
   "id": "9502a244",
   "metadata": {},
   "outputs": [
    {
     "data": {
      "text/plain": [
       "'Perfect Number'"
      ]
     },
     "execution_count": 102,
     "metadata": {},
     "output_type": "execute_result"
    }
   ],
   "source": [
    "perfect_num(6)"
   ]
  },
  {
   "cell_type": "code",
   "execution_count": 103,
   "id": "9f3062b8",
   "metadata": {},
   "outputs": [
    {
     "data": {
      "text/plain": [
       "'Not a Perfect Number'"
      ]
     },
     "execution_count": 103,
     "metadata": {},
     "output_type": "execute_result"
    }
   ],
   "source": [
    "perfect_num(7)"
   ]
  },
  {
   "cell_type": "code",
   "execution_count": 105,
   "id": "5ff4b081",
   "metadata": {},
   "outputs": [
    {
     "data": {
      "text/plain": [
       "'Perfect Number'"
      ]
     },
     "execution_count": 105,
     "metadata": {},
     "output_type": "execute_result"
    }
   ],
   "source": [
    "perfect_num(28)"
   ]
  },
  {
   "cell_type": "markdown",
   "id": "9af13e13",
   "metadata": {},
   "source": [
    "**45. Write a Python program to remove all duplicates from a string.**"
   ]
  },
  {
   "cell_type": "code",
   "execution_count": 106,
   "id": "9610c065",
   "metadata": {},
   "outputs": [],
   "source": [
    "def remove_all_duplicates(str1):\n",
    "    try:\n",
    "        return ''.join(set(list(str1)))\n",
    "    except Exception as e:\n",
    "        raise e"
   ]
  },
  {
   "cell_type": "code",
   "execution_count": 108,
   "id": "64568bc8",
   "metadata": {},
   "outputs": [
    {
     "data": {
      "text/plain": [
       "'eNlixtf'"
      ]
     },
     "execution_count": 108,
     "metadata": {},
     "output_type": "execute_result"
    }
   ],
   "source": [
    "str1 = \"Netflix\"\n",
    "remove_all_duplicates(str1)"
   ]
  },
  {
   "cell_type": "code",
   "execution_count": 109,
   "id": "a689f3ca",
   "metadata": {},
   "outputs": [
    {
     "data": {
      "text/plain": [
       "'amnzo'"
      ]
     },
     "execution_count": 109,
     "metadata": {},
     "output_type": "execute_result"
    }
   ],
   "source": [
    "str1 = \"amazon\"\n",
    "remove_all_duplicates(str1)"
   ]
  },
  {
   "cell_type": "markdown",
   "id": "fbfcc06a",
   "metadata": {},
   "source": [
    "**46. Implement a function to find the first missing positive**"
   ]
  },
  {
   "cell_type": "code",
   "execution_count": 110,
   "id": "11a4a584",
   "metadata": {},
   "outputs": [],
   "source": [
    "def firstMissingPositive(arr, n):\n",
    " \n",
    "    ptr = 0\n",
    "    for i in range(n):\n",
    "        if arr[i] == 1:\n",
    "            ptr = 1\n",
    "            break\n",
    "\n",
    "    if ptr == 0:\n",
    "        return(1)\n",
    " \n",
    "    for i in range(n):\n",
    "        if arr[i] <= 0 or arr[i] > n:\n",
    "            arr[i] = 1\n",
    " \n",
    "    for i in range(n):\n",
    "        arr[(arr[i] - 1) % n] += n\n",
    " \n",
    "    for i in range(n):\n",
    "        if arr[i] <= n:\n",
    "            return(i + 1)\n",
    " \n",
    "    return(n + 1)"
   ]
  },
  {
   "cell_type": "code",
   "execution_count": 111,
   "id": "8e5ce884",
   "metadata": {},
   "outputs": [],
   "source": [
    "A = [0, 10, 2, -10, -20]"
   ]
  },
  {
   "cell_type": "code",
   "execution_count": 112,
   "id": "46ed4c56",
   "metadata": {},
   "outputs": [
    {
     "data": {
      "text/plain": [
       "1"
      ]
     },
     "execution_count": 112,
     "metadata": {},
     "output_type": "execute_result"
    }
   ],
   "source": [
    "firstMissingPositive(A,len(A))"
   ]
  },
  {
   "cell_type": "code",
   "execution_count": null,
   "id": "37a445c6",
   "metadata": {},
   "outputs": [],
   "source": []
  }
 ],
 "metadata": {
  "kernelspec": {
   "display_name": "Python 3 (ipykernel)",
   "language": "python",
   "name": "python3"
  },
  "language_info": {
   "codemirror_mode": {
    "name": "ipython",
    "version": 3
   },
   "file_extension": ".py",
   "mimetype": "text/x-python",
   "name": "python",
   "nbconvert_exporter": "python",
   "pygments_lexer": "ipython3",
   "version": "3.9.12"
  }
 },
 "nbformat": 4,
 "nbformat_minor": 5
}
