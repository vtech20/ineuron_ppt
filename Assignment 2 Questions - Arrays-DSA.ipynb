{
 "cells": [
  {
   "cell_type": "markdown",
   "id": "0e779564",
   "metadata": {},
   "source": [
    "Question 1\n",
    "Given an integer array nums of 2n integers, group these integers into n pairs (a1, b1), (a2, b2),\n",
    "..., (an, bn) such that the sum of min(ai, bi) for all i is maximized. Return the maximized sum.\n",
    "Example 1:\n",
    "Input: nums = [1,4,3,2]\n",
    "Output: 4\n",
    "Explanation: All possible pairings (ignoring the ordering of elements) are:\n",
    "1. (1, 4), (2, 3) -> min(1, 4) + min(2, 3) = 1 + 2 = 3\n",
    "2. (1, 3), (2, 4) -> min(1, 3) + min(2, 4) = 1 + 2 = 3\n",
    "3. (1, 2), (3, 4) -> min(1, 2) + min(3, 4) = 1 + 3 = 4\n",
    "So the maximum possible sum is 4"
   ]
  },
  {
   "cell_type": "code",
   "execution_count": 1,
   "id": "f990ab0d",
   "metadata": {},
   "outputs": [],
   "source": [
    "def minpairsum(nums):\n",
    "    nums.sort()\n",
    "    return(sum(nums[::2]))"
   ]
  },
  {
   "cell_type": "code",
   "execution_count": 2,
   "id": "06e8c74e",
   "metadata": {},
   "outputs": [
    {
     "data": {
      "text/plain": [
       "4"
      ]
     },
     "execution_count": 2,
     "metadata": {},
     "output_type": "execute_result"
    }
   ],
   "source": [
    "nums = [1,4,3,2]\n",
    "minpairsum(nums)"
   ]
  },
  {
   "cell_type": "markdown",
   "id": "463e6bab",
   "metadata": {},
   "source": [
    "Question 2\n",
    "\n",
    "Alice has n candies, where the ith candy is of type candyType[i]. Alice noticed that she started\n",
    "to gain weight, so she visited a doctor.\n",
    "\n",
    "The doctor advised Alice to only eat n / 2 of the candies she has (n is always even). \n",
    "Alice\n",
    "likes her candies very much, and she wants to eat the maximum number of different types of\n",
    "candies while still following the doctor's advice.\n",
    "\n",
    "Given the integer array candyType of length n, return the maximum number of different types\n",
    "of candies she can eat if she only eats n / 2 of them.\n",
    "\n",
    "Example 1:\n",
    "\n",
    "Input: candyType = [1,1,2,2,3,3]\n",
    "\n",
    "Output: 3\n",
    "\n",
    "Explanation: Alice can only eat 6 / 2 = 3 candies. Since there are only 3 types, she can eat one\n",
    "of each type."
   ]
  },
  {
   "cell_type": "code",
   "execution_count": 3,
   "id": "943dec2c",
   "metadata": {},
   "outputs": [],
   "source": [
    "def num_of_candies(arr):\n",
    "    l = len(arr)\n",
    "    max_allowed = l//2\n",
    "    d = {}\n",
    "    for i in range(l):\n",
    "        if arr[i] in d:\n",
    "            d[arr[i]]+=1\n",
    "        else:\n",
    "            d[arr[i]] = 1\n",
    "    s1 = len(d.keys())\n",
    "    if s1 <= max_allowed:\n",
    "        return s1\n",
    "    else:\n",
    "        return max_allowed"
   ]
  },
  {
   "cell_type": "code",
   "execution_count": 4,
   "id": "e7348ad6",
   "metadata": {},
   "outputs": [
    {
     "data": {
      "text/plain": [
       "4"
      ]
     },
     "execution_count": 4,
     "metadata": {},
     "output_type": "execute_result"
    }
   ],
   "source": [
    "candyType = [1,1,2,2,3,3,4,4]\n",
    "num_of_candies(candyType)"
   ]
  },
  {
   "cell_type": "markdown",
   "id": "5d74537d",
   "metadata": {},
   "source": [
    "Question 3\n",
    "We define a harmonious array as an array where the difference between its maximum value\n",
    "and its minimum value is exactly 1.\n",
    "\n",
    "Given an integer array nums, return the length of its longest harmonious subsequence\n",
    "among all its possible subsequences.\n",
    "\n",
    "A subsequence of an array is a sequence that can be derived from the array by deleting some\n",
    "or no elements without changing the order of the remaining elements.\n",
    "\n",
    "Example 1:\n",
    "\n",
    "Input: nums = [1,3,2,2,5,2,3,7]\n",
    "\n",
    "Output: 5\n",
    "\n",
    "Explanation: The longest harmonious subsequence is [3,2,2,2,3]."
   ]
  },
  {
   "cell_type": "code",
   "execution_count": 5,
   "id": "9f27f06e",
   "metadata": {},
   "outputs": [],
   "source": [
    "from collections import Counter\n",
    "\n",
    "def longest_harmonic(nums):\n",
    "    c = Counter(nums)\n",
    "    res = 0\n",
    "    for i in c:\n",
    "        if i+1 in c:\n",
    "            res = max(res,c[i] + c[i+1])\n",
    "    return res"
   ]
  },
  {
   "cell_type": "code",
   "execution_count": 6,
   "id": "087c23c1",
   "metadata": {},
   "outputs": [
    {
     "data": {
      "text/plain": [
       "5"
      ]
     },
     "execution_count": 6,
     "metadata": {},
     "output_type": "execute_result"
    }
   ],
   "source": [
    "nums = [1,3,2,2,5,2,3,7]\n",
    "longest_harmonic(nums)"
   ]
  },
  {
   "cell_type": "markdown",
   "id": "513e648e",
   "metadata": {},
   "source": [
    "Question 4\n",
    "\n",
    "You have a long flowerbed in which some of the plots are planted, and some are not.\n",
    "However, flowers cannot be planted in adjacent plots.\n",
    "\n",
    "Given an integer array flowerbed containing 0's and 1's, where 0 means empty and 1 means\n",
    "not empty, and an integer n, return true if n new flowers can be planted in the flowerbed\n",
    "without violating the no-adjacent-flowers rule and false otherwise.\n",
    "\n",
    "Example 1:\n",
    "\n",
    "Input: flowerbed = [1,0,0,0,1], n = 1\n",
    "\n",
    "Output: true"
   ]
  },
  {
   "cell_type": "code",
   "execution_count": 7,
   "id": "6e270bfb",
   "metadata": {},
   "outputs": [],
   "source": [
    "def plant_flowerbed(flowerbed, n):\n",
    "    for i in range(len(flowerbed)):\n",
    "        if flowerbed[i] == 0 and (i == 0 or flowerbed[i-1] == 0) and (i == len(flowerbed)-1 or flowerbed[i+1] == 0):\n",
    "            flowerbed[i] = 1\n",
    "            n -= 1\n",
    "        if n <= 0:\n",
    "            return True\n",
    "    return False"
   ]
  },
  {
   "cell_type": "code",
   "execution_count": 8,
   "id": "bf4fbb81",
   "metadata": {},
   "outputs": [
    {
     "data": {
      "text/plain": [
       "True"
      ]
     },
     "execution_count": 8,
     "metadata": {},
     "output_type": "execute_result"
    }
   ],
   "source": [
    "flowerbed = [1,0,0,0,1]\n",
    "n = 1\n",
    "plant_flowerbed(flowerbed,n)"
   ]
  },
  {
   "cell_type": "markdown",
   "id": "11b313c9",
   "metadata": {},
   "source": [
    "Question 5\n",
    "\n",
    "Given an integer array nums, find three numbers whose product is maximum and return the\n",
    "maximum product.\n",
    "\n",
    "Example 1:\n",
    "\n",
    "Input: nums = [1,2,3]\n",
    "\n",
    "Output: 6"
   ]
  },
  {
   "cell_type": "code",
   "execution_count": 9,
   "id": "baa69da4",
   "metadata": {},
   "outputs": [
    {
     "data": {
      "text/plain": [
       "378"
      ]
     },
     "execution_count": 9,
     "metadata": {},
     "output_type": "execute_result"
    }
   ],
   "source": [
    "def sorting_way(nums):\n",
    "    s = sorted(nums, reverse = True)\n",
    "    prod = 1\n",
    "    for i in s[:3]:\n",
    "        prod = prod * i\n",
    "    return prod\n",
    "\n",
    "nums = [1,5,6,2,2,9,2,1,7]\n",
    "sorting_way(nums)"
   ]
  },
  {
   "cell_type": "markdown",
   "id": "d8645652",
   "metadata": {},
   "source": [
    "#Without sorting"
   ]
  },
  {
   "cell_type": "code",
   "execution_count": 10,
   "id": "78447cc8",
   "metadata": {},
   "outputs": [],
   "source": [
    "def maximum_product(nums):\n",
    "    max1 = max2 = max3 = float('-inf')\n",
    "    min1 = min2 = float('inf')\n",
    "    \n",
    "    for num in nums:\n",
    "        if num > max1:\n",
    "            max3 = max2\n",
    "            max2 = max1\n",
    "            max1 = num\n",
    "        elif num > max2:\n",
    "            max3 = max2\n",
    "            max2 = num\n",
    "        elif num > max3:\n",
    "            max3 = num\n",
    "\n",
    "        if num < min1:\n",
    "            min2 = min1\n",
    "            min1 = num\n",
    "        elif num < min2:\n",
    "            min2 = num\n",
    "\n",
    "    return max(max1 * max2 * max3, max1 * min1 * min2)"
   ]
  },
  {
   "cell_type": "code",
   "execution_count": 11,
   "id": "ba33a329",
   "metadata": {},
   "outputs": [
    {
     "data": {
      "text/plain": [
       "378"
      ]
     },
     "execution_count": 11,
     "metadata": {},
     "output_type": "execute_result"
    }
   ],
   "source": [
    "nums = [1,5,6,2,2,9,2,1,7]\n",
    "maximum_product(nums)"
   ]
  },
  {
   "cell_type": "markdown",
   "id": "19343d0c",
   "metadata": {},
   "source": [
    "Question 6\n",
    "\n",
    "Given an array of integers nums which is sorted in ascending order, and an integer target,\n",
    "write a function to search target in nums. If target exists, then return its index. Otherwise,\n",
    "return -1.\n",
    "\n",
    "You must write an algorithm with O(log n) runtime complexity.\n",
    "\n",
    "Input: nums = [-1,0,3,5,9,12], target = 9\n",
    "\n",
    "Output: 4\n",
    "\n",
    "Explanation: 9 exists in nums and its index is 4"
   ]
  },
  {
   "cell_type": "code",
   "execution_count": 13,
   "id": "70b72764",
   "metadata": {},
   "outputs": [
    {
     "data": {
      "text/plain": [
       "4"
      ]
     },
     "execution_count": 13,
     "metadata": {},
     "output_type": "execute_result"
    }
   ],
   "source": [
    "def check_target(nums,target):\n",
    "    start,end = 0,len(nums)\n",
    "    while start<end:\n",
    "        mid = start +(end -start) // 2\n",
    "        if nums[mid] == target:\n",
    "            return mid\n",
    "        elif nums[mid]>target:\n",
    "            end = mid\n",
    "        else:\n",
    "            start = mid+1\n",
    "    return -1\n",
    "\n",
    "\n",
    "nums = [-1,0,3,5,9,12]\n",
    "target = 9\n",
    "check_target(nums,target)"
   ]
  },
  {
   "cell_type": "code",
   "execution_count": 14,
   "id": "13044621",
   "metadata": {},
   "outputs": [
    {
     "data": {
      "text/plain": [
       "-1"
      ]
     },
     "execution_count": 14,
     "metadata": {},
     "output_type": "execute_result"
    }
   ],
   "source": [
    "nums = [-1,0,3,5,9,12]\n",
    "target =1\n",
    "check_target(nums,target)"
   ]
  },
  {
   "cell_type": "markdown",
   "id": "ede119ee",
   "metadata": {},
   "source": [
    "Question 7\n",
    "\n",
    "An array is monotonic if it is either monotone increasing or monotone decreasing.\n",
    "\n",
    "An array nums is monotone increasing if for all i <= j, nums[i] <= nums[j]. An array nums is\n",
    "monotone decreasing if for all i <= j, nums[i] >= nums[j].\n",
    "\n",
    "Given an integer array nums, return true if the given array is monotonic, or false otherwise.\n",
    "\n",
    "Example 1:\n",
    "\n",
    "Input: nums = [1,2,2,3]\n",
    "\n",
    "Output: true"
   ]
  },
  {
   "cell_type": "code",
   "execution_count": 15,
   "id": "1d19dff3",
   "metadata": {},
   "outputs": [],
   "source": [
    "def check_monotonic(nums):\n",
    "    flag = False\n",
    "    for i in range(len(nums)-1,-1,-1):\n",
    "        if i > 0:\n",
    "            if nums[i-1] == nums[i]+1 or nums[i-1] == nums[i]-1 or nums[i-1] == nums[i]:\n",
    "                flag = True\n",
    "            else:\n",
    "                return False\n",
    "    return flag"
   ]
  },
  {
   "cell_type": "code",
   "execution_count": 16,
   "id": "e91e3059",
   "metadata": {},
   "outputs": [
    {
     "data": {
      "text/plain": [
       "True"
      ]
     },
     "execution_count": 16,
     "metadata": {},
     "output_type": "execute_result"
    }
   ],
   "source": [
    "nums = [1,2,3,4,4,4,5,6,6,7]\n",
    "check_monotonic(nums)"
   ]
  },
  {
   "cell_type": "code",
   "execution_count": 17,
   "id": "89dbfc6e",
   "metadata": {},
   "outputs": [
    {
     "data": {
      "text/plain": [
       "True"
      ]
     },
     "execution_count": 17,
     "metadata": {},
     "output_type": "execute_result"
    }
   ],
   "source": [
    "nums = [1,2,2,3]\n",
    "check_monotonic(nums)"
   ]
  },
  {
   "cell_type": "markdown",
   "id": "c9a922dd",
   "metadata": {},
   "source": [
    "Question 8\n",
    "\n",
    "You are given an integer array nums and an integer k.\n",
    "\n",
    "In one operation, you can choose any index i where 0 <= i < nums.length and change nums[i]\n",
    "to nums[i] + x where x is an integer from the range [-k, k]. You can apply this operation at\n",
    "most once for each index i.\n",
    "\n",
    "The score of nums is the difference between the maximum and minimum elements in nums.\n",
    "\n",
    "Return the minimum score of nums after applying the mentioned operation at most once for\n",
    "each index in it.\n",
    "\n",
    "Example 1:\n",
    "\n",
    "Input: nums = [1], k = 0\n",
    "\n",
    "Output: 0\n",
    "\n",
    "Explanation: The score is max(nums) - min(nums) = 1 - 1 = 0."
   ]
  },
  {
   "cell_type": "code",
   "execution_count": 18,
   "id": "852b2c60",
   "metadata": {},
   "outputs": [
    {
     "name": "stdout",
     "output_type": "stream",
     "text": [
      "0\n"
     ]
    }
   ],
   "source": [
    "def minimum_score(nums, k):\n",
    "    minimum_val = min(nums)\n",
    "    maximum_val = max(nums)\n",
    "    initial_score = maximum_val - minimum_val\n",
    "\n",
    "    if k == 0:\n",
    "        return initial_score\n",
    "\n",
    "    candidate_min = float('inf')\n",
    "    candidate_max = float('-inf')\n",
    "\n",
    "    for num in nums:\n",
    "        candidate_min = min(candidate_min, min(minimum_val + k, num + k))\n",
    "        candidate_max = max(candidate_max, max(maximum_val - k, num - k))\n",
    "\n",
    "    updated_score = candidate_max - candidate_min\n",
    "\n",
    "    return min(initial_score, updated_score)\n",
    "\n",
    "# Example usage:\n",
    "nums = [1]\n",
    "k = 0\n",
    "result = minimum_score(nums, k)\n",
    "print(result)"
   ]
  },
  {
   "cell_type": "code",
   "execution_count": null,
   "id": "876e4f44",
   "metadata": {},
   "outputs": [],
   "source": []
  }
 ],
 "metadata": {
  "kernelspec": {
   "display_name": "Python 3 (ipykernel)",
   "language": "python",
   "name": "python3"
  },
  "language_info": {
   "codemirror_mode": {
    "name": "ipython",
    "version": 3
   },
   "file_extension": ".py",
   "mimetype": "text/x-python",
   "name": "python",
   "nbconvert_exporter": "python",
   "pygments_lexer": "ipython3",
   "version": "3.9.12"
  }
 },
 "nbformat": 4,
 "nbformat_minor": 5
}
