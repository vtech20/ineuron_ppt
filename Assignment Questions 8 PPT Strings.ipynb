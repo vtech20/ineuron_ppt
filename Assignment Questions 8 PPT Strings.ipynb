{
 "cells": [
  {
   "cell_type": "markdown",
   "id": "5868e637",
   "metadata": {},
   "source": [
    "<aside>\n",
    "💡 **Question 1**\n",
    "\n",
    "Given two strings s1 and s2, return *the lowest **ASCII** sum of deleted characters to make two strings equal*.\n",
    "\n",
    "**Example 1:**\n",
    "\n",
    "**Input:** s1 = \"sea\", s2 = \"eat\"\n",
    "\n",
    "**Output:** 231\n",
    "\n",
    "**Explanation:** Deleting \"s\" from \"sea\" adds the ASCII value of \"s\" (115) to the sum.\n",
    "\n",
    "Deleting \"t\" from \"eat\" adds 116 to the sum.\n",
    "\n",
    "At the end, both strings are equal, and 115 + 116 = 231 is the minimum sum possible to achieve this.\n",
    "\n",
    "</aside>"
   ]
  },
  {
   "cell_type": "code",
   "execution_count": 3,
   "id": "7639582f",
   "metadata": {},
   "outputs": [],
   "source": [
    "def minimumDeleteSum(s1, s2):\n",
    "        m = len(s1)\n",
    "        n = len(s2)\n",
    "        \n",
    "        dp = [[0 for i in range(len(s1) + 1)] for j in range(len(s2) + 1)]\n",
    "\n",
    "        for i in range(len(s2) + 1):\n",
    "            for j in range(len(s1) + 1):\n",
    "                if i == 0 and j == 0: \n",
    "                    continue\n",
    "                elif i == 0:\n",
    "                    dp[i][j] += dp[i][j-1] + ord(s1[j-1])\n",
    "                elif j  == 0:\n",
    "                    dp[i][j] += dp[i-1][j] + ord(s2[i-1])\n",
    "                elif s1[j-1] == s2[i-1]:\n",
    "                    dp[i][j] = dp[i-1][j-1]\n",
    "                else:\n",
    "                    dp[i][j] = min(ord(s1[j-1]) + dp[i][j-1], ord(s2[i-1]) + dp[i-1][j])\n",
    "        \n",
    "        return dp[n][m]"
   ]
  },
  {
   "cell_type": "code",
   "execution_count": 4,
   "id": "b8812d5a",
   "metadata": {},
   "outputs": [
    {
     "data": {
      "text/plain": [
       "231"
      ]
     },
     "execution_count": 4,
     "metadata": {},
     "output_type": "execute_result"
    }
   ],
   "source": [
    "s1 = \"sea\"\n",
    "s2 = \"eat\"\n",
    "\n",
    "minimumDeleteSum(s1,s2)"
   ]
  },
  {
   "cell_type": "markdown",
   "id": "0b568b3e",
   "metadata": {},
   "source": [
    "<aside>\n",
    "💡 **Question 2**\n",
    "\n",
    "Given a string s containing only three types of characters: '(', ')' and '*', return true *if* s *is **valid***.\n",
    "\n",
    "The following rules define a **valid** string:\n",
    "\n",
    "- Any left parenthesis '(' must have a corresponding right parenthesis ')'.\n",
    "- Any right parenthesis ')' must have a corresponding left parenthesis '('.\n",
    "- Left parenthesis '(' must go before the corresponding right parenthesis ')'.\n",
    "- '*' could be treated as a single right parenthesis ')' or a single left parenthesis '(' or an empty string \"\".\n",
    "\n",
    "**Example 1:**\n",
    "\n",
    "**Input:** s = \"()\"\n",
    "\n",
    "**Output:**\n",
    "\n",
    "true\n",
    "\n",
    "</aside>"
   ]
  },
  {
   "cell_type": "code",
   "execution_count": 8,
   "id": "9da0c601",
   "metadata": {},
   "outputs": [],
   "source": [
    "def checkValidString(sequence):\n",
    "    while True:\n",
    "        if '()' in sequence :\n",
    "            sequence = sequence.replace ( '()' , '' )\n",
    "        elif '{}' in sequence :\n",
    "            sequence = sequence.replace ( '{}' , '' )\n",
    "        elif '[]' in sequence :\n",
    "            sequence = sequence.replace ( '[]' , '' )\n",
    "        else:\n",
    "            return not sequence\n",
    "            "
   ]
  },
  {
   "cell_type": "code",
   "execution_count": 9,
   "id": "859b718c",
   "metadata": {},
   "outputs": [
    {
     "data": {
      "text/plain": [
       "True"
      ]
     },
     "execution_count": 9,
     "metadata": {},
     "output_type": "execute_result"
    }
   ],
   "source": [
    "sequence = '{[()]}'\n",
    "checkValidString(sequence)"
   ]
  },
  {
   "cell_type": "markdown",
   "id": "3d7a4775",
   "metadata": {},
   "source": [
    "<aside>\n",
    "💡 **Question 3**\n",
    "\n",
    "Given two strings word1 and word2, return *the minimum number of **steps** required to make* word1 *and* word2 *the same*.\n",
    "\n",
    "In one **step**, you can delete exactly one character in either string.\n",
    "\n",
    "**Example 1:**\n",
    "\n",
    "**Input:** word1 = \"sea\", word2 = \"eat\"\n",
    "\n",
    "**Output:** 2\n",
    "\n",
    "**Explanation:** You need one step to make \"sea\" to \"ea\" and another step to make \"eat\" to \"ea\".\n",
    "\n",
    "</aside>"
   ]
  },
  {
   "cell_type": "code",
   "execution_count": 10,
   "id": "51c063a9",
   "metadata": {},
   "outputs": [],
   "source": [
    "def minSteps(word1, word2):\n",
    "\n",
    "    len1 = len(word1)\n",
    "    len2 = len(word2)\n",
    "\n",
    "\n",
    "    dp = [[0] * (len2 + 1) for _ in range(len1 + 1)]\n",
    "\n",
    "\n",
    "    for i in range(1, len1 + 1):\n",
    "        for j in range(1, len2 + 1):\n",
    "            if word1[i - 1] == word2[j - 1]:\n",
    "                dp[i][j] = dp[i - 1][j - 1] + 1\n",
    "            else:\n",
    "                dp[i][j] = max(dp[i - 1][j], dp[i][j - 1])\n",
    "\n",
    "\n",
    "    lcs_length = dp[len1][len2]\n",
    "    min_steps = len1 + len2 - 2 * lcs_length\n",
    "\n",
    "    return min_steps"
   ]
  },
  {
   "cell_type": "code",
   "execution_count": 11,
   "id": "df5380e7",
   "metadata": {},
   "outputs": [
    {
     "name": "stdout",
     "output_type": "stream",
     "text": [
      "2\n"
     ]
    }
   ],
   "source": [
    "word1 = \"sea\"\n",
    "word2 = \"eat\"\n",
    "print(minSteps(word1, word2))"
   ]
  },
  {
   "cell_type": "markdown",
   "id": "9d38bcfc",
   "metadata": {},
   "source": [
    "💡 **Question 4**\n",
    "\n",
    "You need to construct a binary tree from a string consisting of parenthesis and integers.\n",
    "\n",
    "The whole input represents a binary tree. It contains an integer followed by zero, one or two pairs of parenthesis. The integer represents the root's value and a pair of parenthesis contains a child binary tree with the same structure.\n",
    "You always start to construct the **left** child node of the parent first if it exists.\n",
    "\n",
    "\n",
    "**Input:** s = \"4(2(3)(1))(6(5))\"\n",
    "\n",
    "**Output:** [4,2,6,3,1,5]"
   ]
  },
  {
   "cell_type": "code",
   "execution_count": 29,
   "id": "7366f6b4",
   "metadata": {},
   "outputs": [],
   "source": [
    "class Node:\n",
    "    def __init__(self, element):\n",
    "        self.data = element\n",
    "        self.left = None\n",
    "        self.right = None\n",
    "\n",
    "def preorder(root):\n",
    "    if (not root):\n",
    "        return\n",
    " \n",
    "    print(root.data, end = \" \")\n",
    "    preorder(root.left)\n",
    "    preorder(root.right)\n",
    "\n",
    "def constructTree(s):\n",
    "\n",
    "    root = Node(ord(s[0]) - ord('0'))\n",
    " \n",
    "\n",
    "    stk = []\n",
    "\n",
    "    for i in range(1,len(s)):\n",
    "\n",
    "        if (s[i] == '('):\n",
    "\n",
    "            stk.append(root)\n",
    "\n",
    "        elif (s[i] == ')'):\n",
    "\n",
    "            root = stk[-1]\n",
    "\n",
    "            del stk[-1]\n",
    "\n",
    "        else:\n",
    "\n",
    "            if (root.left == None):\n",
    " \n",
    "                left = Node(ord(s[i]) - ord('0'))\n",
    "                root.left = left\n",
    "                root = root.left\n",
    " \n",
    "            elif (root.right == None):\n",
    " \n",
    "                right =  Node(ord(s[i]) - ord('0'))\n",
    "                root.right = right\n",
    "                root = root.right\n",
    " \n",
    "\n",
    "    return root"
   ]
  },
  {
   "cell_type": "code",
   "execution_count": 30,
   "id": "6de5648c",
   "metadata": {},
   "outputs": [],
   "source": [
    "s = \"4(2(3)(1))(6(5))\""
   ]
  },
  {
   "cell_type": "code",
   "execution_count": 31,
   "id": "4cfb2b1c",
   "metadata": {},
   "outputs": [],
   "source": [
    "root = constructTree(s)"
   ]
  },
  {
   "cell_type": "code",
   "execution_count": 32,
   "id": "dd0bb09a",
   "metadata": {},
   "outputs": [
    {
     "name": "stdout",
     "output_type": "stream",
     "text": [
      "4 2 3 1 6 5 "
     ]
    }
   ],
   "source": [
    "preorder(root)"
   ]
  },
  {
   "cell_type": "markdown",
   "id": "0e0dc04c",
   "metadata": {},
   "source": [
    "<aside>\n",
    "💡 **Question 5**\n",
    "\n",
    "Given an array of characters chars, compress it using the following algorithm:\n",
    "\n",
    "Begin with an empty string s. For each group of **consecutive repeating characters** in chars:\n",
    "\n",
    "- If the group's length is 1, append the character to s.\n",
    "- Otherwise, append the character followed by the group's length.\n",
    "\n",
    "The compressed string s **should not be returned separately**, but instead, be stored **in the input character array chars**. Note that group lengths that are 10 or longer will be split into multiple characters in chars.\n",
    "\n",
    "After you are done **modifying the input array,** return *the new length of the array*.\n",
    "\n",
    "You must write an algorithm that uses only constant extra space.\n",
    "\n",
    "**Example 1:**\n",
    "\n",
    "**Input:** chars = [\"a\",\"a\",\"b\",\"b\",\"c\",\"c\",\"c\"]\n",
    "\n",
    "**Output:** Return 6, and the first 6 characters of the input array should be: [\"a\",\"2\",\"b\",\"2\",\"c\",\"3\"]\n",
    "\n",
    "**Explanation:**\n",
    "\n",
    "The groups are \"aa\", \"bb\", and \"ccc\". This compresses to \"a2b2c3\".\n",
    "\n",
    "</aside>"
   ]
  },
  {
   "cell_type": "code",
   "execution_count": 33,
   "id": "6ef86959",
   "metadata": {},
   "outputs": [],
   "source": [
    "def compress(chars):\n",
    "    anchor = write = 0\n",
    "    n = len(chars)\n",
    "    \n",
    "    for read in range(n):\n",
    "        if read + 1 == n or chars[read] != chars[read + 1]:\n",
    "            chars[write] = chars[anchor]\n",
    "            write += 1\n",
    "\n",
    "            \n",
    "            if read > anchor:\n",
    "                count = read - anchor + 1\n",
    "                count_str = str(count)\n",
    "\n",
    "                for c in count_str:\n",
    "                    chars[write] = c\n",
    "                    write += 1\n",
    "\n",
    "            anchor = read + 1\n",
    "\n",
    "    return write"
   ]
  },
  {
   "cell_type": "code",
   "execution_count": 34,
   "id": "3f85544c",
   "metadata": {},
   "outputs": [],
   "source": [
    "chars = [\"a\",\"a\",\"b\",\"b\",\"c\",\"c\",\"c\"]\n",
    "length = compress(chars)"
   ]
  },
  {
   "cell_type": "code",
   "execution_count": 35,
   "id": "28587008",
   "metadata": {},
   "outputs": [
    {
     "data": {
      "text/plain": [
       "6"
      ]
     },
     "execution_count": 35,
     "metadata": {},
     "output_type": "execute_result"
    }
   ],
   "source": [
    "length"
   ]
  },
  {
   "cell_type": "code",
   "execution_count": null,
   "id": "bb05b6a3",
   "metadata": {},
   "outputs": [],
   "source": []
  },
  {
   "cell_type": "markdown",
   "id": "78fc9238",
   "metadata": {},
   "source": [
    "<aside>\n",
    "💡 **Question 6**\n",
    "\n",
    "Given two strings s and p, return *an array of all the start indices of* p*'s anagrams in* s. You may return the answer in **any order**.\n",
    "\n",
    "An **Anagram** is a word or phrase formed by rearranging the letters of a different word or phrase, typically using all the original letters exactly once.\n",
    "\n",
    "**Example 1:**\n",
    "\n",
    "**Input:** s = \"cbaebabacd\", p = \"abc\"\n",
    "\n",
    "**Output:** [0,6]\n",
    "\n",
    "**Explanation:**\n",
    "\n",
    "The substring with start index = 0 is \"cba\", which is an anagram of \"abc\".\n",
    "\n",
    "The substring with start index = 6 is \"bac\", which is an anagram of \"abc\".\n",
    "\n",
    "</aside>"
   ]
  },
  {
   "cell_type": "code",
   "execution_count": 37,
   "id": "71ddf2d4",
   "metadata": {},
   "outputs": [],
   "source": [
    "from collections import Counter\n",
    "\n",
    "def findAnagrams(s, p):\n",
    "\n",
    "    result = []\n",
    "    p_count = Counter(p)\n",
    "    window_size = len(p)\n",
    "    window_count = Counter(s[:window_size])\n",
    "    \n",
    "\n",
    "    if window_count == p_count:\n",
    "        result.append(0)\n",
    "    \n",
    "\n",
    "    for i in range(1, len(s) - window_size + 1):\n",
    "\n",
    "        if window_count[s[i - 1]] == 1:\n",
    "            del window_count[s[i - 1]]\n",
    "        else:\n",
    "            window_count[s[i - 1]] -= 1\n",
    "        \n",
    "\n",
    "        window_count[s[i + window_size - 1]] += 1\n",
    "        \n",
    "        if window_count == p_count:\n",
    "            result.append(i)\n",
    "    \n",
    "    return result\n"
   ]
  },
  {
   "cell_type": "code",
   "execution_count": 38,
   "id": "98f56f41",
   "metadata": {},
   "outputs": [
    {
     "name": "stdout",
     "output_type": "stream",
     "text": [
      "[0, 6]\n"
     ]
    }
   ],
   "source": [
    "s = \"cbaebabacd\"\n",
    "p = \"abc\"\n",
    "indices = findAnagrams(s, p)\n",
    "print(indices) "
   ]
  },
  {
   "cell_type": "markdown",
   "id": "b93ee6fe",
   "metadata": {},
   "source": [
    "<aside>\n",
    "💡 **Question 7**\n",
    "\n",
    "Given an encoded string, return its decoded string.\n",
    "\n",
    "The encoding rule is: k[encoded_string], where the encoded_string inside the square brackets is being repeated exactly k times. Note that k is guaranteed to be a positive integer.\n",
    "\n",
    "You may assume that the input string is always valid; there are no extra white spaces, square brackets are well-formed, etc. Furthermore, you may assume that the original data does not contain any digits and that digits are only for those repeat numbers, k. For example, there will not be input like 3a or 2[4].\n",
    "\n",
    "The test cases are generated so that the length of the output will never exceed 105.\n",
    "\n",
    "**Example 1:**\n",
    "\n",
    "**Input:** s = \"3[a]2[bc]\"\n",
    "\n",
    "**Output:** \"aaabcbc\"\n",
    "\n",
    "</aside>"
   ]
  },
  {
   "cell_type": "code",
   "execution_count": 42,
   "id": "6113d871",
   "metadata": {},
   "outputs": [],
   "source": [
    "def decodeString(s):\n",
    "    stack = []\n",
    "    repetition_count = 0\n",
    "    decoded_string = ''\n",
    "\n",
    "    for char in s:\n",
    "        if char.isdigit():\n",
    "            repetition_count = repetition_count * 10 + int(char)\n",
    "        elif char == '[':\n",
    "            stack.append((repetition_count, decoded_string))\n",
    "            repetition_count = 0\n",
    "            decoded_string = ''\n",
    "        elif char == ']':\n",
    "            prev_repetition_count, prev_decoded_string = stack.pop()\n",
    "            decoded_string = prev_decoded_string + prev_repetition_count * decoded_string\n",
    "        else:\n",
    "            decoded_string += char\n",
    "\n",
    "    return decoded_string\n",
    "    "
   ]
  },
  {
   "cell_type": "code",
   "execution_count": 43,
   "id": "c5258355",
   "metadata": {},
   "outputs": [
    {
     "name": "stdout",
     "output_type": "stream",
     "text": [
      "aaabcbc\n"
     ]
    }
   ],
   "source": [
    "s = \"3[a]2[bc]\"\n",
    "decoded_string = decodeString(s)\n",
    "print(decoded_string)"
   ]
  },
  {
   "cell_type": "markdown",
   "id": "05781062",
   "metadata": {},
   "source": [
    "<aside>\n",
    "💡 **Question 8**\n",
    "\n",
    "Given two strings s and goal, return true *if you can swap two letters in* s *so the result is equal to* goal*, otherwise, return* false*.*\n",
    "\n",
    "Swapping letters is defined as taking two indices i and j (0-indexed) such that i != j and swapping the characters at s[i] and s[j].\n",
    "\n",
    "- For example, swapping at indices 0 and 2 in \"abcd\" results in \"cbad\".\n",
    "\n",
    "**Example 1:**\n",
    "\n",
    "**Input:** s = \"ab\", goal = \"ba\"\n",
    "\n",
    "**Output:** true\n",
    "\n",
    "**Explanation:** You can swap s[0] = 'a' and s[1] = 'b' to get \"ba\", which is equal to goal.\n",
    "\n",
    "</aside>"
   ]
  },
  {
   "cell_type": "code",
   "execution_count": 44,
   "id": "69db351d",
   "metadata": {},
   "outputs": [],
   "source": [
    "def buddyStrings(s, goal):\n",
    "    if len(s) != len(goal):\n",
    "        return False\n",
    "\n",
    "    if s == goal and len(set(s)) < len(s):\n",
    "        return True\n",
    "\n",
    "    diff_positions = []\n",
    "    for i in range(len(s)):\n",
    "        if s[i] != goal[i]:\n",
    "            diff_positions.append(i)\n",
    "\n",
    "    if len(diff_positions) != 2:\n",
    "        return False\n",
    "\n",
    "    i, j = diff_positions\n",
    "    if s[i] == goal[j] and s[j] == goal[i]:\n",
    "        return True\n",
    "\n",
    "    return False"
   ]
  },
  {
   "cell_type": "code",
   "execution_count": 45,
   "id": "7915185f",
   "metadata": {},
   "outputs": [
    {
     "name": "stdout",
     "output_type": "stream",
     "text": [
      "True\n"
     ]
    }
   ],
   "source": [
    "s = \"ab\"\n",
    "goal = \"ba\"\n",
    "result = buddyStrings(s, goal)\n",
    "print(result)"
   ]
  },
  {
   "cell_type": "code",
   "execution_count": null,
   "id": "bd73edcc",
   "metadata": {},
   "outputs": [],
   "source": []
  }
 ],
 "metadata": {
  "kernelspec": {
   "display_name": "Python 3 (ipykernel)",
   "language": "python",
   "name": "python3"
  },
  "language_info": {
   "codemirror_mode": {
    "name": "ipython",
    "version": 3
   },
   "file_extension": ".py",
   "mimetype": "text/x-python",
   "name": "python",
   "nbconvert_exporter": "python",
   "pygments_lexer": "ipython3",
   "version": "3.9.12"
  }
 },
 "nbformat": 4,
 "nbformat_minor": 5
}
