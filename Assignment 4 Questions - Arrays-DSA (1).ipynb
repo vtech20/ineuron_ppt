{
 "cells": [
  {
   "cell_type": "markdown",
   "id": "63ef3712",
   "metadata": {},
   "source": [
    "💡 **Question 1**\n",
    "Given three integer arrays arr1, arr2 and arr3 **sorted** in **strictly increasing** order, return a sorted array of **only** the integers that appeared in **all** three arrays.\n",
    "\n",
    "**Example 1:**\n",
    "\n",
    "Input: arr1 = [1,2,3,4,5], arr2 = [1,2,5,7,9], arr3 = [1,3,4,5,8]\n",
    "\n",
    "Output: [1,5]\n",
    "\n",
    "**Explanation:** Only 1 and 5 appeared in the three arrays.\n"
   ]
  },
  {
   "cell_type": "code",
   "execution_count": 2,
   "id": "aa0049d3",
   "metadata": {},
   "outputs": [],
   "source": [
    "#Solution 1\n",
    "def elements_in_all_3(arr1,arr2,arr3):\n",
    "    res_array = []\n",
    "    for i in range(len(arr1)):\n",
    "        if arr1[i] in arr2 and arr1[i] in arr3:\n",
    "                res_array.append(arr1[i])\n",
    "    return res_array"
   ]
  },
  {
   "cell_type": "code",
   "execution_count": 3,
   "id": "5d49fb6f",
   "metadata": {},
   "outputs": [
    {
     "data": {
      "text/plain": [
       "[1, 5]"
      ]
     },
     "execution_count": 3,
     "metadata": {},
     "output_type": "execute_result"
    }
   ],
   "source": [
    "arr1 = [1,2,3,4,5]\n",
    "arr2 = [1,2,5,7,9]\n",
    "arr3 = [1,3,4,5,8]\n",
    "elements_in_all_3(arr1,arr2,arr3)"
   ]
  },
  {
   "cell_type": "code",
   "execution_count": 4,
   "id": "db7a204d",
   "metadata": {},
   "outputs": [],
   "source": [
    "#Solution 2\n",
    "def set_function(arr1,arr2,arr3):\n",
    "    set1 = set(arr1)\n",
    "    set2 = set(arr2)\n",
    "    set3 = set(arr3)\n",
    "    res = set1.intersection(set2).intersection(set3)\n",
    "    return list(res)"
   ]
  },
  {
   "cell_type": "code",
   "execution_count": 5,
   "id": "bbd8a5f8",
   "metadata": {},
   "outputs": [
    {
     "data": {
      "text/plain": [
       "[1, 5]"
      ]
     },
     "execution_count": 5,
     "metadata": {},
     "output_type": "execute_result"
    }
   ],
   "source": [
    "arr1 = [1,2,3,4,5]\n",
    "arr2 = [1,2,5,7,9]\n",
    "arr3 = [1,3,4,5,8]\n",
    "set_function(arr1,arr2,arr3)"
   ]
  },
  {
   "cell_type": "markdown",
   "id": "f73d2a2e",
   "metadata": {},
   "source": [
    "💡 **Question 2**\n",
    "\n",
    "Given two **0-indexed** integer arrays nums1 and nums2, return *a list* answer *of size* 2 *where:*\n",
    "\n",
    "- answer[0] *is a list of all **distinct** integers in* nums1 *which are **not** present in* nums2*.*\n",
    "- answer[1] *is a list of all **distinct** integers in* nums2 *which are **not** present in* nums1.\n",
    "\n",
    "**Note** that the integers in the lists may be returned in **any** order.\n",
    "\n",
    "**Example 1:**\n",
    "\n",
    "**Input:** nums1 = [1,2,3], nums2 = [2,4,6]\n",
    "\n",
    "**Output:** [[1,3],[4,6]]\n",
    "\n",
    "**Explanation:**\n",
    "\n",
    "For nums1, nums1[1] = 2 is present at index 0 of nums2, whereas nums1[0] = 1 and nums1[2] = 3 are not present in nums2. Therefore, answer[0] = [1,3].\n",
    "\n",
    "For nums2, nums2[0] = 2 is present at index 1 of nums1, whereas nums2[1] = 4 and nums2[2] = 6 are not present in nums2. Therefore, answer[1] = [4,6].\n"
   ]
  },
  {
   "cell_type": "code",
   "execution_count": 7,
   "id": "c5441f9c",
   "metadata": {},
   "outputs": [],
   "source": [
    "#Solution 1\n",
    "def get_non_matching(nums1,nums2):\n",
    "    for i in nums1:\n",
    "        if i in nums2:\n",
    "            nums1.remove(i)\n",
    "            nums2.remove(i)\n",
    "    return [nums1,nums2]"
   ]
  },
  {
   "cell_type": "code",
   "execution_count": 8,
   "id": "0c07b03c",
   "metadata": {},
   "outputs": [
    {
     "data": {
      "text/plain": [
       "[[1, 3], [4, 6]]"
      ]
     },
     "execution_count": 8,
     "metadata": {},
     "output_type": "execute_result"
    }
   ],
   "source": [
    "nums1 = [1,2,3]\n",
    "nums2 = [2,4,6]\n",
    "get_non_matching(nums1,nums2)"
   ]
  },
  {
   "cell_type": "code",
   "execution_count": 15,
   "id": "d357026a",
   "metadata": {},
   "outputs": [],
   "source": [
    "#solution 2\n",
    "def get_non_matching_set(nums1,nums2):\n",
    "    set1 = set(nums1)\n",
    "    set2 = set(nums2)\n",
    "    return [list(set1.difference(set2)),list(set2.difference(set1))]"
   ]
  },
  {
   "cell_type": "code",
   "execution_count": 16,
   "id": "3d222c77",
   "metadata": {},
   "outputs": [
    {
     "data": {
      "text/plain": [
       "[[1, 3], [4, 6]]"
      ]
     },
     "execution_count": 16,
     "metadata": {},
     "output_type": "execute_result"
    }
   ],
   "source": [
    "nums1 = [1,2,3]\n",
    "nums2 = [2,4,6]\n",
    "get_non_matching_set(nums1,nums2)"
   ]
  },
  {
   "cell_type": "markdown",
   "id": "339e6823",
   "metadata": {},
   "source": [
    "<aside>\n",
    "💡 **Question 3**\n",
    "Given a 2D integer array matrix, return *the **transpose** of* matrix.\n",
    "\n",
    "The **transpose** of a matrix is the matrix flipped over its main diagonal, switching the matrix's row and column indices.\n",
    "\n",
    "**Example 1:**\n",
    "\n",
    "Input: matrix = [[1,2,3],[4,5,6],[7,8,9]]\n",
    "\n",
    "Output: [[1,4,7],[2,5,8],[3,6,9]]\n",
    "\n",
    "</aside>"
   ]
  },
  {
   "cell_type": "code",
   "execution_count": 17,
   "id": "d412a40e",
   "metadata": {},
   "outputs": [],
   "source": [
    "def transpose(arr1, arr2, N, M):\n",
    "    for i in range(N):\n",
    "        for j in range(M):\n",
    "            arr2[i][j] = arr1[j][i]\n",
    "    return arr2"
   ]
  },
  {
   "cell_type": "code",
   "execution_count": 18,
   "id": "67646622",
   "metadata": {},
   "outputs": [
    {
     "data": {
      "text/plain": [
       "[[1, 4, 7], [2, 5, 8], [3, 6, 9]]"
      ]
     },
     "execution_count": 18,
     "metadata": {},
     "output_type": "execute_result"
    }
   ],
   "source": [
    "matrix1 = [[1,2,3],[4,5,6],[7,8,9]]\n",
    "N = 3\n",
    "M = 3\n",
    "matrix2 = [[0 for x in range(M)] for y in range(N)]\n",
    "transpose(matrix1,matrix2,N,M)"
   ]
  },
  {
   "cell_type": "markdown",
   "id": "ade132ae",
   "metadata": {},
   "source": [
    "💡 **Question 4**\n",
    "Given an integer array nums of 2n integers, group these integers into n pairs (a1, b1), (a2, b2), ..., (an, bn) such that the sum of min(ai, bi) for all i is **maximized**. Return *the maximized sum*.\n",
    "\n",
    "**Example 1:**\n",
    "\n",
    "Input: nums = [1,4,3,2]\n",
    "\n",
    "Output: 4\n",
    "\n",
    "**Explanation:** All possible pairings (ignoring the ordering of elements) are:\n",
    "\n",
    "1. (1, 4), (2, 3) -> min(1, 4) + min(2, 3) = 1 + 2 = 3\n",
    "\n",
    "2. (1, 3), (2, 4) -> min(1, 3) + min(2, 4) = 1 + 2 = 3\n",
    "\n",
    "3. (1, 2), (3, 4) -> min(1, 2) + min(3, 4) = 1 + 3 = 4\n",
    "\n",
    "So the maximum possible sum is 4.\n"
   ]
  },
  {
   "cell_type": "code",
   "execution_count": 19,
   "id": "375319fc",
   "metadata": {},
   "outputs": [],
   "source": [
    "def minpairsum(nums):\n",
    "    nums.sort()\n",
    "    return(sum(nums[::2]))"
   ]
  },
  {
   "cell_type": "code",
   "execution_count": 20,
   "id": "272ef47e",
   "metadata": {},
   "outputs": [
    {
     "data": {
      "text/plain": [
       "4"
      ]
     },
     "execution_count": 20,
     "metadata": {},
     "output_type": "execute_result"
    }
   ],
   "source": [
    "nums = [1,4,3,2]\n",
    "minpairsum(nums)"
   ]
  },
  {
   "cell_type": "markdown",
   "id": "32417440",
   "metadata": {},
   "source": [
    "💡 **Question 5**\n",
    "You have n coins and you want to build a staircase with these coins. The staircase consists of k rows where the ith row has exactly i coins. The last row of the staircase **may be** incomplete.\n",
    "\n",
    "Given the integer n, return *the number of **complete rows** of the staircase you will build*.\n",
    "\n",
    "**Example 1:**\n",
    "\n",
    "[]()\n",
    "\n",
    "![v2.jpg](https://s3-us-west-2.amazonaws.com/secure.notion-static.com/4bd91cfa-d2b1-47b3-8197-a72e8dcfff4b/v2.jpg)\n",
    "\n",
    "**Input:** n = 5\n",
    "\n",
    "**Output:** 2\n",
    "\n",
    "**Explanation:** Because the 3rd row is incomplete, we return 2."
   ]
  },
  {
   "cell_type": "code",
   "execution_count": 46,
   "id": "f892c41f",
   "metadata": {},
   "outputs": [],
   "source": [
    "def number_of_completed_rows(n):\n",
    "    row = 1\n",
    "    d = {}\n",
    "    while row <= n:\n",
    "        d[row] = row\n",
    "        n = n -row\n",
    "        row+=1\n",
    "    return max(d)"
   ]
  },
  {
   "cell_type": "code",
   "execution_count": 47,
   "id": "9ccf74c7",
   "metadata": {},
   "outputs": [
    {
     "data": {
      "text/plain": [
       "2"
      ]
     },
     "execution_count": 47,
     "metadata": {},
     "output_type": "execute_result"
    }
   ],
   "source": [
    "number_of_completed_rows(4)"
   ]
  },
  {
   "cell_type": "code",
   "execution_count": 48,
   "id": "730c0ba9",
   "metadata": {},
   "outputs": [
    {
     "data": {
      "text/plain": [
       "2"
      ]
     },
     "execution_count": 48,
     "metadata": {},
     "output_type": "execute_result"
    }
   ],
   "source": [
    "number_of_completed_rows(5)"
   ]
  },
  {
   "cell_type": "markdown",
   "id": "7a51db8b",
   "metadata": {},
   "source": [
    "<aside>\n",
    "💡 **Question 6**\n",
    "Given an integer array nums sorted in **non-decreasing** order, return *an array of **the squares of each number** sorted in non-decreasing order*.\n",
    "\n",
    "**Example 1:**\n",
    "\n",
    "Input: nums = [-4,-1,0,3,10]\n",
    "\n",
    "Output: [0,1,9,16,100]\n",
    "\n",
    "**Explanation:** After squaring, the array becomes [16,1,0,9,100].\n",
    "After sorting, it becomes [0,1,9,16,100]\n",
    "\n",
    "</aside>"
   ]
  },
  {
   "cell_type": "code",
   "execution_count": 49,
   "id": "80bb89e1",
   "metadata": {},
   "outputs": [],
   "source": [
    "def sortedSquares(nums):\n",
    "    n = len(nums)\n",
    "    result = [0] * n\n",
    "    left = 0\n",
    "    right = n - 1\n",
    "    index = n - 1\n",
    "\n",
    "    while left <= right:\n",
    "        if abs(nums[left]) > abs(nums[right]):\n",
    "            result[index] = nums[left] ** 2\n",
    "            left += 1\n",
    "        else:\n",
    "            result[index] = nums[right] ** 2\n",
    "            right -= 1\n",
    "        index -= 1\n",
    "\n",
    "    return result"
   ]
  },
  {
   "cell_type": "code",
   "execution_count": 50,
   "id": "49ea3f75",
   "metadata": {},
   "outputs": [
    {
     "data": {
      "text/plain": [
       "[0, 1, 9, 16, 100]"
      ]
     },
     "execution_count": 50,
     "metadata": {},
     "output_type": "execute_result"
    }
   ],
   "source": [
    "nums = [-4,-1,0,3,10]\n",
    "sortedSquares(nums)"
   ]
  },
  {
   "cell_type": "markdown",
   "id": "3569f312",
   "metadata": {},
   "source": [
    "<aside>\n",
    "💡 **Question 7**\n",
    "You are given an m x n matrix M initialized with all 0's and an array of operations ops, where ops[i] = [ai, bi] means M[x][y] should be incremented by one for all 0 <= x < ai and 0 <= y < bi.\n",
    "\n",
    "Count and return *the number of maximum integers in the matrix after performing all the operations*\n",
    "\n",
    "**Example 1:**\n",
    "\n",
    "![q4.jpg](https://s3-us-west-2.amazonaws.com/secure.notion-static.com/4d0890d0-7bc7-4f59-be8e-352d9f3c1c52/q4.jpg)\n",
    "\n",
    "**Input:** m = 3, n = 3, ops = [[2,2],[3,3]]\n",
    "\n",
    "**Output:** 4\n",
    "\n",
    "**Explanation:** The maximum integer in M is 2, and there are four of it in M. So return 4.\n",
    "\n",
    "</aside>"
   ]
  },
  {
   "cell_type": "code",
   "execution_count": 53,
   "id": "264dc850",
   "metadata": {},
   "outputs": [],
   "source": [
    "def maxCount(m,n,ops):\n",
    "    if not ops:\n",
    "        return m * n\n",
    "\n",
    "    min_a = float('inf')\n",
    "    min_b = float('inf')\n",
    "\n",
    "    for op in ops:\n",
    "        min_a = min(min_a, op[0])\n",
    "        min_b = min(min_b, op[1])\n",
    "\n",
    "    return min_a * min_b\n"
   ]
  },
  {
   "cell_type": "code",
   "execution_count": 54,
   "id": "1754b716",
   "metadata": {},
   "outputs": [
    {
     "name": "stdout",
     "output_type": "stream",
     "text": [
      "4\n"
     ]
    }
   ],
   "source": [
    "m = 3\n",
    "n = 3\n",
    "ops = [[2, 2], [3, 3]]\n",
    "\n",
    "result = maxCount(m, n, ops)\n",
    "print(result)"
   ]
  },
  {
   "cell_type": "markdown",
   "id": "486ed10f",
   "metadata": {},
   "source": [
    "<aside>\n",
    "💡 **Question 8**\n",
    "\n",
    "Given the array nums consisting of 2n elements in the form [x1,x2,...,xn,y1,y2,...,yn].\n",
    "\n",
    "*Return the array in the form* [x1,y1,x2,y2,...,xn,yn].\n",
    "\n",
    "**Example 1:**\n",
    "\n",
    "**Input:** nums = [2,5,1,3,4,7], n = 3\n",
    "\n",
    "**Output:** [2,3,5,4,1,7]\n",
    "\n",
    "**Explanation:** Since x1=2, x2=5, x3=1, y1=3, y2=4, y3=7 then the answer is [2,3,5,4,1,7].\n",
    "\n",
    "</aside>"
   ]
  },
  {
   "cell_type": "code",
   "execution_count": 60,
   "id": "1cb07fe1",
   "metadata": {},
   "outputs": [],
   "source": [
    "def twopairs(nums,n):\n",
    "    left = 0\n",
    "    right = n\n",
    "    res = []\n",
    "    while left <= right:\n",
    "        if right <=len(nums)-1:\n",
    "            res.append(nums[left])\n",
    "            res.append(nums[right])\n",
    "            left+=1\n",
    "            right+=1\n",
    "        else:\n",
    "            break\n",
    "    return res"
   ]
  },
  {
   "cell_type": "code",
   "execution_count": 61,
   "id": "79b28ede",
   "metadata": {},
   "outputs": [
    {
     "data": {
      "text/plain": [
       "[2, 3, 5, 4, 1, 7]"
      ]
     },
     "execution_count": 61,
     "metadata": {},
     "output_type": "execute_result"
    }
   ],
   "source": [
    "nums = [2,5,1,3,4,7]\n",
    "n = 3\n",
    "twopairs(nums,n)"
   ]
  },
  {
   "cell_type": "code",
   "execution_count": null,
   "id": "f7aa8f5e",
   "metadata": {},
   "outputs": [],
   "source": []
  }
 ],
 "metadata": {
  "kernelspec": {
   "display_name": "Python 3 (ipykernel)",
   "language": "python",
   "name": "python3"
  },
  "language_info": {
   "codemirror_mode": {
    "name": "ipython",
    "version": 3
   },
   "file_extension": ".py",
   "mimetype": "text/x-python",
   "name": "python",
   "nbconvert_exporter": "python",
   "pygments_lexer": "ipython3",
   "version": "3.9.12"
  }
 },
 "nbformat": 4,
 "nbformat_minor": 5
}
