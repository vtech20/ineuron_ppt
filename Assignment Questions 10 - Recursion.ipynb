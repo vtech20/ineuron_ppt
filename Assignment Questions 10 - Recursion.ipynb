{
 "cells": [
  {
   "cell_type": "markdown",
   "id": "428141e0",
   "metadata": {},
   "source": [
    "<aside>\n",
    "💡 **Question 1**\n",
    "\n",
    "Given an integer `n`, return *`true` if it is a power of three. Otherwise, return `false`*.\n",
    "\n",
    "An integer `n` is a power of three, if there exists an integer `x` such that `n == 3x`.\n",
    "\n",
    "**Example 1:**\n",
    "\n",
    "```\n",
    "Input: n = 27\n",
    "Output: true\n",
    "Explanation: 27 = 33\n",
    "```\n",
    "\n",
    "**Example 2:**\n",
    "\n",
    "```\n",
    "Input: n = 0\n",
    "Output: false\n",
    "Explanation: There is no x where 3x = 0.\n",
    "\n",
    "```\n",
    "\n",
    "**Example 3:**\n",
    "\n",
    "<aside>\n",
    "💡 **Question 1**\n",
    "\n",
    "Given an integer `n`, return *`true` if it is a power of three. Otherwise, return `false`*.\n",
    "\n",
    "An integer `n` is a power of three, if there exists an integer `x` such that `n == 3x`.\n",
    "\n",
    "**Example 1:**\n",
    "\n",
    "```\n",
    "Input: n = 27\n",
    "Output: true\n",
    "Explanation: 27 = 33\n",
    "```\n",
    "\n",
    "**Example 2:**\n",
    "\n",
    "```\n",
    "Input: n = 0\n",
    "Output: false\n",
    "Explanation: There is no x where 3x = 0.\n",
    "\n",
    "```\n",
    "\n",
    "**Example 3:**\n",
    "\n",
    "Input: n = -1\n",
    "Output: false\n",
    "Explanation: There is no x where 3x = (-1).\n",
    "    \n",
    "</aside>"
   ]
  },
  {
   "cell_type": "code",
   "execution_count": 17,
   "id": "b8d98c9b",
   "metadata": {},
   "outputs": [],
   "source": [
    "def power(n):\n",
    "    if n==1:\n",
    "        return True\n",
    "    elif n%3 !=0 or n ==0:\n",
    "        return False\n",
    "    else:\n",
    "        return power(n//3)\n",
    "        "
   ]
  },
  {
   "cell_type": "code",
   "execution_count": 18,
   "id": "19433ba2",
   "metadata": {},
   "outputs": [
    {
     "data": {
      "text/plain": [
       "True"
      ]
     },
     "execution_count": 18,
     "metadata": {},
     "output_type": "execute_result"
    }
   ],
   "source": [
    "power(27)"
   ]
  },
  {
   "cell_type": "code",
   "execution_count": 19,
   "id": "fa7c4c86",
   "metadata": {},
   "outputs": [
    {
     "data": {
      "text/plain": [
       "False"
      ]
     },
     "execution_count": 19,
     "metadata": {},
     "output_type": "execute_result"
    }
   ],
   "source": [
    "power(0)"
   ]
  },
  {
   "cell_type": "code",
   "execution_count": 20,
   "id": "0e238df7",
   "metadata": {},
   "outputs": [
    {
     "data": {
      "text/plain": [
       "False"
      ]
     },
     "execution_count": 20,
     "metadata": {},
     "output_type": "execute_result"
    }
   ],
   "source": [
    "power(-1)"
   ]
  },
  {
   "cell_type": "markdown",
   "id": "d856d5c0",
   "metadata": {},
   "source": [
    "<aside>\n",
    "💡 **Question 2**\n",
    "\n",
    "You have a list `arr` of all integers in the range `[1, n]` sorted in a strictly increasing order. Apply the following algorithm on `arr`:\n",
    "\n",
    "- Starting from left to right, remove the first number and every other number afterward until you reach the end of the list.\n",
    "- Repeat the previous step again, but this time from right to left, remove the rightmost number and every other number from the remaining numbers.\n",
    "- Keep repeating the steps again, alternating left to right and right to left, until a single number remains.\n",
    "\n",
    "Given the integer `n`, return *the last number that remains in* `arr`.\n",
    "\n",
    "**Example 1:**\n",
    "\n",
    "```\n",
    "Input: n = 9\n",
    "Output: 6\n",
    "Explanation:\n",
    "arr = [1, 2,3, 4,5, 6,7, 8,9]\n",
    "arr = [2,4, 6,8]\n",
    "arr = [2, 6]\n",
    "arr = [6]\n",
    "\n",
    "```\n",
    "\n",
    "**Example 2:**\n",
    "\n",
    "Input: n = 1\n",
    "Output: 1\n",
    "</aside>"
   ]
  },
  {
   "cell_type": "code",
   "execution_count": 29,
   "id": "ded0563d",
   "metadata": {},
   "outputs": [],
   "source": [
    "def traverse(n):\n",
    "    if n ==1:\n",
    "        return 1\n",
    "    else:\n",
    "        return 2*(n//2+1 - traverse(n//2))\n",
    "    "
   ]
  },
  {
   "cell_type": "code",
   "execution_count": 30,
   "id": "5a0c096e",
   "metadata": {},
   "outputs": [
    {
     "data": {
      "text/plain": [
       "6"
      ]
     },
     "execution_count": 30,
     "metadata": {},
     "output_type": "execute_result"
    }
   ],
   "source": [
    "traverse(9)"
   ]
  },
  {
   "cell_type": "code",
   "execution_count": 31,
   "id": "c8723a4c",
   "metadata": {},
   "outputs": [
    {
     "data": {
      "text/plain": [
       "1"
      ]
     },
     "execution_count": 31,
     "metadata": {},
     "output_type": "execute_result"
    }
   ],
   "source": [
    "traverse(1)"
   ]
  },
  {
   "cell_type": "markdown",
   "id": "4f1afa87",
   "metadata": {},
   "source": [
    "<aside>\n",
    "💡 **Question 3**\n",
    "\n",
    "****Given a set represented as a string, write a recursive code to print all subsets of it. The subsets can be printed in any order.\n",
    "\n",
    "**Example 1:**\n",
    "\n",
    "Input :  set = “abc”\n",
    "\n",
    "Output : { “”, “a”, “b”, “c”, “ab”, “ac”, “bc”, “abc”}\n",
    "\n",
    "**Example 2:**\n",
    "\n",
    "Input : set = “abcd”\n",
    "\n",
    "Output : { “”, “a” ,”ab” ,”abc” ,”abcd”, “abd” ,”ac” ,”acd”, “ad” ,”b”, “bc” ,”bcd” ,”bd” ,”c” ,”cd” ,”d” }\n",
    "\n",
    "</aside>"
   ]
  },
  {
   "cell_type": "code",
   "execution_count": 38,
   "id": "9807b351",
   "metadata": {},
   "outputs": [],
   "source": [
    "def subset(arr,l,r,set1 = ''):\n",
    "    if l > r:\n",
    "        print(set1,end=\",\")\n",
    "        return\n",
    "    subset(arr, l + 1, r, set1 + arr[l])\n",
    "    \n",
    "    subset(arr, l + 1, r, set1)"
   ]
  },
  {
   "cell_type": "code",
   "execution_count": 39,
   "id": "a4f95905",
   "metadata": {},
   "outputs": [
    {
     "name": "stdout",
     "output_type": "stream",
     "text": [
      "abc,ab,ac,a,bc,b,c,,"
     ]
    }
   ],
   "source": [
    "s = \"abc\"\n",
    "arr = list(s)\n",
    "n = len(arr)\n",
    "subset(arr, 0, n - 1)"
   ]
  },
  {
   "cell_type": "code",
   "execution_count": 40,
   "id": "5bf8643e",
   "metadata": {},
   "outputs": [
    {
     "name": "stdout",
     "output_type": "stream",
     "text": [
      "abcd,abc,abd,ab,acd,ac,ad,a,bcd,bc,bd,b,cd,c,d,,"
     ]
    }
   ],
   "source": [
    "s = \"abcd\"\n",
    "arr = list(s)\n",
    "n = len(arr)\n",
    "subset(arr, 0, n - 1)"
   ]
  },
  {
   "cell_type": "markdown",
   "id": "6316bfd6",
   "metadata": {},
   "source": [
    "<aside>\n",
    "💡 **Question 4**\n",
    "\n",
    "Given a string calculate length of the string using recursion.\n",
    "\n",
    "**Examples:**\n",
    "Input : str = \"abcd\"\n",
    "Output :4\n",
    "\n",
    "Input : str = \"GEEKSFORGEEKS\"\n",
    "Output :13\n",
    "</aside>"
   ]
  },
  {
   "cell_type": "code",
   "execution_count": 41,
   "id": "3e1fcbc2",
   "metadata": {},
   "outputs": [],
   "source": [
    "def len_of_string(s):\n",
    "    if s == \"\":\n",
    "        return 0\n",
    "    return 1+len_of_string(s[1:])"
   ]
  },
  {
   "cell_type": "code",
   "execution_count": 42,
   "id": "ef1b5e61",
   "metadata": {},
   "outputs": [
    {
     "data": {
      "text/plain": [
       "4"
      ]
     },
     "execution_count": 42,
     "metadata": {},
     "output_type": "execute_result"
    }
   ],
   "source": [
    "s = \"abcd\"\n",
    "len_of_string(s)"
   ]
  },
  {
   "cell_type": "code",
   "execution_count": 43,
   "id": "3a8b1f44",
   "metadata": {},
   "outputs": [
    {
     "data": {
      "text/plain": [
       "13"
      ]
     },
     "execution_count": 43,
     "metadata": {},
     "output_type": "execute_result"
    }
   ],
   "source": [
    "s = 'GEEKSFORGEEKS'\n",
    "len_of_string(s)"
   ]
  },
  {
   "cell_type": "markdown",
   "id": "da885a99",
   "metadata": {},
   "source": [
    "<aside>\n",
    "💡 **Question 5**\n",
    "\n",
    "We are given a string S, we need to find count of all contiguous substrings starting and ending with same character.\n",
    "\n",
    "**Examples :**\n",
    "    \n",
    "Input  : S = \"abcab\"\n",
    "    \n",
    "Output : 7\n",
    "    \n",
    "There are 15 substrings of \"abcab\"\n",
    "    \n",
    "a, ab, abc, abca, abcab, b, bc, bca\n",
    "    \n",
    "bcab, c, ca, cab, a, ab, b\n",
    "    \n",
    "Out of the above substrings, there\n",
    "    \n",
    "are 7 substrings : a, abca, b, bcab,\n",
    "    \n",
    "c, a and b.\n",
    "\n",
    "Input  : S = \"aba\"\n",
    "    \n",
    "Output : 4\n",
    "    \n",
    "The substrings are a, b, a and aba\n",
    "\n",
    "</aside>"
   ]
  },
  {
   "cell_type": "code",
   "execution_count": 45,
   "id": "49c34a82",
   "metadata": {},
   "outputs": [],
   "source": [
    "def countSubstrs(str1, i, j, n):\n",
    " \n",
    "    # base cases\n",
    "    if (n == 1):\n",
    "        return 1\n",
    "    if (n <= 0):\n",
    "        return 0\n",
    " \n",
    "    res = (countSubstrs(str1, i + 1, j, n - 1)\n",
    "        + countSubstrs(str1, i, j - 1, n - 1)\n",
    "        - countSubstrs(str1, i + 1, j - 1, n - 2))    \n",
    " \n",
    "    if (str1[i] == str1[j]):\n",
    "        res += 1\n",
    " \n",
    "    return res"
   ]
  },
  {
   "cell_type": "code",
   "execution_count": 46,
   "id": "0fe4537d",
   "metadata": {},
   "outputs": [
    {
     "name": "stdout",
     "output_type": "stream",
     "text": [
      "7\n"
     ]
    }
   ],
   "source": [
    "str1 = \"abcab\"\n",
    "n = len(str1)\n",
    "print(countSubstrs(str1, 0, n - 1, n))"
   ]
  },
  {
   "cell_type": "code",
   "execution_count": 47,
   "id": "73d3079f",
   "metadata": {},
   "outputs": [
    {
     "name": "stdout",
     "output_type": "stream",
     "text": [
      "4\n"
     ]
    }
   ],
   "source": [
    "str1 = \"aba\"\n",
    "n = len(str1)\n",
    "print(countSubstrs(str1, 0, n - 1, n))"
   ]
  },
  {
   "cell_type": "markdown",
   "id": "5e0863ad",
   "metadata": {},
   "source": [
    "<aside>\n",
    "💡 **Question 6**\n",
    "\n",
    "The [tower of Hanoi](https://en.wikipedia.org/wiki/Tower_of_Hanoi) is a famous puzzle where we have three rods and **N** disks. The objective of the puzzle is to move the entire stack to another rod. You are given the number of discs **N**. Initially, these discs are in the rod 1. You need to print all the steps of discs movement so that all the discs reach the 3rd rod. Also, you need to find the total moves.**Note:** The discs are arranged such that the **top disc is numbered 1** and the **bottom-most disc is numbered N**. Also, all the discs have **different sizes** and a bigger disc **cannot** be put on the top of a smaller disc. Refer the provided link to get a better clarity about the puzzle.\n",
    "\n",
    "**Example 1:**\n",
    "\n",
    "```\n",
    "Input:\n",
    "N = 2\n",
    "Output:\n",
    "move disk 1 from rod 1 to rod 2\n",
    "move disk 2 from rod 1 to rod 3\n",
    "move disk 1 from rod 2 to rod 3\n",
    "3\n",
    "Explanation:For N=2 , steps will be\n",
    "as follows in the example and total\n",
    "3 steps will be taken.\n",
    "```\n",
    "\n",
    "**Example 2:**\n",
    "    \n",
    "Input:\n",
    "    \n",
    "N = 3\n",
    "    \n",
    "Output:\n",
    "    \n",
    "move disk 1 from rod 1 to rod 3\n",
    "    \n",
    "move disk 2 from rod 1 to rod 2\n",
    "    \n",
    "move disk 1 from rod 3 to rod 2\n",
    "    \n",
    "move disk 3 from rod 1 to rod 3\n",
    "    \n",
    "move disk 1 from rod 2 to rod 1\n",
    "    \n",
    "move disk 2 from rod 2 to rod 3\n",
    "    \n",
    "move disk 1 from rod 1 to rod 3\n",
    "    \n",
    "7\n",
    "    \n",
    "Explanation:For N=3 , steps will be\n",
    "    \n",
    "as follows in the example and total\n",
    "    \n",
    "7 steps will be taken.\n",
    "\n",
    "</aside>"
   ]
  },
  {
   "cell_type": "code",
   "execution_count": 85,
   "id": "917d35c8",
   "metadata": {},
   "outputs": [],
   "source": [
    "def TowerOfHanoi(n , source, destination, auxiliary):\n",
    "    if n==1:\n",
    "        print (\"Move disk 1 from source\",source,\"to destination\",destination)\n",
    "        return\n",
    "    TowerOfHanoi(n-1, source, auxiliary, destination)\n",
    "    print (\"Move disk\",n,\"from source\",source,\"to destination\",destination)\n",
    "    TowerOfHanoi(n-1, auxiliary, destination, source)"
   ]
  },
  {
   "cell_type": "code",
   "execution_count": 86,
   "id": "7a2fe03c",
   "metadata": {},
   "outputs": [
    {
     "name": "stdout",
     "output_type": "stream",
     "text": [
      "Move disk 1 from source rod1 to destination rod3\n",
      "Move disk 2 from source rod1 to destination rod2\n",
      "Move disk 1 from source rod3 to destination rod2\n"
     ]
    }
   ],
   "source": [
    "N = 2\n",
    "TowerOfHanoi(N, 'rod1','rod2','rod3')"
   ]
  },
  {
   "cell_type": "code",
   "execution_count": 87,
   "id": "dffa7beb",
   "metadata": {},
   "outputs": [
    {
     "name": "stdout",
     "output_type": "stream",
     "text": [
      "Move disk 1 from source rod1 to destination rod2\n",
      "Move disk 2 from source rod1 to destination rod3\n",
      "Move disk 1 from source rod2 to destination rod3\n",
      "Move disk 3 from source rod1 to destination rod2\n",
      "Move disk 1 from source rod3 to destination rod1\n",
      "Move disk 2 from source rod3 to destination rod2\n",
      "Move disk 1 from source rod1 to destination rod2\n"
     ]
    }
   ],
   "source": [
    "N = 3\n",
    "TowerOfHanoi(N, 'rod1','rod2','rod3')"
   ]
  },
  {
   "cell_type": "markdown",
   "id": "ce0470a2",
   "metadata": {},
   "source": [
    "<aside>\n",
    "💡 **Question 7**\n",
    "\n",
    "Given a string **str**, the task is to print all the permutations of **str**. A **permutation** is an arrangement of all or part of a set of objects, with regard to the order of the arrangement. For instance, the words ‘bat’ and ‘tab’ represents two distinct permutation (or arrangements) of a similar three letter word.\n",
    "\n",
    "**Examples:**\n",
    "\n",
    "> Input: str = “cd”\n",
    "> \n",
    "> \n",
    "> **Output:** cd dc\n",
    "> \n",
    "> **Input:** str = “abb”\n",
    "> \n",
    "> **Output:** abb abb bab bba bab bba\n",
    "> \n",
    "</aside>"
   ]
  },
  {
   "cell_type": "code",
   "execution_count": 65,
   "id": "2cb24b27",
   "metadata": {},
   "outputs": [],
   "source": [
    "def permutation(sofar, rest,res):\n",
    "    if len(rest) == 0:\n",
    "        res.add(sofar)\n",
    "    else:\n",
    "        for i in range(len(rest)):\n",
    "            permutation(sofar + rest[i], rest[:i] + rest[i+1:len(rest)], res)\n",
    "    return res"
   ]
  },
  {
   "cell_type": "code",
   "execution_count": 66,
   "id": "6ed4d2e0",
   "metadata": {},
   "outputs": [
    {
     "name": "stdout",
     "output_type": "stream",
     "text": [
      "{'bba', 'abb', 'bab'}\n"
     ]
    }
   ],
   "source": [
    "s = 'abb'\n",
    "res = set()\n",
    "permutation('',s,res)\n",
    "print(res)"
   ]
  },
  {
   "cell_type": "code",
   "execution_count": 67,
   "id": "efa30a24",
   "metadata": {},
   "outputs": [
    {
     "name": "stdout",
     "output_type": "stream",
     "text": [
      "{'dc', 'cd'}\n"
     ]
    }
   ],
   "source": [
    "s = 'cd'\n",
    "res = set()\n",
    "permutation('',s,res)\n",
    "print(res)"
   ]
  },
  {
   "cell_type": "code",
   "execution_count": 68,
   "id": "4cef718d",
   "metadata": {},
   "outputs": [
    {
     "name": "stdout",
     "output_type": "stream",
     "text": [
      "{'atg', 'agt', 'tga', 'tag', 'gat', 'gta'}\n"
     ]
    }
   ],
   "source": [
    "s = 'tag'\n",
    "res = set()\n",
    "permutation('',s,res)\n",
    "print(res)"
   ]
  },
  {
   "cell_type": "markdown",
   "id": "b702d540",
   "metadata": {},
   "source": [
    "<aside>\n",
    "💡 **Question 8**\n",
    "\n",
    "Given a string, count total number of consonants in it. A consonant is an English alphabet character that is not vowel (a, e, i, o and u). Examples of constants are b, c, d, f, and g.\n",
    "\n",
    "**Examples :**\n",
    "    \n",
    "    Input : abc de\n",
    "Output : 3\n",
    "There are three consonants b, c and d.\n",
    "\n",
    "Input : geeksforgeeks portal\n",
    "Output : 12\n",
    "\n",
    "</aside>"
   ]
  },
  {
   "cell_type": "code",
   "execution_count": 81,
   "id": "5ce34dcb",
   "metadata": {},
   "outputs": [],
   "source": [
    "def check_consonant(x): \n",
    "      \n",
    "    return not (x == 'a' or x == 'e' or \n",
    "                x == 'i' or x == 'o' or \n",
    "                x == 'u' or x == ' ')\n",
    "  \n",
    "# Count total number of consonants from 0 to n-1 \n",
    "def count_consonants(string, n): \n",
    "      \n",
    "    if n == 1: \n",
    "        return check_consonant(string[0]) \n",
    "  \n",
    "    return count_consonants(string, n - 1) + check_consonant(string[n-1])"
   ]
  },
  {
   "cell_type": "code",
   "execution_count": 82,
   "id": "71f07526",
   "metadata": {},
   "outputs": [],
   "source": [
    "s = \"abc de\""
   ]
  },
  {
   "cell_type": "code",
   "execution_count": 83,
   "id": "a2840f38",
   "metadata": {},
   "outputs": [
    {
     "data": {
      "text/plain": [
       "3"
      ]
     },
     "execution_count": 83,
     "metadata": {},
     "output_type": "execute_result"
    }
   ],
   "source": [
    "count_consonants(s,len(s))"
   ]
  },
  {
   "cell_type": "code",
   "execution_count": 84,
   "id": "23e96038",
   "metadata": {},
   "outputs": [
    {
     "data": {
      "text/plain": [
       "8"
      ]
     },
     "execution_count": 84,
     "metadata": {},
     "output_type": "execute_result"
    }
   ],
   "source": [
    "s = 'geeksforgeeks'\n",
    "count_consonants(s,len(s))"
   ]
  },
  {
   "cell_type": "code",
   "execution_count": null,
   "id": "aa27937f",
   "metadata": {},
   "outputs": [],
   "source": []
  }
 ],
 "metadata": {
  "kernelspec": {
   "display_name": "Python 3 (ipykernel)",
   "language": "python",
   "name": "python3"
  },
  "language_info": {
   "codemirror_mode": {
    "name": "ipython",
    "version": 3
   },
   "file_extension": ".py",
   "mimetype": "text/x-python",
   "name": "python",
   "nbconvert_exporter": "python",
   "pygments_lexer": "ipython3",
   "version": "3.9.12"
  }
 },
 "nbformat": 4,
 "nbformat_minor": 5
}
