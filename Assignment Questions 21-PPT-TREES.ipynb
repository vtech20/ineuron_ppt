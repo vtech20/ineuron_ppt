{
 "cells": [
  {
   "cell_type": "markdown",
   "id": "a24fa499",
   "metadata": {},
   "source": [
    "<aside>\n",
    "💡 Question-1\n",
    "\n",
    "You are given a binary tree. The binary tree is represented using the TreeNode class. Each TreeNode has an integer value and left and right children, represented using the TreeNode class itself. Convert this binary tree into a binary search tree.\n",
    "\n",
    "Input:\n",
    "\n",
    "        10\n",
    "\n",
    "       /   \\\n",
    "\n",
    "     2      7\n",
    "\n",
    "   /   \\\n",
    "\n",
    " 8      4\n",
    "\n",
    "Output:\n",
    "\n",
    "        8\n",
    "\n",
    "      /   \\\n",
    "\n",
    "    4     10\n",
    "\n",
    "  /   \\\n",
    "\n",
    "2      7\n",
    "\n",
    "</aside>"
   ]
  },
  {
   "cell_type": "code",
   "execution_count": 10,
   "id": "e24593f8",
   "metadata": {},
   "outputs": [],
   "source": [
    "class TreeNode:\n",
    "    def __init__(self, value):\n",
    "        self.value = value\n",
    "        self.left = None\n",
    "        self.right = None\n",
    "\n",
    "\n",
    "def in_order_traversal(node, values):\n",
    "    if node is None:\n",
    "        return\n",
    "\n",
    "    in_order_traversal(node.left, values)\n",
    "    values.append(node.value)\n",
    "    in_order_traversal(node.right, values)\n",
    "\n",
    "\n",
    "def convert_to_bst(node, values, index):\n",
    "    if node is None:\n",
    "        return\n",
    "\n",
    "    convert_to_bst(node.left, values, index)\n",
    "    node.value = values[index[0]]\n",
    "    index[0] += 1\n",
    "    convert_to_bst(node.right, values, index)\n",
    "\n",
    "\n",
    "def convert_binary_tree_to_bst(root):\n",
    "    if root is None:\n",
    "        return\n",
    "\n",
    "    values = []\n",
    "    in_order_traversal(root, values)\n",
    "    values.sort()\n",
    "    index = [0]\n",
    "    convert_to_bst(root, values, index)\n",
    "\n",
    "\n",
    "\n",
    "    \n",
    "    \n",
    "def print_in_order(node):\n",
    "    if node is None:\n",
    "        return\n",
    "\n",
    "    print_in_order(node.left)\n",
    "    print(node.value)\n",
    "    print_in_order(node.right)\n",
    "    \n",
    "\n"
   ]
  },
  {
   "cell_type": "code",
   "execution_count": 11,
   "id": "756d4564",
   "metadata": {},
   "outputs": [
    {
     "name": "stdout",
     "output_type": "stream",
     "text": [
      "2\n",
      "4\n",
      "7\n",
      "8\n",
      "10\n"
     ]
    }
   ],
   "source": [
    "# Create the binary tree\n",
    "root = TreeNode(10)\n",
    "root.left = TreeNode(2)\n",
    "root.right = TreeNode(7)\n",
    "root.left.left = TreeNode(8)\n",
    "root.left.right = TreeNode(4)\n",
    "\n",
    "# Convert the binary tree to a binary search tree\n",
    "convert_binary_tree_to_bst(root)\n",
    "\n",
    "# Output the resulting binary search tree\n",
    "\n",
    "\n",
    "print_in_order(root)"
   ]
  },
  {
   "cell_type": "markdown",
   "id": "92b8c4ea",
   "metadata": {},
   "source": [
    "<aside>\n",
    "💡 Question-2:\n",
    "\n",
    "Given a Binary Search Tree with all unique values and two keys. Find the distance between two nodes in BST. The given keys always exist in BST.\n",
    "\n",
    "Example:\n",
    "\n",
    "Consider the following BST:\n",
    "\n",
    "![1.png](https://s3-us-west-2.amazonaws.com/secure.notion-static.com/f2455039-7e12-43fc-a7d3-b5be24931c1c/1.png)\n",
    "\n",
    "**Input-1:**\n",
    "\n",
    "n = 9\n",
    "\n",
    "values = [8, 3, 1, 6, 4, 7, 10, 14,13]\n",
    "\n",
    "node-1 = 6\n",
    "\n",
    "node-2 = 14\n",
    "\n",
    "**Output-1:**\n",
    "\n",
    "The distance between the two keys = 4\n",
    "\n",
    "**Input-2:**\n",
    "\n",
    "n = 9\n",
    "\n",
    "values = [8, 3, 1, 6, 4, 7, 10, 14,13]\n",
    "\n",
    "node-1 = 3\n",
    "\n",
    "node-2 = 4\n",
    "\n",
    "**Output-2:**\n",
    "\n",
    "The distance between the two keys = 2\n",
    "\n",
    "</aside>"
   ]
  },
  {
   "cell_type": "code",
   "execution_count": 14,
   "id": "8992592b",
   "metadata": {},
   "outputs": [],
   "source": [
    "class TreeNode:\n",
    "    def __init__(self, value):\n",
    "        self.value = value\n",
    "        self.left = None\n",
    "        self.right = None\n",
    "\n",
    "\n",
    "def find_lca(root, node1, node2):\n",
    "    if root is None:\n",
    "        return None\n",
    "\n",
    "    if root.value > node1 and root.value > node2:\n",
    "        return find_lca(root.left, node1, node2)\n",
    "\n",
    "    if root.value < node1 and root.value < node2:\n",
    "        return find_lca(root.right, node1, node2)\n",
    "\n",
    "    return root\n",
    "\n",
    "\n",
    "def find_distance(root, node, distance):\n",
    "    if root is None:\n",
    "        return 0\n",
    "\n",
    "    if root.value == node:\n",
    "        return distance\n",
    "\n",
    "    if root.value > node:\n",
    "        return find_distance(root.left, node, distance + 1)\n",
    "\n",
    "    return find_distance(root.right, node, distance + 1)\n",
    "\n",
    "\n",
    "def find_node_distance(root, node1, node2):\n",
    "    lca = find_lca(root, node1, node2)\n",
    "    distance1 = find_distance(lca, node1, 0)\n",
    "    distance2 = find_distance(lca, node2, 0)\n",
    "    return distance1 + distance2\n"
   ]
  },
  {
   "cell_type": "code",
   "execution_count": 15,
   "id": "65bcc487",
   "metadata": {},
   "outputs": [
    {
     "name": "stdout",
     "output_type": "stream",
     "text": [
      "The distance between the two keys = 4\n"
     ]
    }
   ],
   "source": [
    "\n",
    "root = TreeNode(8)\n",
    "root.left = TreeNode(3)\n",
    "root.left.left = TreeNode(1)\n",
    "root.left.right = TreeNode(6)\n",
    "root.left.right.left = TreeNode(4)\n",
    "root.left.right.right = TreeNode(7)\n",
    "root.right = TreeNode(10)\n",
    "root.right.right = TreeNode(14)\n",
    "root.right.right.left = TreeNode(13)\n",
    "\n",
    "\n",
    "node1 = 6\n",
    "node2 = 14\n",
    "distance = find_node_distance(root, node1, node2)\n",
    "\n",
    "print(\"The distance between the two keys =\", distance)"
   ]
  },
  {
   "cell_type": "markdown",
   "id": "bebe8b35",
   "metadata": {},
   "source": [
    "<aside>\n",
    "💡 Question-3:\n",
    "\n",
    "Write a program to convert a binary tree to a doubly linked list.\n",
    "\n",
    "Input:\n",
    "\n",
    "        10\n",
    "\n",
    "       /   \\\n",
    "\n",
    "     5     20\n",
    "\n",
    "           /   \\\n",
    "\n",
    "        30     35\n",
    "\n",
    "Output:\n",
    "\n",
    "5 10 30 20 35\n",
    "\n",
    "</aside>"
   ]
  },
  {
   "cell_type": "code",
   "execution_count": 21,
   "id": "c6d26183",
   "metadata": {},
   "outputs": [],
   "source": [
    "class TreeNode:\n",
    "    def __init__(self, value):\n",
    "        self.value = value\n",
    "        self.left = None\n",
    "        self.right = None\n",
    "\n",
    "\n",
    "class DoublyLinkedListNode:\n",
    "    def __init__(self, value):\n",
    "        self.value = value\n",
    "        self.prev = None\n",
    "        self.next = None\n",
    "\n",
    "\n",
    "def convert_binary_tree_to_dll(root):\n",
    "    if root is None:\n",
    "        return None\n",
    "\n",
    "    # Convert the left subtree\n",
    "    left_head = convert_binary_tree_to_dll(root.left)\n",
    "\n",
    "    # Create a doubly linked list node for the current root\n",
    "    current_node = DoublyLinkedListNode(root.value)\n",
    "\n",
    "    # If there is a left subtree, adjust the pointers\n",
    "    if left_head:\n",
    "        left_tail = left_head\n",
    "        while left_tail.next:\n",
    "            left_tail = left_tail.next\n",
    "        left_tail.next = current_node\n",
    "        current_node.prev = left_tail\n",
    "\n",
    "    # Convert the right subtree\n",
    "    right_head = convert_binary_tree_to_dll(root.right)\n",
    "\n",
    "    # If there is a right subtree, adjust the pointers\n",
    "    if right_head:\n",
    "        right_head.prev = current_node\n",
    "        current_node.next = right_head\n",
    "\n",
    "    # Return the head of the doubly linked list\n",
    "    if left_head:\n",
    "        return left_head\n",
    "    return current_node\n",
    "\n",
    "\n",
    "def print_doubly_linked_list(head):\n",
    "    if head is None:\n",
    "        return\n",
    "\n",
    "    current_node = head\n",
    "    while current_node:\n",
    "        print(current_node.value, end=\"<->\")\n",
    "        current_node = current_node.next\n",
    "    print()\n"
   ]
  },
  {
   "cell_type": "code",
   "execution_count": 22,
   "id": "4a9b0d86",
   "metadata": {},
   "outputs": [
    {
     "name": "stdout",
     "output_type": "stream",
     "text": [
      "5<->10<->30<->20<->35<->\n"
     ]
    }
   ],
   "source": [
    "root = TreeNode(10)\n",
    "root.left = TreeNode(5)\n",
    "root.right = TreeNode(20)\n",
    "root.right.left = TreeNode(30)\n",
    "root.right.right = TreeNode(35)\n",
    "\n",
    "\n",
    "head = convert_binary_tree_to_dll(root)\n",
    "\n",
    "\n",
    "print_doubly_linked_list(head)"
   ]
  },
  {
   "cell_type": "markdown",
   "id": "5580b830",
   "metadata": {},
   "source": [
    "<aside>\n",
    "💡 Question-4:\n",
    "\n",
    "Write a program to connect nodes at the same level.\n",
    "\n",
    "Input:\n",
    "\n",
    "        1\n",
    "\n",
    "      /   \\\n",
    "\n",
    "    2      3\n",
    "\n",
    "  /   \\   /   \\\n",
    "\n",
    "4     5 6    7\n",
    "\n",
    "Output:\n",
    "\n",
    "1 → -1\n",
    "\n",
    "2 → 3\n",
    "\n",
    "3 → -1\n",
    "\n",
    "4 → 5\n",
    "\n",
    "5 → 6\n",
    "\n",
    "6 → 7\n",
    "\n",
    "7 → -1\n",
    "\n",
    "</aside>"
   ]
  },
  {
   "cell_type": "code",
   "execution_count": 31,
   "id": "e4a2b6d6",
   "metadata": {},
   "outputs": [],
   "source": [
    "class newnode:\n",
    "    def __init__(self, data):\n",
    "        self.data = data\n",
    "        self.left = self.right = self.nextRight = None\n",
    "\n",
    "def connect(root):\n",
    " \n",
    "    # Base condition\n",
    "    if root is None:\n",
    "        return\n",
    " \n",
    "    # Create an empty queue like level order traversal\n",
    "    queue = []\n",
    "    queue.append(root)\n",
    "    while len(queue) != 0:\n",
    " \n",
    "        # size indicates no. of nodes at current level\n",
    "        size = len(queue)\n",
    " \n",
    "        # for keeping track of previous node\n",
    "        prev = newnode(None)\n",
    "        for i in range(size):\n",
    "            temp = queue.pop(0)\n",
    "            if temp.left:\n",
    "                queue.append(temp.left)\n",
    "            if temp.right:\n",
    "                queue.append(temp.right)\n",
    "            if prev != None:\n",
    "                prev.nextRight = temp\n",
    "                prev = temp\n",
    "        prev.nextRight = None\n",
    " "
   ]
  },
  {
   "cell_type": "code",
   "execution_count": 40,
   "id": "67287cda",
   "metadata": {},
   "outputs": [],
   "source": [
    "root = newnode(1)\n",
    "root.left = newnode(2)\n",
    "root.right = newnode(3)\n",
    "root.left.left = newnode(4)\n",
    "root.left.right = newnode(5)\n",
    "root.right.left = newnode(6)\n",
    "root.right.right = newnode(7)"
   ]
  },
  {
   "cell_type": "code",
   "execution_count": 41,
   "id": "d452b315",
   "metadata": {},
   "outputs": [],
   "source": [
    "connect(root)"
   ]
  },
  {
   "cell_type": "code",
   "execution_count": 44,
   "id": "432582f4",
   "metadata": {},
   "outputs": [],
   "source": [
    "def print_connected_nodes(root):\n",
    "    if root is None:\n",
    "        return\n",
    "\n",
    "    current = root\n",
    "\n",
    "    while current:\n",
    "        print(current.data, end=\" → \")\n",
    "        current = current.nextRight\n",
    "\n",
    "    print(\"-1\")"
   ]
  },
  {
   "cell_type": "code",
   "execution_count": 45,
   "id": "d1e21d03",
   "metadata": {},
   "outputs": [
    {
     "name": "stdout",
     "output_type": "stream",
     "text": [
      "1 → -1\n"
     ]
    }
   ],
   "source": [
    "print_connected_nodes(root)"
   ]
  },
  {
   "cell_type": "code",
   "execution_count": 46,
   "id": "8a85521f",
   "metadata": {},
   "outputs": [
    {
     "name": "stdout",
     "output_type": "stream",
     "text": [
      "2 → 3 → -1\n"
     ]
    }
   ],
   "source": [
    "print_connected_nodes(root.left)"
   ]
  },
  {
   "cell_type": "code",
   "execution_count": 47,
   "id": "92fa0fcd",
   "metadata": {},
   "outputs": [
    {
     "name": "stdout",
     "output_type": "stream",
     "text": [
      "4 → 5 → 6 → 7 → -1\n"
     ]
    }
   ],
   "source": [
    "print_connected_nodes(root.left.left)"
   ]
  },
  {
   "cell_type": "code",
   "execution_count": null,
   "id": "acfe856b",
   "metadata": {},
   "outputs": [],
   "source": []
  }
 ],
 "metadata": {
  "kernelspec": {
   "display_name": "Python 3 (ipykernel)",
   "language": "python",
   "name": "python3"
  },
  "language_info": {
   "codemirror_mode": {
    "name": "ipython",
    "version": 3
   },
   "file_extension": ".py",
   "mimetype": "text/x-python",
   "name": "python",
   "nbconvert_exporter": "python",
   "pygments_lexer": "ipython3",
   "version": "3.9.12"
  }
 },
 "nbformat": 4,
 "nbformat_minor": 5
}
