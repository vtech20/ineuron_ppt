{
 "cells": [
  {
   "cell_type": "markdown",
   "id": "01636299",
   "metadata": {},
   "source": [
    "💡 **Q1.** Given an array of integers nums and an integer target, return indices of the two numbers such that they add up to target.\n",
    "\n",
    "You may assume that each input would have exactly one solution, and you may not use the same element twice.\n",
    "\n",
    "You can return the answer in any order.\n",
    "\n",
    "**Example:**\n",
    "Input: nums = [2,7,11,15], target = 9\n",
    "Output0 [0,1]\n",
    "\n",
    "**Explanation:** Because nums[0] + nums[1] == 9, we return [0, 1]["
   ]
  },
  {
   "cell_type": "code",
   "execution_count": 4,
   "id": "d6293104",
   "metadata": {},
   "outputs": [],
   "source": [
    "def add_to_target(arr,target):\n",
    "    i = 0\n",
    "    j = 1\n",
    "    while i <= j:\n",
    "        if target == (arr[i] + arr[j]):\n",
    "            return[i,j]\n",
    "        elif j <= len(arr):\n",
    "            j+=1\n",
    "        else:\n",
    "            i+=1"
   ]
  },
  {
   "cell_type": "code",
   "execution_count": 5,
   "id": "01940dc7",
   "metadata": {},
   "outputs": [
    {
     "data": {
      "text/plain": [
       "[0, 1]"
      ]
     },
     "execution_count": 5,
     "metadata": {},
     "output_type": "execute_result"
    }
   ],
   "source": [
    "nums =  [2,7,11,15]\n",
    "target = 9\n",
    "add_to_target(nums,target)"
   ]
  },
  {
   "cell_type": "markdown",
   "id": "1220d2d8",
   "metadata": {},
   "source": [
    "💡 **Q2.** Given an integer array nums and an integer val, remove all occurrences of val in nums in-place. The order of the elements may be changed. Then return the number of elements in nums which are not equal to val.\n",
    "\n",
    "Consider the number of elements in nums which are not equal to val be k, to get accepted, you need to do the following things:\n",
    "\n",
    "- Change the array nums such that the first k elements of nums contain the elements which are not equal to val. The remaining elements of nums are not important as well as the size of nums.\n",
    "- Return k.\n",
    "\n",
    "**Example :**\n",
    "Input: nums = [3,2,2,3], val = 3\n",
    "Output: 2, nums = [2,2,_*,_*]\n",
    "\n",
    "**Explanation:** Your function should return k = 2, with the first two elements of nums being 2. It does not matter what you leave beyond the returned k (hence they are underscores)["
   ]
  },
  {
   "cell_type": "code",
   "execution_count": 6,
   "id": "1da025ad",
   "metadata": {},
   "outputs": [],
   "source": [
    "def remove_nums_in_place(nums,val):\n",
    "    count = 0\n",
    "    i = 0 \n",
    "    j = len(nums)\n",
    "    while i < j:\n",
    "        if nums[i] == val:\n",
    "            nums.pop(i)\n",
    "            count+=1\n",
    "            i-=1\n",
    "            nums.append(\"*\")\n",
    "            j=len(nums)\n",
    "        elif i <= len(nums):\n",
    "            i+=1\n",
    "    return f\"k = {len(nums)-count}\",nums"
   ]
  },
  {
   "cell_type": "code",
   "execution_count": 7,
   "id": "67c25789",
   "metadata": {},
   "outputs": [
    {
     "data": {
      "text/plain": [
       "('k = 2', [2, 2, '*', '*'])"
      ]
     },
     "execution_count": 7,
     "metadata": {},
     "output_type": "execute_result"
    }
   ],
   "source": [
    "nums = [3,2,2,3]\n",
    "val = 3\n",
    "remove_nums_in_place(nums,val)"
   ]
  },
  {
   "cell_type": "code",
   "execution_count": 8,
   "id": "c202cf22",
   "metadata": {},
   "outputs": [
    {
     "data": {
      "text/plain": [
       "('k = 4', [4, 4, 5, 5, '*', '*', '*'])"
      ]
     },
     "execution_count": 8,
     "metadata": {},
     "output_type": "execute_result"
    }
   ],
   "source": [
    "nums = [4,3,4,5,5,3,3]\n",
    "val = 3\n",
    "remove_nums_in_place(nums,val)"
   ]
  },
  {
   "cell_type": "markdown",
   "id": "2e851cca",
   "metadata": {},
   "source": [
    "💡 **Q3.** Given a sorted array of distinct integers and a target value, return the index if the target is found. If not, return the index where it would be if it were inserted in order.\n",
    "\n",
    "You must write an algorithm with O(log n) runtime complexity.\n",
    "\n",
    "**Example 1:**\n",
    "Input: nums = [1,3,5,6], target = 5\n",
    "\n",
    "Output: 2"
   ]
  },
  {
   "cell_type": "code",
   "execution_count": 9,
   "id": "4c4f139d",
   "metadata": {},
   "outputs": [],
   "source": [
    "def searchinsert(nums,target):\n",
    "    i = 0\n",
    "    j = len(nums) - 1\n",
    "\n",
    "    while i <= j:\n",
    "        if target > nums[-1]:\n",
    "            return len(nums)\n",
    "        elif nums[i] == target:\n",
    "            return i\n",
    "        elif nums[i] <= target and nums[i+1] >=target:\n",
    "            return i+1\n",
    "        elif nums[i] >= target:\n",
    "            return i\n",
    "        else:\n",
    "            i+=1"
   ]
  },
  {
   "cell_type": "code",
   "execution_count": 10,
   "id": "dff2b87c",
   "metadata": {},
   "outputs": [
    {
     "data": {
      "text/plain": [
       "2"
      ]
     },
     "execution_count": 10,
     "metadata": {},
     "output_type": "execute_result"
    }
   ],
   "source": [
    "nums = [1,3,5,6]\n",
    "target = 5\n",
    "searchinsert(nums,target)"
   ]
  },
  {
   "cell_type": "code",
   "execution_count": 12,
   "id": "bf80b77e",
   "metadata": {},
   "outputs": [
    {
     "data": {
      "text/plain": [
       "1"
      ]
     },
     "execution_count": 12,
     "metadata": {},
     "output_type": "execute_result"
    }
   ],
   "source": [
    "nums = [1,3,5,6]\n",
    "target = 2\n",
    "searchinsert(nums,target)"
   ]
  },
  {
   "cell_type": "markdown",
   "id": "c5ef9d1f",
   "metadata": {},
   "source": [
    " **Q4.** You are given a large integer represented as an integer array digits, where each digits[i] is the ith digit of the integer. The digits are ordered from most significant to least significant in left-to-right order. The large integer does not contain any leading 0's.\n",
    "\n",
    "Increment the large integer by one and return the resulting array of digits.\n",
    "\n",
    "**Example 1:**\n",
    "Input: digits = [1,2,3]\n",
    "Output: [1,2,4]\n",
    "\n",
    "**Explanation:** The array represents the integer 123.\n",
    "\n",
    "Incrementing by one gives 123 + 1 = 124.\n",
    "Thus, the result should be [1,2,4]."
   ]
  },
  {
   "cell_type": "code",
   "execution_count": 13,
   "id": "b88bbe1f",
   "metadata": {},
   "outputs": [],
   "source": [
    "def addby1(digits):\n",
    "    i = 0\n",
    "    j = len(digits) - 1\n",
    "\n",
    "    while j >= i:\n",
    "        digits[j] += 1\n",
    "        if digits[j] == 10:\n",
    "            digits[j] = 0\n",
    "        else:\n",
    "            return digits\n",
    "        j-=1"
   ]
  },
  {
   "cell_type": "code",
   "execution_count": 14,
   "id": "53dd9d26",
   "metadata": {},
   "outputs": [
    {
     "data": {
      "text/plain": [
       "[1, 2, 4]"
      ]
     },
     "execution_count": 14,
     "metadata": {},
     "output_type": "execute_result"
    }
   ],
   "source": [
    "digits = [1,2,3]\n",
    "addby1(digits)"
   ]
  },
  {
   "cell_type": "code",
   "execution_count": 15,
   "id": "555427eb",
   "metadata": {},
   "outputs": [
    {
     "data": {
      "text/plain": [
       "[1, 3, 0]"
      ]
     },
     "execution_count": 15,
     "metadata": {},
     "output_type": "execute_result"
    }
   ],
   "source": [
    "digits = [1,2,9]\n",
    "addby1(digits)"
   ]
  },
  {
   "cell_type": "markdown",
   "id": "52165c78",
   "metadata": {},
   "source": [
    "💡 **Q5.** You are given two integer arrays nums1 and nums2, sorted in non-decreasing order, and two integers m and n, representing the number of elements in nums1 and nums2 respectively.\n",
    "\n",
    "Merge nums1 and nums2 into a single array sorted in non-decreasing order.\n",
    "\n",
    "The final sorted array should not be returned by the function, but instead be stored inside the array nums1. To accommodate this, nums1 has a length of m + n, where the first m elements denote the elements that should be merged, and the last n elements are set to 0 and should be ignored. nums2 has a length of n.\n",
    "\n",
    "**Example 1:**\n",
    "Input: nums1 = [1,2,3,0,0,0], m = 3, nums2 = [2,5,6], n = 3\n",
    "Output: [1,2,2,3,5,6]\n",
    "\n",
    "**Explanation:** The arrays we are merging are [1,2,3] and [2,5,6].\n",
    "The result of the merge is [1,2,2,3,5,6] with the underlined elements coming from nums1."
   ]
  },
  {
   "cell_type": "code",
   "execution_count": 16,
   "id": "c16437fd",
   "metadata": {},
   "outputs": [],
   "source": [
    "def merge_2_arrays(nums1,m,nums2,n):\n",
    "    p1 = m - 1\n",
    "    p2 = n - 1\n",
    "\n",
    "    for i in range(m + n - 1, -1, -1):\n",
    "        if p1 >= 0 and p2 >= 0:\n",
    "            if nums1[p1] > nums2[p2]:\n",
    "                nums1[i] = nums1[p1]\n",
    "                p1 -= 1\n",
    "            else:\n",
    "                nums1[i] = nums2[p2]\n",
    "                p2 -= 1\n",
    "        elif p2 >= 0:\n",
    "            nums1[i] = nums2[p2]\n",
    "            p2 -= 1\n",
    "        else:\n",
    "            break;\n",
    "    return nums1"
   ]
  },
  {
   "cell_type": "code",
   "execution_count": 17,
   "id": "68f89199",
   "metadata": {},
   "outputs": [
    {
     "data": {
      "text/plain": [
       "[1, 2, 2, 3, 5, 6]"
      ]
     },
     "execution_count": 17,
     "metadata": {},
     "output_type": "execute_result"
    }
   ],
   "source": [
    "nums1 = [1,2,3,0,0,0]\n",
    "m = 3\n",
    "nums2 = [2,5,6]\n",
    "n = 3\n",
    "merge_2_arrays(nums1,m,nums2,n)"
   ]
  },
  {
   "cell_type": "markdown",
   "id": "6d914953",
   "metadata": {},
   "source": [
    "💡 **Q6.** Given an integer array nums, return true if any value appears at least twice in the array, and return false if every element is distinct.\n",
    "\n",
    "**Example 1:**\n",
    "Input: nums = [1,2,3,1]\n",
    "\n",
    "Output: true"
   ]
  },
  {
   "cell_type": "code",
   "execution_count": 18,
   "id": "3d089081",
   "metadata": {},
   "outputs": [],
   "source": [
    "def find_duplicates(arr):\n",
    "    l = len(arr)\n",
    "    d = dict()\n",
    "    for i in range(l):\n",
    "        if arr[i] in d.keys():\n",
    "            d[arr[i]]+=1\n",
    "            return True\n",
    "        else:\n",
    "            d[arr[i]] = 1\n",
    "    return False"
   ]
  },
  {
   "cell_type": "code",
   "execution_count": 19,
   "id": "1a34ec8e",
   "metadata": {},
   "outputs": [
    {
     "data": {
      "text/plain": [
       "True"
      ]
     },
     "execution_count": 19,
     "metadata": {},
     "output_type": "execute_result"
    }
   ],
   "source": [
    "nums = [1,2,3,1]\n",
    "find_duplicates(nums)"
   ]
  },
  {
   "cell_type": "code",
   "execution_count": 20,
   "id": "5ac1722d",
   "metadata": {},
   "outputs": [
    {
     "data": {
      "text/plain": [
       "False"
      ]
     },
     "execution_count": 20,
     "metadata": {},
     "output_type": "execute_result"
    }
   ],
   "source": [
    "nums = [1,2,3,4]\n",
    "find_duplicates(nums)"
   ]
  },
  {
   "cell_type": "code",
   "execution_count": 21,
   "id": "2b084619",
   "metadata": {},
   "outputs": [
    {
     "data": {
      "text/plain": [
       "True"
      ]
     },
     "execution_count": 21,
     "metadata": {},
     "output_type": "execute_result"
    }
   ],
   "source": [
    "nums = [1,2,2,2]\n",
    "find_duplicates(nums)"
   ]
  },
  {
   "cell_type": "code",
   "execution_count": 22,
   "id": "886becd3",
   "metadata": {},
   "outputs": [
    {
     "data": {
      "text/plain": [
       "True"
      ]
     },
     "execution_count": 22,
     "metadata": {},
     "output_type": "execute_result"
    }
   ],
   "source": [
    "nums = [4,2,2,2,4,5]\n",
    "find_duplicates(nums)"
   ]
  },
  {
   "cell_type": "markdown",
   "id": "b1a5da46",
   "metadata": {},
   "source": [
    "\n",
    "💡 **Q7.** Given an integer array nums, move all 0's to the end of it while maintaining the relative order of the nonzero elements.\n",
    "\n",
    "Note that you must do this in-place without making a copy of the array.\n",
    "\n",
    "**Example 1:**\n",
    "Input: nums = [0,1,0,3,12]\n",
    "Output: [1,3,12,0,0]"
   ]
  },
  {
   "cell_type": "code",
   "execution_count": 23,
   "id": "769a0e0b",
   "metadata": {},
   "outputs": [],
   "source": [
    "def move_zero(nums):\n",
    "    count = 0\n",
    "    for i in range(len(nums)):\n",
    "        if nums[i] != 0:\n",
    "            nums[i], nums[count] = nums[count], nums[i]\n",
    "            count += 1\n",
    "    return nums"
   ]
  },
  {
   "cell_type": "code",
   "execution_count": 24,
   "id": "7b40bcfb",
   "metadata": {},
   "outputs": [
    {
     "data": {
      "text/plain": [
       "[1, 3, 12, 0, 0]"
      ]
     },
     "execution_count": 24,
     "metadata": {},
     "output_type": "execute_result"
    }
   ],
   "source": [
    "nums = [0,1,0,3,12]\n",
    "move_zero(nums)"
   ]
  },
  {
   "cell_type": "code",
   "execution_count": 25,
   "id": "e984c323",
   "metadata": {},
   "outputs": [
    {
     "data": {
      "text/plain": [
       "[1, 3, 4, 6, 8, 12, 0, 0, 0, 0, 0]"
      ]
     },
     "execution_count": 25,
     "metadata": {},
     "output_type": "execute_result"
    }
   ],
   "source": [
    "nums = [0,1,0,3,4,0,6,0,8,0,12]\n",
    "move_zero(nums)"
   ]
  },
  {
   "cell_type": "markdown",
   "id": "86183f85",
   "metadata": {},
   "source": [
    "\n",
    "💡 **Q8.** You have a set of integers s, which originally contains all the numbers from 1 to n. Unfortunately, due to some error, one of the numbers in s got duplicated to another number in the set, which results in repetition of one number and loss of another number.\n",
    "\n",
    "You are given an integer array nums representing the data status of this set after the error.\n",
    "\n",
    "Find the number that occurs twice and the number that is missing and return them in the form of an array.\n",
    "\n",
    "**Example 1:**\n",
    "Input: nums = [1,2,2,4]\n",
    "Output: [2,3]\n"
   ]
  },
  {
   "cell_type": "code",
   "execution_count": 28,
   "id": "fa8cedae",
   "metadata": {},
   "outputs": [],
   "source": [
    "def find_duplicate_and_missing(nums):\n",
    "    s = set()\n",
    "    duplicate = 0\n",
    "    missing = 0\n",
    "    n = len(nums)\n",
    "    for i in nums:\n",
    "        if i in s:\n",
    "            duplicate = i\n",
    "        else:\n",
    "            s.add(i)\n",
    "    sum_original = n * (n+1)/2\n",
    "    sum_nums = sum(nums)\n",
    "    missing = int(sum_original - sum(nums)+duplicate)\n",
    "    return [duplicate,missing]"
   ]
  },
  {
   "cell_type": "code",
   "execution_count": 29,
   "id": "466714a3",
   "metadata": {},
   "outputs": [
    {
     "data": {
      "text/plain": [
       "[2, 3]"
      ]
     },
     "execution_count": 29,
     "metadata": {},
     "output_type": "execute_result"
    }
   ],
   "source": [
    "nums = [1,2,2,4]\n",
    "find_duplicate_and_missing(nums)"
   ]
  },
  {
   "cell_type": "code",
   "execution_count": 31,
   "id": "802ff612",
   "metadata": {},
   "outputs": [
    {
     "data": {
      "text/plain": [
       "[5, 6]"
      ]
     },
     "execution_count": 31,
     "metadata": {},
     "output_type": "execute_result"
    }
   ],
   "source": [
    "nums = [1,2,3,4,5,5,7]\n",
    "find_duplicate_and_missing(nums)"
   ]
  },
  {
   "cell_type": "code",
   "execution_count": null,
   "id": "3ca8ab52",
   "metadata": {},
   "outputs": [],
   "source": []
  }
 ],
 "metadata": {
  "kernelspec": {
   "display_name": "Python 3 (ipykernel)",
   "language": "python",
   "name": "python3"
  },
  "language_info": {
   "codemirror_mode": {
    "name": "ipython",
    "version": 3
   },
   "file_extension": ".py",
   "mimetype": "text/x-python",
   "name": "python",
   "nbconvert_exporter": "python",
   "pygments_lexer": "ipython3",
   "version": "3.9.12"
  }
 },
 "nbformat": 4,
 "nbformat_minor": 5
}
