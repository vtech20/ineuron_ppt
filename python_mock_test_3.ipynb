{
 "cells": [
  {
   "cell_type": "markdown",
   "id": "6fdb0ccd",
   "metadata": {},
   "source": [
    "**Implement a stack using a list in Python. Include the necessary methods such as push, pop, and isEmpty.**"
   ]
  },
  {
   "cell_type": "code",
   "execution_count": 17,
   "id": "b6dd41ff",
   "metadata": {},
   "outputs": [],
   "source": [
    "class stack:\n",
    "    \n",
    "    def __init__(self,stck):\n",
    "        self.stck = stck\n",
    "        \n",
    "    def isEmpty(self):\n",
    "        if self.stck ==[]:\n",
    "            return True\n",
    "        else:\n",
    "            return False\n",
    "    \n",
    "    def push(self,item):\n",
    "        self.stck.append(item)\n",
    "        top=len(self.stck)-1\n",
    "    \n",
    "    def pop(self):\n",
    "        if stack.isEmpty(self):\n",
    "            print(\"Stack is already empty\")\n",
    "        else:\n",
    "            item=self.stck.pop()\n",
    "            if len(self.stck)==0:\n",
    "                top=None\n",
    "            else:\n",
    "                top=len(self.stck)\n",
    "                print(\"Popped item is \"+str(item))\n",
    "    \n",
    "    def display(self):\n",
    "        if stack.isEmpty(self):\n",
    "            print(\"Stack is empty\")\n",
    "        else:\n",
    "            top=len(self.stck)-1\n",
    "            print(\"Elements in the stack are: \")\n",
    "            for i in range(top,-1,-1):\n",
    "                print (str(self.stck[i]))"
   ]
  },
  {
   "cell_type": "code",
   "execution_count": 18,
   "id": "7cd29896",
   "metadata": {},
   "outputs": [],
   "source": [
    "stck = []\n",
    "s = stack(stck)"
   ]
  },
  {
   "cell_type": "code",
   "execution_count": 19,
   "id": "c03c9049",
   "metadata": {},
   "outputs": [],
   "source": [
    "top=None"
   ]
  },
  {
   "cell_type": "code",
   "execution_count": 20,
   "id": "6f320ee8",
   "metadata": {},
   "outputs": [
    {
     "name": "stdout",
     "output_type": "stream",
     "text": [
      "Popped item is 4\n",
      "Elements in the stack are: \n",
      "3\n",
      "2\n",
      "1\n"
     ]
    }
   ],
   "source": [
    "s.push(1)\n",
    "s.push(2)\n",
    "s.push(3)\n",
    "s.push(4)\n",
    "s.pop()\n",
    "s.display()"
   ]
  },
  {
   "cell_type": "markdown",
   "id": "228dbdf9",
   "metadata": {},
   "source": [
    "**Implement a queue using a list in Python. Include the necessary methods such as enqueue, dequeue, and isEmpty**"
   ]
  },
  {
   "cell_type": "code",
   "execution_count": 22,
   "id": "42c49646",
   "metadata": {},
   "outputs": [],
   "source": [
    "class queue:\n",
    "    \n",
    "    def __init__(self,que):\n",
    "        self.que = que\n",
    "        \n",
    "    def isEmpty(self):\n",
    "        if self.que ==[]:\n",
    "            return True\n",
    "        else:\n",
    "            return False\n",
    "    \n",
    "    def enqueue(self,item):\n",
    "        self.que.insert(0,item)\n",
    "    \n",
    "    def dequeue(self):\n",
    "        if queue.isEmpty(self):\n",
    "            print(\"queue is already empty\")\n",
    "        else:\n",
    "            return self.que.pop()\n",
    "\n",
    "    \n",
    "    def display(self):\n",
    "        if queue.isEmpty(self):\n",
    "            print(\"queue is empty\")\n",
    "        else:\n",
    "            top=len(self.que)-1\n",
    "            print(\"Elements in the queue are: \")\n",
    "            for i in range(0,top):\n",
    "                print (str(self.que[i]))"
   ]
  },
  {
   "cell_type": "code",
   "execution_count": 23,
   "id": "06e2cb71",
   "metadata": {},
   "outputs": [
    {
     "name": "stdout",
     "output_type": "stream",
     "text": [
      "Popped Element is: 5\n",
      "Elements in the queue are: \n",
      "3\n",
      "5\n",
      "9\n"
     ]
    }
   ],
   "source": [
    "que=[]\n",
    "q = queue(que)\n",
    "q.enqueue(5)\n",
    "q.enqueue(6)\n",
    "q.enqueue(9)\n",
    "q.enqueue(5)\n",
    "q.enqueue(3)\n",
    "print(\"Popped Element is: \"+str(q.dequeue()))\n",
    "q.display()"
   ]
  },
  {
   "cell_type": "code",
   "execution_count": null,
   "id": "635c79ab",
   "metadata": {},
   "outputs": [],
   "source": []
  }
 ],
 "metadata": {
  "kernelspec": {
   "display_name": "Python 3 (ipykernel)",
   "language": "python",
   "name": "python3"
  },
  "language_info": {
   "codemirror_mode": {
    "name": "ipython",
    "version": 3
   },
   "file_extension": ".py",
   "mimetype": "text/x-python",
   "name": "python",
   "nbconvert_exporter": "python",
   "pygments_lexer": "ipython3",
   "version": "3.9.12"
  }
 },
 "nbformat": 4,
 "nbformat_minor": 5
}
