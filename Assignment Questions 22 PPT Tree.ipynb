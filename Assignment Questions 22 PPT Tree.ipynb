{
 "cells": [
  {
   "cell_type": "markdown",
   "id": "fc0434b8",
   "metadata": {},
   "source": [
    "<aside>\n",
    "💡 Question-1:\n",
    "\n",
    "Given a Binary Tree (Bt), convert it to a Doubly Linked List(DLL). The left and right pointers in nodes are to be used as previous and next pointers respectively in converted DLL. The order of nodes in DLL must be the same as in Inorder for the given Binary Tree. The first node of Inorder traversal (leftmost node in BT) must be the head node of the DLL.\n",
    "\n",
    "Example:\n",
    "\n",
    "</aside>"
   ]
  },
  {
   "cell_type": "code",
   "execution_count": 8,
   "id": "3557ffbf",
   "metadata": {},
   "outputs": [
    {
     "name": "stdout",
     "output_type": "stream",
     "text": [
      "4 5 "
     ]
    }
   ],
   "source": [
    "class Node:\n",
    "    def __init__(self, data):\n",
    "        self.data = data\n",
    "        self.left = None\n",
    "        self.right = None\n",
    "\n",
    "def convert_bt_to_dll(root):\n",
    "    if root is None:\n",
    "        return None\n",
    "    \n",
    "    prev = None\n",
    "    \n",
    "    if root.left:\n",
    "        left_head = convert_bt_to_dll(root.left)\n",
    "        prev = left_head\n",
    "        while prev.right:\n",
    "            prev = prev.right\n",
    "        root.left = prev\n",
    "        prev.right = root\n",
    "    \n",
    "    if root.right:\n",
    "        right_head = convert_bt_to_dll(root.right)\n",
    "        root.right = right_head\n",
    "        right_head.left = root\n",
    "    \n",
    "    return root\n",
    "\n",
    "\n",
    "root = Node(4)\n",
    "root.left = Node(2)\n",
    "root.right = Node(5)\n",
    "root.left.left = Node(1)\n",
    "root.left.right = Node(3)\n",
    "\n",
    "dll_head = convert_bt_to_dll(root)\n",
    "\n",
    "\n",
    "current = dll_head\n",
    "while current:\n",
    "    print(current.data, end=\" \")\n",
    "    current = current.right"
   ]
  },
  {
   "cell_type": "markdown",
   "id": "9259e611",
   "metadata": {},
   "source": [
    "<aside>\n",
    "💡 Question-2\n",
    "\n",
    "A Given a binary tree, the task is to flip the binary tree towards the right direction that is clockwise. See the below examples to see the transformation.\n",
    "\n",
    "In the flip operation, the leftmost node becomes the root of the flipped tree and its parent becomes its right child and the right sibling becomes its left child and the same should be done for all left most nodes recursively.\n",
    "\n",
    "</aside>"
   ]
  },
  {
   "cell_type": "code",
   "execution_count": 14,
   "id": "8b7012fd",
   "metadata": {},
   "outputs": [],
   "source": [
    "class Node:\n",
    "    def __init__(self, data):\n",
    "        self.data = data\n",
    "        self.left = None\n",
    "        self.right = None\n",
    "\n",
    "def flip_binary_tree(root):\n",
    "    if root is None:\n",
    "        return None\n",
    "    \n",
    "    if root.left is None and root.right is None:\n",
    "        return root\n",
    "    \n",
    "    flipped_root = flip_binary_tree(root.left)\n",
    "    \n",
    "    root.left.left = root.right\n",
    "    root.left.right = root\n",
    "    root.left = None\n",
    "    root.right = None\n",
    "    \n",
    "    return flipped_root\n"
   ]
  },
  {
   "cell_type": "code",
   "execution_count": 16,
   "id": "46fd1bac",
   "metadata": {},
   "outputs": [
    {
     "name": "stdout",
     "output_type": "stream",
     "text": [
      "5 4 3 2 1 "
     ]
    }
   ],
   "source": [
    "root = Node(1)\n",
    "root.left = Node(2)\n",
    "root.right = Node(3)\n",
    "root.left.left = Node(4)\n",
    "root.left.right = Node(5)\n",
    "\n",
    "flipped_tree = flip_binary_tree(root)\n",
    "\n",
    "\n",
    "def print_tree_inorder(node):\n",
    "    if node is None:\n",
    "        return\n",
    "    \n",
    "    print_tree_inorder(node.left)\n",
    "    print(node.data, end=\" \")\n",
    "    print_tree_inorder(node.right)\n",
    "\n",
    "print_tree_inorder(flipped_tree)"
   ]
  },
  {
   "cell_type": "markdown",
   "id": "b2d99715",
   "metadata": {},
   "source": [
    "<aside>\n",
    "💡 Question-3:\n",
    "\n",
    "Given a binary tree, print all its root-to-leaf paths without using recursion. For example, consider the following Binary Tree.\n",
    "\n",
    "Input:\n",
    "\n",
    "        6\n",
    "     /    \\\n",
    "    3      5\n",
    "  /   \\     \\\n",
    " 2     5     4\n",
    "     /   \\\n",
    "    7     4\n",
    "\n",
    "Output:\n",
    "\n",
    "There are 4 leaves, hence 4 root to leaf paths -\n",
    "  6->3->2\n",
    "  6->3->5->7\n",
    "  6->3->5->4\n",
    "  6->5>4\n",
    "\n",
    "</aside>"
   ]
  },
  {
   "cell_type": "code",
   "execution_count": 19,
   "id": "39db5925",
   "metadata": {},
   "outputs": [],
   "source": [
    "class Node:\n",
    "    def __init__(self, data):\n",
    "        self.data = data\n",
    "        self.left = None\n",
    "        self.right = None\n",
    "\n",
    "def print_paths(root):\n",
    "    if root is None:\n",
    "        return\n",
    "    \n",
    "    stack = [(root, str(root.data))]  \n",
    "    \n",
    "    while stack:\n",
    "        node, path = stack.pop()\n",
    "        \n",
    "        if node.left is None and node.right is None:\n",
    "            print(path)\n",
    "        \n",
    "        if node.left:\n",
    "            stack.append((node.left, path + \"->\" + str(node.left.data)))\n",
    "        \n",
    "        if node.right:\n",
    "            stack.append((node.right, path + \"->\" + str(node.right.data)))\n"
   ]
  },
  {
   "cell_type": "code",
   "execution_count": 20,
   "id": "92fa8df8",
   "metadata": {},
   "outputs": [
    {
     "name": "stdout",
     "output_type": "stream",
     "text": [
      "Root-to-leaf paths:\n",
      "6->5->4\n",
      "6->3->5->4\n",
      "6->3->5->7\n",
      "6->3->2\n"
     ]
    }
   ],
   "source": [
    "root = Node(6)\n",
    "root.left = Node(3)\n",
    "root.right = Node(5)\n",
    "root.left.left = Node(2)\n",
    "root.left.right = Node(5)\n",
    "root.right.right = Node(4)\n",
    "root.left.right.left = Node(7)\n",
    "root.left.right.right = Node(4)\n",
    "\n",
    "print(\"Root-to-leaf paths:\")\n",
    "print_paths(root)"
   ]
  },
  {
   "cell_type": "markdown",
   "id": "7e22cc63",
   "metadata": {},
   "source": [
    "<aside>\n",
    "💡 Question-4:\n",
    "\n",
    "Given Preorder, Inorder and Postorder traversals of some tree. Write a program to check if they all are of the same tree.\n",
    "\n",
    "**Examples:**\n",
    "\n",
    "Input : \n",
    "\n",
    "        Inorder -> 4 2 5 1 3\n",
    "        Preorder -> 1 2 4 5 3\n",
    "        Postorder -> 4 5 2 3 1\n",
    "Output : \n",
    "\n",
    "Yes\n",
    "Explanation : \n",
    "\n",
    "All of the above three traversals are of\n",
    "the same tree \n",
    "\n",
    "                           1\n",
    "                         /   \\\n",
    "                        2     3\n",
    "                      /   \\\n",
    "                     4     5\n",
    "\n",
    "Input : \n",
    "\n",
    "        Inorder -> 4 2 5 1 3\n",
    "        Preorder -> 1 5 4 2 3\n",
    "        Postorder -> 4 1 2 3 5\n",
    "Output : \n",
    "\n",
    "No\n",
    "\n",
    "</aside>"
   ]
  },
  {
   "cell_type": "code",
   "execution_count": 22,
   "id": "fe3fb73b",
   "metadata": {},
   "outputs": [],
   "source": [
    "def check_same_tree(inorder, preorder, postorder):\n",
    "    if len(inorder) != len(preorder) or len(inorder) != len(postorder):\n",
    "        return False\n",
    "    \n",
    "    if len(inorder) == 0:\n",
    "        return True\n",
    "    \n",
    "    if inorder[0] != postorder[-1]:\n",
    "        return False\n",
    "    \n",
    "    root_val = inorder[0]\n",
    "    root_index = preorder.index(root_val)\n",
    "    \n",
    "    left_inorder = inorder[1:root_index+1]\n",
    "    right_inorder = inorder[root_index+1:]\n",
    "    \n",
    "    left_preorder = preorder[1:root_index+1]\n",
    "    right_preorder = preorder[root_index+1:]\n",
    "    \n",
    "    left_postorder = postorder[:root_index]\n",
    "    right_postorder = postorder[root_index:-1]\n",
    "    \n",
    "    return check_same_tree(left_inorder, left_preorder, left_postorder) and \\\n",
    "           check_same_tree(right_inorder, right_preorder, right_postorder)\n"
   ]
  },
  {
   "cell_type": "code",
   "execution_count": 23,
   "id": "5dd2d9d1",
   "metadata": {},
   "outputs": [
    {
     "name": "stdout",
     "output_type": "stream",
     "text": [
      "No\n"
     ]
    }
   ],
   "source": [
    "inorder = [4, 2, 5, 1, 3]\n",
    "preorder = [1, 2, 4, 5, 3]\n",
    "postorder = [4, 5, 2, 3, 1]\n",
    "\n",
    "if check_same_tree(inorder, preorder, postorder):\n",
    "    print(\"Yes\")\n",
    "else:\n",
    "    print(\"No\")"
   ]
  },
  {
   "cell_type": "code",
   "execution_count": null,
   "id": "a5dee6da",
   "metadata": {},
   "outputs": [],
   "source": []
  }
 ],
 "metadata": {
  "kernelspec": {
   "display_name": "Python 3 (ipykernel)",
   "language": "python",
   "name": "python3"
  },
  "language_info": {
   "codemirror_mode": {
    "name": "ipython",
    "version": 3
   },
   "file_extension": ".py",
   "mimetype": "text/x-python",
   "name": "python",
   "nbconvert_exporter": "python",
   "pygments_lexer": "ipython3",
   "version": "3.9.12"
  }
 },
 "nbformat": 4,
 "nbformat_minor": 5
}
