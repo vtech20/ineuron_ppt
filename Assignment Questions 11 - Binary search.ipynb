{
 "cells": [
  {
   "cell_type": "markdown",
   "id": "ff0131c9",
   "metadata": {},
   "source": [
    "<aside>\n",
    "💡 **Question 1**\n",
    "\n",
    "Given a non-negative integer `x`, return *the square root of* `x` *rounded down to the nearest integer*. The returned integer should be **non-negative** as well.\n",
    "\n",
    "You **must not use** any built-in exponent function or operator.\n",
    "\n",
    "- For example, do not use `pow(x, 0.5)` in c++ or `x ** 0.5` in python.\n",
    "</aside>\n",
    "\n",
    "Input: x = 4\n",
    "Output: 2\n",
    "Explanation: The square root of 4 is 2, so we return 2.\n",
    "\n",
    "\n",
    "Input: x = 8\n",
    "Output: 2\n",
    "Explanation: The square root of 8 is 2.82842..., and since we round it down to the nearest integer, 2 is returned."
   ]
  },
  {
   "cell_type": "code",
   "execution_count": 86,
   "id": "584916e4",
   "metadata": {},
   "outputs": [],
   "source": [
    "def squareroot(number):\n",
    "    start = 0\n",
    "    end,ans = number,1\n",
    "    \n",
    "    while start<=end:\n",
    "        mid = (start + end)//2\n",
    "        if (mid * mid == number):\n",
    "            ans = mid\n",
    "            break\n",
    "        elif (mid * mid < number):\n",
    "            start = mid + 1\n",
    "            ans = mid\n",
    "        else:\n",
    "            end = mid - 1\n",
    "    return ans"
   ]
  },
  {
   "cell_type": "code",
   "execution_count": 87,
   "id": "89bf5b30",
   "metadata": {},
   "outputs": [
    {
     "data": {
      "text/plain": [
       "2"
      ]
     },
     "execution_count": 87,
     "metadata": {},
     "output_type": "execute_result"
    }
   ],
   "source": [
    "squareroot(4)"
   ]
  },
  {
   "cell_type": "code",
   "execution_count": 88,
   "id": "51d22b15",
   "metadata": {},
   "outputs": [
    {
     "data": {
      "text/plain": [
       "2"
      ]
     },
     "execution_count": 88,
     "metadata": {},
     "output_type": "execute_result"
    }
   ],
   "source": [
    "squareroot(8)"
   ]
  },
  {
   "cell_type": "markdown",
   "id": "645adf5c",
   "metadata": {},
   "source": [
    "<aside>\n",
    "💡 **Question 2**\n",
    "\n",
    "A peak element is an element that is strictly greater than its neighbors.\n",
    "\n",
    "Given a **0-indexed** integer array `nums`, find a peak element, and return its index. If the array contains multiple peaks, return the index to **any of the peaks**.\n",
    "\n",
    "You may imagine that `nums[-1] = nums[n] = -∞`. In other words, an element is always considered to be strictly greater than a neighbor that is outside the array.\n",
    "\n",
    "You must write an algorithm that runs in `O(log n)` time.\n",
    "\n",
    "</aside>\n",
    "\n",
    "Input: nums = [1,2,3,1]\n",
    "\n",
    "Output: 2\n",
    "\n",
    "Explanation: 3 is a peak element and your function should return the index number 2.\n",
    "\n",
    "\n",
    "Input: nums = [1,2,1,3,5,6,4]\n",
    "\n",
    "Output: 5\n",
    "\n",
    "Explanation: Your function can return either index number 1 where the peak element is 2, or index number 5 where the peak element is 6.\n"
   ]
  },
  {
   "cell_type": "code",
   "execution_count": 4,
   "id": "50afebf4",
   "metadata": {},
   "outputs": [],
   "source": [
    "def find_peak_index(arr):\n",
    "    start = 0\n",
    "    end = len(arr)-1\n",
    "    n = len(arr)\n",
    "    while start <= end:\n",
    "        mid = (start + end)//2\n",
    "        if((mid == 0 or arr[mid - 1] <= arr[mid]) and (mid == n - 1 or arr[mid + 1] <= arr[mid])):\n",
    "            break\n",
    "        elif mid > 0 and arr[mid - 1] > arr[mid]:\n",
    "            end = mid - 1\n",
    "        else:\n",
    "            start = mid +1\n",
    "    return mid"
   ]
  },
  {
   "cell_type": "code",
   "execution_count": 5,
   "id": "8741753e",
   "metadata": {},
   "outputs": [
    {
     "data": {
      "text/plain": [
       "2"
      ]
     },
     "execution_count": 5,
     "metadata": {},
     "output_type": "execute_result"
    }
   ],
   "source": [
    "nums = [1,2,3,1]\n",
    "find_peak_index(nums)"
   ]
  },
  {
   "cell_type": "code",
   "execution_count": 6,
   "id": "9ac73b34",
   "metadata": {},
   "outputs": [
    {
     "data": {
      "text/plain": [
       "5"
      ]
     },
     "execution_count": 6,
     "metadata": {},
     "output_type": "execute_result"
    }
   ],
   "source": [
    "nums = [1,2,1,3,5,6,4]\n",
    "find_peak_index(nums)"
   ]
  },
  {
   "cell_type": "markdown",
   "id": "14ae1603",
   "metadata": {},
   "source": [
    "<aside>\n",
    "💡 **Question 3**\n",
    "\n",
    "****\n",
    "\n",
    "Given an array `nums` containing `n` distinct numbers in the range `[0, n]`, return *the only number in the range that is missing from the array.*\n",
    "\n",
    "**Example 1:**\n",
    "\n",
    "```\n",
    "Input: nums = [3,0,1]\n",
    "Output: 2\n",
    "Explanation: n = 3 since there are 3 numbers, so all numbers are in the range [0,3]. 2 is the missing number in the range since it does not appear in nums.\n",
    "\n",
    "```\n",
    "\n",
    "**Example 2:**\n",
    "\n",
    "```\n",
    "Input: nums = [0,1]\n",
    "Output: 2\n",
    "Explanation: n = 2 since there are 2 numbers, so all numbers are in the range [0,2]. 2 is the missing number in the range since it does not appear in nums.\n",
    "\n",
    "```\n",
    "\n",
    "**Example 3:**\n",
    "    \n",
    "Input: nums = [9,6,4,2,3,5,7,0,1]\n",
    "    \n",
    "Output: 8\n",
    "    \n",
    "Explanation: n = 9 since there are 9 numbers, so all numbers are in the range [0,9]. 8 is the missing number in the range since it does not appear in nums.\n",
    "\n",
    "</aside>"
   ]
  },
  {
   "cell_type": "code",
   "execution_count": 20,
   "id": "b4e1348a",
   "metadata": {},
   "outputs": [],
   "source": [
    "def search(ar, size):\n",
    "    ar.sort()\n",
    "    a = 0\n",
    "    b = size - 1\n",
    "    mid = 0\n",
    "    while b > a + 1:\n",
    "        mid = (a + b) // 2\n",
    "        if (ar[a] - a) != (ar[mid] - mid):\n",
    "            b = mid\n",
    "        elif (ar[b] - b) != (ar[mid] - mid):\n",
    "            a = mid\n",
    "    return ar[a] + 1"
   ]
  },
  {
   "cell_type": "code",
   "execution_count": 21,
   "id": "895a6d57",
   "metadata": {},
   "outputs": [
    {
     "data": {
      "text/plain": [
       "8"
      ]
     },
     "execution_count": 21,
     "metadata": {},
     "output_type": "execute_result"
    }
   ],
   "source": [
    "nums = [9,6,4,2,3,5,7,0,1]\n",
    "n = len(nums)\n",
    "search(nums,n)"
   ]
  },
  {
   "cell_type": "code",
   "execution_count": 22,
   "id": "19470843",
   "metadata": {},
   "outputs": [
    {
     "data": {
      "text/plain": [
       "2"
      ]
     },
     "execution_count": 22,
     "metadata": {},
     "output_type": "execute_result"
    }
   ],
   "source": [
    "nums = [3,0,1]\n",
    "n = len(nums)\n",
    "search(nums,n)"
   ]
  },
  {
   "cell_type": "markdown",
   "id": "0b276ba0",
   "metadata": {},
   "source": [
    "<aside>\n",
    "💡 **Question 4**\n",
    "\n",
    "Given an array of integers `nums` containing `n + 1` integers where each integer is in the range `[1, n]` inclusive.\n",
    "\n",
    "There is only **one repeated number** in `nums`, return *this repeated number*.\n",
    "\n",
    "You must solve the problem **without** modifying the array `nums` and uses only constant extra space.\n",
    "\n",
    "**Example 1:**\n",
    "\n",
    "```\n",
    "Input: nums = [1,3,4,2,2]\n",
    "Output: 2\n",
    "\n",
    "```\n",
    "\n",
    "**Example 2:**\n",
    "\n",
    "Input: nums = [3,1,3,4,2]\n",
    "Output: 3\n",
    "    \n",
    "</aside>"
   ]
  },
  {
   "cell_type": "code",
   "execution_count": 58,
   "id": "fcb0a6c7",
   "metadata": {},
   "outputs": [],
   "source": [
    "def findduplicate(nums):\n",
    "    nums.sort()\n",
    "    left = 0\n",
    "    right = len(nums)-1\n",
    "    while left < right:\n",
    "        mid = (left + right)//2\n",
    "        if nums[mid] < (mid+1):\n",
    "            right = mid\n",
    "        else:\n",
    "            left = mid + 1\n",
    "    return nums[left]"
   ]
  },
  {
   "cell_type": "code",
   "execution_count": 59,
   "id": "ca66a47f",
   "metadata": {},
   "outputs": [
    {
     "data": {
      "text/plain": [
       "3"
      ]
     },
     "execution_count": 59,
     "metadata": {},
     "output_type": "execute_result"
    }
   ],
   "source": [
    "nums = [3,1,3,4,2]\n",
    "findduplicate(nums)"
   ]
  },
  {
   "cell_type": "code",
   "execution_count": 60,
   "id": "57225d8d",
   "metadata": {},
   "outputs": [
    {
     "data": {
      "text/plain": [
       "2"
      ]
     },
     "execution_count": 60,
     "metadata": {},
     "output_type": "execute_result"
    }
   ],
   "source": [
    "nums = [1,3,4,2,2]\n",
    "findduplicate(nums)"
   ]
  },
  {
   "cell_type": "markdown",
   "id": "f8a3de5c",
   "metadata": {},
   "source": [
    "<aside>\n",
    "💡 **Question 5**\n",
    "\n",
    "Given two integer arrays `nums1` and `nums2`, return *an array of their intersection*. Each element in the result must be **unique** and you may return the result in **any order**.\n",
    "\n",
    "**Example 1:**\n",
    "\n",
    "```\n",
    "Input: nums1 = [1,2,2,1], nums2 = [2,2]\n",
    "Output: [2]\n",
    "\n",
    "```\n",
    "\n",
    "**Example 2:**\n",
    "    \n",
    "Input: nums1 = [4,9,5], nums2 = [9,4,9,8,4]\n",
    "Output: [9,4]\n",
    "Explanation: [4,9] is also accepted.\n",
    "\n",
    "</aside>"
   ]
  },
  {
   "cell_type": "code",
   "execution_count": 61,
   "id": "7bcff81e",
   "metadata": {},
   "outputs": [],
   "source": [
    "def binary_search(arr2,n,target):\n",
    "    l,r = 0, n\n",
    "    while l <=r:\n",
    "        mid = l + (r - l)//2\n",
    "        if arr2[mid] == target:\n",
    "            return mid\n",
    "        elif arr2[mid] > target:\n",
    "            r = mid - 1\n",
    "        else:\n",
    "            l = mid + 1\n",
    "    return -1"
   ]
  },
  {
   "cell_type": "code",
   "execution_count": 62,
   "id": "36a3c14a",
   "metadata": {},
   "outputs": [],
   "source": [
    "def intersection(arr1,arr2,m,n):\n",
    "    intersection = []\n",
    "    arr2.sort()\n",
    "    for i in range(m):\n",
    "        if binary_search(arr2,n,arr1[i]) != -1:\n",
    "            intersection.append(arr1[i])\n",
    "    return list(set(intersection))"
   ]
  },
  {
   "cell_type": "code",
   "execution_count": 63,
   "id": "98b15955",
   "metadata": {},
   "outputs": [
    {
     "data": {
      "text/plain": [
       "[2]"
      ]
     },
     "execution_count": 63,
     "metadata": {},
     "output_type": "execute_result"
    }
   ],
   "source": [
    "nums1 = [1,2,2,1]\n",
    "nums2 = [2,2]\n",
    "m = len(nums1)\n",
    "n = len(nums2)\n",
    "intersection(nums1,nums2,m,n)"
   ]
  },
  {
   "cell_type": "code",
   "execution_count": 64,
   "id": "6f42bd86",
   "metadata": {},
   "outputs": [
    {
     "data": {
      "text/plain": [
       "[9, 4]"
      ]
     },
     "execution_count": 64,
     "metadata": {},
     "output_type": "execute_result"
    }
   ],
   "source": [
    "nums1 = [4,9,5]\n",
    "nums2 = [9,4,9,8,4]\n",
    "m = len(nums1)\n",
    "n = len(nums2)\n",
    "intersection(nums1,nums2,m,n)"
   ]
  },
  {
   "cell_type": "markdown",
   "id": "ae84e41e",
   "metadata": {},
   "source": [
    "<aside>\n",
    "💡 **Question 6**\n",
    "\n",
    "Suppose an array of length `n` sorted in ascending order is **rotated** between `1` and `n` times. For example, the array `nums = [0,1,2,4,5,6,7]` might become:\n",
    "\n",
    "- `[4,5,6,7,0,1,2]` if it was rotated `4` times.\n",
    "- `[0,1,2,4,5,6,7]` if it was rotated `7` times.\n",
    "\n",
    "Notice that **rotating** an array `[a[0], a[1], a[2], ..., a[n-1]]` 1 time results in the array `[a[n-1], a[0], a[1], a[2], ..., a[n-2]]`.\n",
    "\n",
    "Given the sorted rotated array `nums` of **unique** elements, return *the minimum element of this array*.\n",
    "\n",
    "You must write an algorithm that runs in `O(log n) time.`\n",
    "\n",
    "**Example 1:**\n",
    "\n",
    "```\n",
    "Input: nums = [3,4,5,1,2]\n",
    "Output: 1\n",
    "Explanation: The original array was [1,2,3,4,5] rotated 3 times.\n",
    "\n",
    "```\n",
    "\n",
    "**Example 2:**\n",
    "\n",
    "```\n",
    "Input: nums = [4,5,6,7,0,1,2]\n",
    "Output: 0\n",
    "Explanation: The original array was [0,1,2,4,5,6,7] and it was rotated 4 times.\n",
    "\n",
    "```\n",
    "\n",
    "**Example 3:**\n",
    "\n",
    "</aside>"
   ]
  },
  {
   "cell_type": "code",
   "execution_count": 68,
   "id": "dac300d5",
   "metadata": {},
   "outputs": [],
   "source": [
    "def minimum_element_rotated(nums):\n",
    "    l,r = 0, n-1\n",
    "    while l <= r:\n",
    "        if nums[l] < nums[r]:\n",
    "            return nums[l]\n",
    "        mid = l + (r - l)//2\n",
    "        if nums[mid] > nums[r]:\n",
    "            l = mid + 1\n",
    "        else:\n",
    "            r = mid - 1\n",
    "    return nums[l]"
   ]
  },
  {
   "cell_type": "code",
   "execution_count": 69,
   "id": "6ca110a9",
   "metadata": {},
   "outputs": [
    {
     "data": {
      "text/plain": [
       "1"
      ]
     },
     "execution_count": 69,
     "metadata": {},
     "output_type": "execute_result"
    }
   ],
   "source": [
    "nums = [3,4,5,1,2]\n",
    "minimum_element_rotated(nums)"
   ]
  },
  {
   "cell_type": "code",
   "execution_count": 70,
   "id": "56ca6719",
   "metadata": {},
   "outputs": [
    {
     "data": {
      "text/plain": [
       "0"
      ]
     },
     "execution_count": 70,
     "metadata": {},
     "output_type": "execute_result"
    }
   ],
   "source": [
    "nums = [4,5,6,7,0,1,2]\n",
    "minimum_element_rotated(nums)"
   ]
  },
  {
   "cell_type": "markdown",
   "id": "4d0a4828",
   "metadata": {},
   "source": [
    "<aside>\n",
    "💡 **Question 7**\n",
    "\n",
    "Given an array of integers `nums` sorted in non-decreasing order, find the starting and ending position of a given `target` value.\n",
    "\n",
    "If `target` is not found in the array, return `[-1, -1]`.\n",
    "\n",
    "You must write an algorithm with `O(log n)` runtime complexity.\n",
    "\n",
    "**Example 1:**\n",
    "\n",
    "```\n",
    "Input: nums = [5,7,7,8,8,10], target = 8\n",
    "Output: [3,4]\n",
    "\n",
    "```\n",
    "\n",
    "**Example 2:**\n",
    "\n",
    "```\n",
    "Input: nums = [5,7,7,8,8,10], target = 6\n",
    "Output: [-1,-1]\n",
    "\n",
    "```\n",
    "\n",
    "**Example 3:**\n",
    "\n",
    "</aside>"
   ]
  },
  {
   "cell_type": "code",
   "execution_count": 75,
   "id": "e8453e10",
   "metadata": {},
   "outputs": [],
   "source": [
    "def find_start_end(nums,target):\n",
    "    l,r = 0, len(nums)-1\n",
    "    while l <= r and len(nums)!=0:\n",
    "        mid = l + (r - l)//2\n",
    "        if nums[mid] == target and nums[mid+1] == target:\n",
    "            return [mid,mid+1]\n",
    "        elif nums[mid] == target and nums[mid-1] == target:\n",
    "            return [mid-1,mid]\n",
    "        elif nums[mid] < target:\n",
    "            l = mid+1\n",
    "        else:\n",
    "            r = mid - 1\n",
    "    return [-1,-1]"
   ]
  },
  {
   "cell_type": "code",
   "execution_count": 76,
   "id": "e99ad167",
   "metadata": {},
   "outputs": [
    {
     "data": {
      "text/plain": [
       "[3, 4]"
      ]
     },
     "execution_count": 76,
     "metadata": {},
     "output_type": "execute_result"
    }
   ],
   "source": [
    "nums = [5,7,7,8,8,10]\n",
    "target = 8\n",
    "find_start_end(nums,target)"
   ]
  },
  {
   "cell_type": "code",
   "execution_count": 77,
   "id": "688f7c2f",
   "metadata": {},
   "outputs": [
    {
     "data": {
      "text/plain": [
       "[-1, -1]"
      ]
     },
     "execution_count": 77,
     "metadata": {},
     "output_type": "execute_result"
    }
   ],
   "source": [
    "nums = [5,7,7,8,8,10]\n",
    "target = 6\n",
    "find_start_end(nums,target)"
   ]
  },
  {
   "cell_type": "code",
   "execution_count": 78,
   "id": "8c3de0ac",
   "metadata": {},
   "outputs": [
    {
     "data": {
      "text/plain": [
       "[-1, -1]"
      ]
     },
     "execution_count": 78,
     "metadata": {},
     "output_type": "execute_result"
    }
   ],
   "source": [
    "nums = []\n",
    "target = 0\n",
    "find_start_end(nums,target)"
   ]
  },
  {
   "cell_type": "markdown",
   "id": "c3e8484c",
   "metadata": {},
   "source": [
    "<aside>\n",
    "💡 **Question 8**\n",
    "\n",
    "Given two integer arrays `nums1` and `nums2`, return *an array of their intersection*. Each element in the result must appear as many times as it shows in both arrays and you may return the result in **any order**.\n",
    "\n",
    "**Example 1:**\n",
    "\n",
    "```\n",
    "Input: nums1 = [1,2,2,1], nums2 = [2,2]\n",
    "Output: [2,2]\n",
    "\n",
    "```\n",
    "\n",
    "**Example 2:**\n",
    "\n",
    "Input: nums1 = [4,9,5], nums2 = [9,4,9,8,4]\n",
    "Output: [4,9]\n",
    "Explanation: [9,4] is also accepted.\n",
    "    \n",
    "</aside>"
   ]
  },
  {
   "cell_type": "code",
   "execution_count": 79,
   "id": "4884eaf9",
   "metadata": {},
   "outputs": [],
   "source": [
    "def binary_search(arr2,n,target):\n",
    "    l,r = 0, n\n",
    "    while l <=r:\n",
    "        mid = l + (r - l)//2\n",
    "        if arr2[mid] == target:\n",
    "            return mid\n",
    "        elif arr2[mid] > target:\n",
    "            r = mid - 1\n",
    "        else:\n",
    "            l = mid + 1\n",
    "    return -1"
   ]
  },
  {
   "cell_type": "code",
   "execution_count": 80,
   "id": "2c1cfbfc",
   "metadata": {},
   "outputs": [],
   "source": [
    "def intersection(arr1,arr2,m,n):\n",
    "    intersection = []\n",
    "    arr2.sort()\n",
    "    for i in range(m):\n",
    "        if binary_search(arr2,n,arr1[i]) != -1:\n",
    "            intersection.append(arr1[i])\n",
    "    return list(set(intersection))"
   ]
  },
  {
   "cell_type": "code",
   "execution_count": 81,
   "id": "57b9958a",
   "metadata": {},
   "outputs": [
    {
     "data": {
      "text/plain": [
       "[2]"
      ]
     },
     "execution_count": 81,
     "metadata": {},
     "output_type": "execute_result"
    }
   ],
   "source": [
    "nums1 = [1,2,2,1]\n",
    "nums2 = [2,2]\n",
    "m = len(nums1)\n",
    "n = len(nums2)\n",
    "intersection(nums1,nums2,m,n)"
   ]
  },
  {
   "cell_type": "code",
   "execution_count": 82,
   "id": "e8d210b4",
   "metadata": {},
   "outputs": [
    {
     "data": {
      "text/plain": [
       "[9, 4]"
      ]
     },
     "execution_count": 82,
     "metadata": {},
     "output_type": "execute_result"
    }
   ],
   "source": [
    "nums1 = [4,9,5]\n",
    "nums2 = [9,4,9,8,4]\n",
    "m = len(nums1)\n",
    "n = len(nums2)\n",
    "intersection(nums1,nums2,m,n)"
   ]
  },
  {
   "cell_type": "code",
   "execution_count": null,
   "id": "4fe35af0",
   "metadata": {},
   "outputs": [],
   "source": []
  }
 ],
 "metadata": {
  "kernelspec": {
   "display_name": "Python 3 (ipykernel)",
   "language": "python",
   "name": "python3"
  },
  "language_info": {
   "codemirror_mode": {
    "name": "ipython",
    "version": 3
   },
   "file_extension": ".py",
   "mimetype": "text/x-python",
   "name": "python",
   "nbconvert_exporter": "python",
   "pygments_lexer": "ipython3",
   "version": "3.9.12"
  }
 },
 "nbformat": 4,
 "nbformat_minor": 5
}
